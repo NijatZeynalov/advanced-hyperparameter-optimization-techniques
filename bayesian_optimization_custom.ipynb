{
 "cells": [
  {
   "cell_type": "code",
   "execution_count": 83,
   "metadata": {
    "_cell_guid": "b1076dfc-b9ad-4769-8c92-a6c4dae69d19",
    "_uuid": "8f2839f25d086af736a60e9eeb907d3b93b6e0e5"
   },
   "outputs": [
    {
     "name": "stdout",
     "output_type": "stream",
     "text": [
      "[16:00:59] WARNING: /Users/runner/work/xgboost/xgboost/python-package/build/temp.macosx-10.9-x86_64-3.7/xgboost/src/learner.cc:627: \n",
      "Parameters: { \"boosting_type\", \"metric\", \"min_child_samples\", \"num_leaves\", \"subsample_freq\", \"verbose\" } might not be used.\n",
      "\n",
      "  This could be a false alarm, with some parameters getting used by language bindings but\n",
      "  then being mistakenly passed down to XGBoost core, or some parameter actually being used\n",
      "  but getting flagged wrongly here. Please open an issue if you find any such cases.\n",
      "\n",
      "\n",
      "[16:01:23] WARNING: /Users/runner/work/xgboost/xgboost/python-package/build/temp.macosx-10.9-x86_64-3.7/xgboost/src/learner.cc:627: \n",
      "Parameters: { \"boosting_type\", \"metric\", \"min_child_samples\", \"num_leaves\", \"subsample_freq\", \"verbose\" } might not be used.\n",
      "\n",
      "  This could be a false alarm, with some parameters getting used by language bindings but\n",
      "  then being mistakenly passed down to XGBoost core, or some parameter actually being used\n",
      "  but getting flagged wrongly here. Please open an issue if you find any such cases.\n",
      "\n",
      "\n",
      "[16:01:44] WARNING: /Users/runner/work/xgboost/xgboost/python-package/build/temp.macosx-10.9-x86_64-3.7/xgboost/src/learner.cc:627: \n",
      "Parameters: { \"boosting_type\", \"metric\", \"min_child_samples\", \"num_leaves\", \"subsample_freq\", \"verbose\" } might not be used.\n",
      "\n",
      "  This could be a false alarm, with some parameters getting used by language bindings but\n",
      "  then being mistakenly passed down to XGBoost core, or some parameter actually being used\n",
      "  but getting flagged wrongly here. Please open an issue if you find any such cases.\n",
      "\n",
      "\n",
      "[16:01:00] WARNING: /Users/runner/work/xgboost/xgboost/python-package/build/temp.macosx-10.9-x86_64-3.7/xgboost/src/learner.cc:627: \n",
      "Parameters: { \"boosting_type\", \"metric\", \"min_child_samples\", \"num_leaves\", \"subsample_freq\", \"verbose\" } might not be used.\n",
      "\n",
      "  This could be a false alarm, with some parameters getting used by language bindings but\n",
      "  then being mistakenly passed down to XGBoost core, or some parameter actually being used\n",
      "  but getting flagged wrongly here. Please open an issue if you find any such cases.\n",
      "\n",
      "\n",
      "[16:01:23] WARNING: /Users/runner/work/xgboost/xgboost/python-package/build/temp.macosx-10.9-x86_64-3.7/xgboost/src/learner.cc:627: \n",
      "Parameters: { \"boosting_type\", \"metric\", \"min_child_samples\", \"num_leaves\", \"subsample_freq\", \"verbose\" } might not be used.\n",
      "\n",
      "  This could be a false alarm, with some parameters getting used by language bindings but\n",
      "  then being mistakenly passed down to XGBoost core, or some parameter actually being used\n",
      "  but getting flagged wrongly here. Please open an issue if you find any such cases.\n",
      "\n",
      "\n",
      "[16:01:44] WARNING: /Users/runner/work/xgboost/xgboost/python-package/build/temp.macosx-10.9-x86_64-3.7/xgboost/src/learner.cc:627: \n",
      "Parameters: { \"boosting_type\", \"metric\", \"min_child_samples\", \"num_leaves\", \"subsample_freq\", \"verbose\" } might not be used.\n",
      "\n",
      "  This could be a false alarm, with some parameters getting used by language bindings but\n",
      "  then being mistakenly passed down to XGBoost core, or some parameter actually being used\n",
      "  but getting flagged wrongly here. Please open an issue if you find any such cases.\n",
      "\n",
      "\n"
     ]
    }
   ],
   "source": [
    "# import Libraries\n",
    "import pandas as pd\n",
    "import numpy as np\n",
    "import matplotlib.pyplot as plt\n",
    "import seaborn as sns\n",
    "%matplotlib inline\n",
    "from sklearn.linear_model import LinearRegression\n",
    "from sklearn.model_selection import cross_val_score\n",
    "from time import time\n",
    "import pprint\n",
    "import joblib\n",
    "from functools import partial\n",
    "from skopt.utils import use_named_args # decorator to convert a list of parameters to named arguments\n",
    "from skopt import gp_minimize, forest_minimize\n",
    "from skopt import gbrt_minimize, dummy_minimize\n",
    "# Suppressing warnings because of skopt verbosity\n",
    "import warnings\n",
    "warnings.filterwarnings(\"ignore\")\n",
    "\n",
    "# Classifiers\n",
    "from xgboost import XGBRegressor\n",
    "\n",
    "# Model selection\n",
    "from sklearn.model_selection import KFold\n",
    "\n",
    "# Metrics\n",
    "from sklearn.metrics import mean_squared_error\n",
    "from sklearn.metrics import make_scorer\n",
    "\n",
    "# Skopt functions\n",
    "from skopt import BayesSearchCV\n",
    "from skopt.callbacks import DeadlineStopper, DeltaYStopper\n",
    "from skopt.space import Real, Categorical, Integer\n",
    "# to increase no. of rows and column visibility in outputs\n",
    "pd.set_option('display.max_rows', 2000)\n",
    "pd.set_option('display.max_columns', 2000)\n",
    "pd.set_option('display.width', 2000)"
   ]
  },
  {
   "cell_type": "code",
   "execution_count": 2,
   "metadata": {},
   "outputs": [],
   "source": [
    "#Import data\n",
    "train = pd.read_csv(r'data/Train.csv')\n",
    "test = pd.read_csv(r'data/Test.csv')"
   ]
  },
  {
   "cell_type": "markdown",
   "metadata": {},
   "source": [
    " **Basic Visulization**"
   ]
  },
  {
   "cell_type": "code",
   "execution_count": 3,
   "metadata": {},
   "outputs": [
    {
     "data": {
      "text/html": [
       "<div>\n",
       "<style scoped>\n",
       "    .dataframe tbody tr th:only-of-type {\n",
       "        vertical-align: middle;\n",
       "    }\n",
       "\n",
       "    .dataframe tbody tr th {\n",
       "        vertical-align: top;\n",
       "    }\n",
       "\n",
       "    .dataframe thead th {\n",
       "        text-align: right;\n",
       "    }\n",
       "</style>\n",
       "<table border=\"1\" class=\"dataframe\">\n",
       "  <thead>\n",
       "    <tr style=\"text-align: right;\">\n",
       "      <th></th>\n",
       "      <th>POSTED_BY</th>\n",
       "      <th>UNDER_CONSTRUCTION</th>\n",
       "      <th>RERA</th>\n",
       "      <th>BHK_NO.</th>\n",
       "      <th>BHK_OR_RK</th>\n",
       "      <th>SQUARE_FT</th>\n",
       "      <th>READY_TO_MOVE</th>\n",
       "      <th>RESALE</th>\n",
       "      <th>ADDRESS</th>\n",
       "      <th>LONGITUDE</th>\n",
       "      <th>LATITUDE</th>\n",
       "      <th>TARGET(PRICE_IN_LACS)</th>\n",
       "    </tr>\n",
       "  </thead>\n",
       "  <tbody>\n",
       "    <tr>\n",
       "      <th>0</th>\n",
       "      <td>Owner</td>\n",
       "      <td>0</td>\n",
       "      <td>0</td>\n",
       "      <td>2</td>\n",
       "      <td>BHK</td>\n",
       "      <td>1300.236407</td>\n",
       "      <td>1</td>\n",
       "      <td>1</td>\n",
       "      <td>Ksfc Layout,Bangalore</td>\n",
       "      <td>12.969910</td>\n",
       "      <td>77.597960</td>\n",
       "      <td>55.0</td>\n",
       "    </tr>\n",
       "    <tr>\n",
       "      <th>1</th>\n",
       "      <td>Dealer</td>\n",
       "      <td>0</td>\n",
       "      <td>0</td>\n",
       "      <td>2</td>\n",
       "      <td>BHK</td>\n",
       "      <td>1275.000000</td>\n",
       "      <td>1</td>\n",
       "      <td>1</td>\n",
       "      <td>Vishweshwara Nagar,Mysore</td>\n",
       "      <td>12.274538</td>\n",
       "      <td>76.644605</td>\n",
       "      <td>51.0</td>\n",
       "    </tr>\n",
       "    <tr>\n",
       "      <th>2</th>\n",
       "      <td>Owner</td>\n",
       "      <td>0</td>\n",
       "      <td>0</td>\n",
       "      <td>2</td>\n",
       "      <td>BHK</td>\n",
       "      <td>933.159722</td>\n",
       "      <td>1</td>\n",
       "      <td>1</td>\n",
       "      <td>Jigani,Bangalore</td>\n",
       "      <td>12.778033</td>\n",
       "      <td>77.632191</td>\n",
       "      <td>43.0</td>\n",
       "    </tr>\n",
       "    <tr>\n",
       "      <th>3</th>\n",
       "      <td>Owner</td>\n",
       "      <td>0</td>\n",
       "      <td>1</td>\n",
       "      <td>2</td>\n",
       "      <td>BHK</td>\n",
       "      <td>929.921143</td>\n",
       "      <td>1</td>\n",
       "      <td>1</td>\n",
       "      <td>Sector-1 Vaishali,Ghaziabad</td>\n",
       "      <td>28.642300</td>\n",
       "      <td>77.344500</td>\n",
       "      <td>62.5</td>\n",
       "    </tr>\n",
       "    <tr>\n",
       "      <th>4</th>\n",
       "      <td>Dealer</td>\n",
       "      <td>1</td>\n",
       "      <td>0</td>\n",
       "      <td>2</td>\n",
       "      <td>BHK</td>\n",
       "      <td>999.009247</td>\n",
       "      <td>0</td>\n",
       "      <td>1</td>\n",
       "      <td>New Town,Kolkata</td>\n",
       "      <td>22.592200</td>\n",
       "      <td>88.484911</td>\n",
       "      <td>60.5</td>\n",
       "    </tr>\n",
       "  </tbody>\n",
       "</table>\n",
       "</div>"
      ],
      "text/plain": [
       "  POSTED_BY  UNDER_CONSTRUCTION  RERA  BHK_NO. BHK_OR_RK    SQUARE_FT  READY_TO_MOVE  RESALE                      ADDRESS  LONGITUDE   LATITUDE  TARGET(PRICE_IN_LACS)\n",
       "0     Owner                   0     0        2       BHK  1300.236407              1       1        Ksfc Layout,Bangalore  12.969910  77.597960                   55.0\n",
       "1    Dealer                   0     0        2       BHK  1275.000000              1       1    Vishweshwara Nagar,Mysore  12.274538  76.644605                   51.0\n",
       "2     Owner                   0     0        2       BHK   933.159722              1       1             Jigani,Bangalore  12.778033  77.632191                   43.0\n",
       "3     Owner                   0     1        2       BHK   929.921143              1       1  Sector-1 Vaishali,Ghaziabad  28.642300  77.344500                   62.5\n",
       "4    Dealer                   1     0        2       BHK   999.009247              0       1             New Town,Kolkata  22.592200  88.484911                   60.5"
      ]
     },
     "execution_count": 3,
     "metadata": {},
     "output_type": "execute_result"
    },
    {
     "data": {
      "text/html": [
       "<div>\n",
       "<style scoped>\n",
       "    .dataframe tbody tr th:only-of-type {\n",
       "        vertical-align: middle;\n",
       "    }\n",
       "\n",
       "    .dataframe tbody tr th {\n",
       "        vertical-align: top;\n",
       "    }\n",
       "\n",
       "    .dataframe thead th {\n",
       "        text-align: right;\n",
       "    }\n",
       "</style>\n",
       "<table border=\"1\" class=\"dataframe\">\n",
       "  <thead>\n",
       "    <tr style=\"text-align: right;\">\n",
       "      <th></th>\n",
       "      <th>POSTED_BY</th>\n",
       "      <th>UNDER_CONSTRUCTION</th>\n",
       "      <th>RERA</th>\n",
       "      <th>BHK_NO.</th>\n",
       "      <th>BHK_OR_RK</th>\n",
       "      <th>SQUARE_FT</th>\n",
       "      <th>READY_TO_MOVE</th>\n",
       "      <th>RESALE</th>\n",
       "      <th>ADDRESS</th>\n",
       "      <th>LONGITUDE</th>\n",
       "      <th>LATITUDE</th>\n",
       "    </tr>\n",
       "  </thead>\n",
       "  <tbody>\n",
       "    <tr>\n",
       "      <th>0</th>\n",
       "      <td>Owner</td>\n",
       "      <td>0</td>\n",
       "      <td>0</td>\n",
       "      <td>1</td>\n",
       "      <td>BHK</td>\n",
       "      <td>545.171340</td>\n",
       "      <td>1</td>\n",
       "      <td>1</td>\n",
       "      <td>Kamrej,Surat</td>\n",
       "      <td>21.262000</td>\n",
       "      <td>73.047700</td>\n",
       "    </tr>\n",
       "    <tr>\n",
       "      <th>1</th>\n",
       "      <td>Dealer</td>\n",
       "      <td>1</td>\n",
       "      <td>1</td>\n",
       "      <td>2</td>\n",
       "      <td>BHK</td>\n",
       "      <td>800.000000</td>\n",
       "      <td>0</td>\n",
       "      <td>0</td>\n",
       "      <td>Panvel,Lalitpur</td>\n",
       "      <td>18.966114</td>\n",
       "      <td>73.148278</td>\n",
       "    </tr>\n",
       "    <tr>\n",
       "      <th>2</th>\n",
       "      <td>Dealer</td>\n",
       "      <td>0</td>\n",
       "      <td>0</td>\n",
       "      <td>2</td>\n",
       "      <td>BHK</td>\n",
       "      <td>1257.096513</td>\n",
       "      <td>1</td>\n",
       "      <td>1</td>\n",
       "      <td>New Town,Kolkata</td>\n",
       "      <td>22.592200</td>\n",
       "      <td>88.484911</td>\n",
       "    </tr>\n",
       "    <tr>\n",
       "      <th>3</th>\n",
       "      <td>Dealer</td>\n",
       "      <td>0</td>\n",
       "      <td>0</td>\n",
       "      <td>3</td>\n",
       "      <td>BHK</td>\n",
       "      <td>1400.329489</td>\n",
       "      <td>1</td>\n",
       "      <td>1</td>\n",
       "      <td>Kalwar Road,Jaipur</td>\n",
       "      <td>26.988300</td>\n",
       "      <td>75.584600</td>\n",
       "    </tr>\n",
       "    <tr>\n",
       "      <th>4</th>\n",
       "      <td>Owner</td>\n",
       "      <td>0</td>\n",
       "      <td>0</td>\n",
       "      <td>1</td>\n",
       "      <td>BHK</td>\n",
       "      <td>430.477830</td>\n",
       "      <td>1</td>\n",
       "      <td>1</td>\n",
       "      <td>Mai Mandir,Nadiad</td>\n",
       "      <td>22.700000</td>\n",
       "      <td>72.870000</td>\n",
       "    </tr>\n",
       "  </tbody>\n",
       "</table>\n",
       "</div>"
      ],
      "text/plain": [
       "  POSTED_BY  UNDER_CONSTRUCTION  RERA  BHK_NO. BHK_OR_RK    SQUARE_FT  READY_TO_MOVE  RESALE             ADDRESS  LONGITUDE   LATITUDE\n",
       "0     Owner                   0     0        1       BHK   545.171340              1       1        Kamrej,Surat  21.262000  73.047700\n",
       "1    Dealer                   1     1        2       BHK   800.000000              0       0     Panvel,Lalitpur  18.966114  73.148278\n",
       "2    Dealer                   0     0        2       BHK  1257.096513              1       1    New Town,Kolkata  22.592200  88.484911\n",
       "3    Dealer                   0     0        3       BHK  1400.329489              1       1  Kalwar Road,Jaipur  26.988300  75.584600\n",
       "4     Owner                   0     0        1       BHK   430.477830              1       1   Mai Mandir,Nadiad  22.700000  72.870000"
      ]
     },
     "execution_count": 3,
     "metadata": {},
     "output_type": "execute_result"
    },
    {
     "data": {
      "text/plain": [
       "((29451, 12), (68720, 11))"
      ]
     },
     "execution_count": 3,
     "metadata": {},
     "output_type": "execute_result"
    }
   ],
   "source": [
    "# Having a look at data and its shape \n",
    "train.head()\n",
    "test.head()\n",
    "train.shape ,test.shape "
   ]
  },
  {
   "cell_type": "markdown",
   "id": "315d8a84",
   "metadata": {},
   "source": [
    "### Summarizing the number of unique values in each column\n"
   ]
  },
  {
   "cell_type": "code",
   "execution_count": 4,
   "id": "d2e06638",
   "metadata": {},
   "outputs": [
    {
     "name": "stdout",
     "output_type": "stream",
     "text": [
      "POSTED_BY                    3\n",
      "UNDER_CONSTRUCTION           2\n",
      "RERA                         2\n",
      "BHK_NO.                     16\n",
      "BHK_OR_RK                    2\n",
      "SQUARE_FT                19561\n",
      "READY_TO_MOVE                2\n",
      "RESALE                       2\n",
      "ADDRESS                   6899\n",
      "LONGITUDE                 4087\n",
      "LATITUDE                  4078\n",
      "TARGET(PRICE_IN_LACS)     1172\n",
      "dtype: int64\n",
      "POSTED_BY                 3\n",
      "UNDER_CONSTRUCTION        2\n",
      "RERA                      2\n",
      "BHK_NO.                  17\n",
      "BHK_OR_RK                 2\n",
      "SQUARE_FT             37704\n",
      "READY_TO_MOVE             2\n",
      "RESALE                    2\n",
      "ADDRESS               11048\n",
      "LONGITUDE              5907\n",
      "LATITUDE               5914\n",
      "dtype: int64\n"
     ]
    }
   ],
   "source": [
    "print(train.nunique())\n",
    "print(test.nunique())"
   ]
  },
  {
   "cell_type": "markdown",
   "id": "5061d9e3",
   "metadata": {},
   "source": [
    "### Columns with  single value"
   ]
  },
  {
   "cell_type": "markdown",
   "id": "2610f3ee",
   "metadata": {},
   "source": [
    "Columns that have a single value are probably useless for modeling. These\n",
    "columns are referred to zero-variance predictors, so we dont need to use them anymore."
   ]
  },
  {
   "cell_type": "code",
   "execution_count": 5,
   "id": "cb2e23bf",
   "metadata": {},
   "outputs": [
    {
     "data": {
      "text/plain": [
       "[]"
      ]
     },
     "execution_count": 5,
     "metadata": {},
     "output_type": "execute_result"
    }
   ],
   "source": [
    "values = train.nunique()\n",
    "single_value_cols = [values.index[i] for i,v in enumerate(values) if v == 1]\n",
    "single_value_cols"
   ]
  },
  {
   "cell_type": "code",
   "execution_count": 6,
   "id": "68a2f6fb",
   "metadata": {},
   "outputs": [],
   "source": [
    "train.drop(single_value_cols, axis=1, inplace=True)"
   ]
  },
  {
   "cell_type": "markdown",
   "id": "33b00d80",
   "metadata": {},
   "source": [
    "### Checking duplicate rows\n",
    "\n",
    "Duplicate row is a row where each value in each column for that row appears in identically the same column values in another row.  They are could be useless to the modeling process. \n",
    "\n",
    "duplicated() function will report whether a given row is duplicated or not. All\n",
    "rows are marked as either False to indicate that it is not a duplicate or True to indicate that\n",
    "it is a duplicate."
   ]
  },
  {
   "cell_type": "code",
   "execution_count": 7,
   "id": "65260d81",
   "metadata": {},
   "outputs": [
    {
     "name": "stdout",
     "output_type": "stream",
     "text": [
      "True\n"
     ]
    }
   ],
   "source": [
    "dups = train.duplicated()\n",
    "print(dups.any())"
   ]
  },
  {
   "cell_type": "code",
   "execution_count": 8,
   "id": "b09e3aa7",
   "metadata": {},
   "outputs": [
    {
     "data": {
      "text/html": [
       "<div>\n",
       "<style scoped>\n",
       "    .dataframe tbody tr th:only-of-type {\n",
       "        vertical-align: middle;\n",
       "    }\n",
       "\n",
       "    .dataframe tbody tr th {\n",
       "        vertical-align: top;\n",
       "    }\n",
       "\n",
       "    .dataframe thead th {\n",
       "        text-align: right;\n",
       "    }\n",
       "</style>\n",
       "<table border=\"1\" class=\"dataframe\">\n",
       "  <thead>\n",
       "    <tr style=\"text-align: right;\">\n",
       "      <th></th>\n",
       "      <th>POSTED_BY</th>\n",
       "      <th>UNDER_CONSTRUCTION</th>\n",
       "      <th>RERA</th>\n",
       "      <th>BHK_NO.</th>\n",
       "      <th>BHK_OR_RK</th>\n",
       "      <th>SQUARE_FT</th>\n",
       "      <th>READY_TO_MOVE</th>\n",
       "      <th>RESALE</th>\n",
       "      <th>ADDRESS</th>\n",
       "      <th>LONGITUDE</th>\n",
       "      <th>LATITUDE</th>\n",
       "      <th>TARGET(PRICE_IN_LACS)</th>\n",
       "    </tr>\n",
       "  </thead>\n",
       "  <tbody>\n",
       "    <tr>\n",
       "      <th>0</th>\n",
       "      <td>Owner</td>\n",
       "      <td>0</td>\n",
       "      <td>0</td>\n",
       "      <td>2</td>\n",
       "      <td>BHK</td>\n",
       "      <td>1300.236407</td>\n",
       "      <td>1</td>\n",
       "      <td>1</td>\n",
       "      <td>Ksfc Layout,Bangalore</td>\n",
       "      <td>12.969910</td>\n",
       "      <td>77.597960</td>\n",
       "      <td>55.0</td>\n",
       "    </tr>\n",
       "    <tr>\n",
       "      <th>1</th>\n",
       "      <td>Dealer</td>\n",
       "      <td>0</td>\n",
       "      <td>0</td>\n",
       "      <td>2</td>\n",
       "      <td>BHK</td>\n",
       "      <td>1275.000000</td>\n",
       "      <td>1</td>\n",
       "      <td>1</td>\n",
       "      <td>Vishweshwara Nagar,Mysore</td>\n",
       "      <td>12.274538</td>\n",
       "      <td>76.644605</td>\n",
       "      <td>51.0</td>\n",
       "    </tr>\n",
       "    <tr>\n",
       "      <th>2</th>\n",
       "      <td>Owner</td>\n",
       "      <td>0</td>\n",
       "      <td>0</td>\n",
       "      <td>2</td>\n",
       "      <td>BHK</td>\n",
       "      <td>933.159722</td>\n",
       "      <td>1</td>\n",
       "      <td>1</td>\n",
       "      <td>Jigani,Bangalore</td>\n",
       "      <td>12.778033</td>\n",
       "      <td>77.632191</td>\n",
       "      <td>43.0</td>\n",
       "    </tr>\n",
       "    <tr>\n",
       "      <th>3</th>\n",
       "      <td>Owner</td>\n",
       "      <td>0</td>\n",
       "      <td>1</td>\n",
       "      <td>2</td>\n",
       "      <td>BHK</td>\n",
       "      <td>929.921143</td>\n",
       "      <td>1</td>\n",
       "      <td>1</td>\n",
       "      <td>Sector-1 Vaishali,Ghaziabad</td>\n",
       "      <td>28.642300</td>\n",
       "      <td>77.344500</td>\n",
       "      <td>62.5</td>\n",
       "    </tr>\n",
       "    <tr>\n",
       "      <th>4</th>\n",
       "      <td>Dealer</td>\n",
       "      <td>1</td>\n",
       "      <td>0</td>\n",
       "      <td>2</td>\n",
       "      <td>BHK</td>\n",
       "      <td>999.009247</td>\n",
       "      <td>0</td>\n",
       "      <td>1</td>\n",
       "      <td>New Town,Kolkata</td>\n",
       "      <td>22.592200</td>\n",
       "      <td>88.484911</td>\n",
       "      <td>60.5</td>\n",
       "    </tr>\n",
       "    <tr>\n",
       "      <th>...</th>\n",
       "      <td>...</td>\n",
       "      <td>...</td>\n",
       "      <td>...</td>\n",
       "      <td>...</td>\n",
       "      <td>...</td>\n",
       "      <td>...</td>\n",
       "      <td>...</td>\n",
       "      <td>...</td>\n",
       "      <td>...</td>\n",
       "      <td>...</td>\n",
       "      <td>...</td>\n",
       "      <td>...</td>\n",
       "    </tr>\n",
       "    <tr>\n",
       "      <th>29446</th>\n",
       "      <td>Owner</td>\n",
       "      <td>0</td>\n",
       "      <td>0</td>\n",
       "      <td>3</td>\n",
       "      <td>BHK</td>\n",
       "      <td>2500.000000</td>\n",
       "      <td>1</td>\n",
       "      <td>1</td>\n",
       "      <td>Shamshabad Road,Agra</td>\n",
       "      <td>27.140626</td>\n",
       "      <td>78.043277</td>\n",
       "      <td>45.0</td>\n",
       "    </tr>\n",
       "    <tr>\n",
       "      <th>29447</th>\n",
       "      <td>Owner</td>\n",
       "      <td>0</td>\n",
       "      <td>0</td>\n",
       "      <td>2</td>\n",
       "      <td>BHK</td>\n",
       "      <td>769.230769</td>\n",
       "      <td>1</td>\n",
       "      <td>1</td>\n",
       "      <td>E3-108, Lake View Recidency,,Vapi</td>\n",
       "      <td>39.945409</td>\n",
       "      <td>-86.150721</td>\n",
       "      <td>16.0</td>\n",
       "    </tr>\n",
       "    <tr>\n",
       "      <th>29448</th>\n",
       "      <td>Dealer</td>\n",
       "      <td>0</td>\n",
       "      <td>0</td>\n",
       "      <td>2</td>\n",
       "      <td>BHK</td>\n",
       "      <td>1022.641509</td>\n",
       "      <td>1</td>\n",
       "      <td>1</td>\n",
       "      <td>Ajmer Road,Jaipur</td>\n",
       "      <td>26.928785</td>\n",
       "      <td>75.828002</td>\n",
       "      <td>27.1</td>\n",
       "    </tr>\n",
       "    <tr>\n",
       "      <th>29449</th>\n",
       "      <td>Owner</td>\n",
       "      <td>0</td>\n",
       "      <td>0</td>\n",
       "      <td>2</td>\n",
       "      <td>BHK</td>\n",
       "      <td>927.079009</td>\n",
       "      <td>1</td>\n",
       "      <td>1</td>\n",
       "      <td>Sholinganallur,Chennai</td>\n",
       "      <td>12.900150</td>\n",
       "      <td>80.227910</td>\n",
       "      <td>67.0</td>\n",
       "    </tr>\n",
       "    <tr>\n",
       "      <th>29450</th>\n",
       "      <td>Dealer</td>\n",
       "      <td>0</td>\n",
       "      <td>1</td>\n",
       "      <td>2</td>\n",
       "      <td>BHK</td>\n",
       "      <td>896.774194</td>\n",
       "      <td>1</td>\n",
       "      <td>1</td>\n",
       "      <td>Jagatpura,Jaipur</td>\n",
       "      <td>26.832353</td>\n",
       "      <td>75.841749</td>\n",
       "      <td>27.8</td>\n",
       "    </tr>\n",
       "  </tbody>\n",
       "</table>\n",
       "<p>29050 rows × 12 columns</p>\n",
       "</div>"
      ],
      "text/plain": [
       "      POSTED_BY  UNDER_CONSTRUCTION  RERA  BHK_NO. BHK_OR_RK    SQUARE_FT  READY_TO_MOVE  RESALE                            ADDRESS  LONGITUDE   LATITUDE  TARGET(PRICE_IN_LACS)\n",
       "0         Owner                   0     0        2       BHK  1300.236407              1       1              Ksfc Layout,Bangalore  12.969910  77.597960                   55.0\n",
       "1        Dealer                   0     0        2       BHK  1275.000000              1       1          Vishweshwara Nagar,Mysore  12.274538  76.644605                   51.0\n",
       "2         Owner                   0     0        2       BHK   933.159722              1       1                   Jigani,Bangalore  12.778033  77.632191                   43.0\n",
       "3         Owner                   0     1        2       BHK   929.921143              1       1        Sector-1 Vaishali,Ghaziabad  28.642300  77.344500                   62.5\n",
       "4        Dealer                   1     0        2       BHK   999.009247              0       1                   New Town,Kolkata  22.592200  88.484911                   60.5\n",
       "...         ...                 ...   ...      ...       ...          ...            ...     ...                                ...        ...        ...                    ...\n",
       "29446     Owner                   0     0        3       BHK  2500.000000              1       1               Shamshabad Road,Agra  27.140626  78.043277                   45.0\n",
       "29447     Owner                   0     0        2       BHK   769.230769              1       1  E3-108, Lake View Recidency,,Vapi  39.945409 -86.150721                   16.0\n",
       "29448    Dealer                   0     0        2       BHK  1022.641509              1       1                  Ajmer Road,Jaipur  26.928785  75.828002                   27.1\n",
       "29449     Owner                   0     0        2       BHK   927.079009              1       1             Sholinganallur,Chennai  12.900150  80.227910                   67.0\n",
       "29450    Dealer                   0     1        2       BHK   896.774194              1       1                   Jagatpura,Jaipur  26.832353  75.841749                   27.8\n",
       "\n",
       "[29050 rows x 12 columns]"
      ]
     },
     "execution_count": 8,
     "metadata": {},
     "output_type": "execute_result"
    }
   ],
   "source": [
    "train = train.drop_duplicates(keep = 'first')\n",
    "train"
   ]
  },
  {
   "cell_type": "code",
   "execution_count": 9,
   "id": "56e23c62",
   "metadata": {},
   "outputs": [],
   "source": [
    "test = test.drop_duplicates(keep = 'first')"
   ]
  },
  {
   "cell_type": "code",
   "execution_count": 10,
   "metadata": {},
   "outputs": [
    {
     "name": "stdout",
     "output_type": "stream",
     "text": [
      "<class 'pandas.core.frame.DataFrame'>\n",
      "Int64Index: 29050 entries, 0 to 29450\n",
      "Data columns (total 12 columns):\n",
      " #   Column                 Non-Null Count  Dtype  \n",
      "---  ------                 --------------  -----  \n",
      " 0   POSTED_BY              29050 non-null  object \n",
      " 1   UNDER_CONSTRUCTION     29050 non-null  int64  \n",
      " 2   RERA                   29050 non-null  int64  \n",
      " 3   BHK_NO.                29050 non-null  int64  \n",
      " 4   BHK_OR_RK              29050 non-null  object \n",
      " 5   SQUARE_FT              29050 non-null  float64\n",
      " 6   READY_TO_MOVE          29050 non-null  int64  \n",
      " 7   RESALE                 29050 non-null  int64  \n",
      " 8   ADDRESS                29050 non-null  object \n",
      " 9   LONGITUDE              29050 non-null  float64\n",
      " 10  LATITUDE               29050 non-null  float64\n",
      " 11  TARGET(PRICE_IN_LACS)  29050 non-null  float64\n",
      "dtypes: float64(4), int64(5), object(3)\n",
      "memory usage: 2.9+ MB\n",
      "<class 'pandas.core.frame.DataFrame'>\n",
      "Int64Index: 66250 entries, 0 to 68719\n",
      "Data columns (total 11 columns):\n",
      " #   Column              Non-Null Count  Dtype  \n",
      "---  ------              --------------  -----  \n",
      " 0   POSTED_BY           66250 non-null  object \n",
      " 1   UNDER_CONSTRUCTION  66250 non-null  int64  \n",
      " 2   RERA                66250 non-null  int64  \n",
      " 3   BHK_NO.             66250 non-null  int64  \n",
      " 4   BHK_OR_RK           66250 non-null  object \n",
      " 5   SQUARE_FT           66250 non-null  float64\n",
      " 6   READY_TO_MOVE       66250 non-null  int64  \n",
      " 7   RESALE              66250 non-null  int64  \n",
      " 8   ADDRESS             66250 non-null  object \n",
      " 9   LONGITUDE           66250 non-null  float64\n",
      " 10  LATITUDE            66250 non-null  float64\n",
      "dtypes: float64(3), int64(5), object(3)\n",
      "memory usage: 6.1+ MB\n"
     ]
    }
   ],
   "source": [
    "# to check type of columns and identify whether missing values exist or not\n",
    "train.info()\n",
    "test.info()"
   ]
  },
  {
   "cell_type": "code",
   "execution_count": 11,
   "metadata": {},
   "outputs": [
    {
     "data": {
      "text/plain": [
       "Index(['POSTED_BY', 'UNDER_CONSTRUCTION', 'RERA', 'BHK_NO.', 'BHK_OR_RK', 'SQUARE_FT', 'READY_TO_MOVE', 'RESALE', 'ADDRESS', 'LONGITUDE', 'LATITUDE', 'TARGET(PRICE_IN_LACS)'], dtype='object')"
      ]
     },
     "execution_count": 11,
     "metadata": {},
     "output_type": "execute_result"
    }
   ],
   "source": [
    "train.columns"
   ]
  },
  {
   "cell_type": "code",
   "execution_count": 12,
   "metadata": {},
   "outputs": [],
   "source": [
    "#Conerting categorical variable to numeric\n",
    "train['BHK_OR_RK']=train['BHK_OR_RK'].replace({'BHK':0,'RK':1})\n",
    "train['POSTED_BY']=train['POSTED_BY'].replace({'Owner':0,'Dealer':1,'Builder':2})\n",
    "\n",
    "test['BHK_OR_RK']=test['BHK_OR_RK'].replace({'BHK':0,'RK':1})\n",
    "test['POSTED_BY']=test['POSTED_BY'].replace({'Owner':0,'Dealer':1,'Builder':2})"
   ]
  },
  {
   "cell_type": "code",
   "execution_count": 13,
   "metadata": {},
   "outputs": [
    {
     "data": {
      "text/plain": [
       "<AxesSubplot:title={'center':'Price Distribution'}, ylabel='Density'>"
      ]
     },
     "execution_count": 13,
     "metadata": {},
     "output_type": "execute_result"
    },
    {
     "data": {
      "image/png": "[encoded data removed]",
      "text/plain": [
       "<Figure size 432x288 with 1 Axes>"
      ]
     },
     "metadata": {
      "needs_background": "light"
     },
     "output_type": "display_data"
    }
   ],
   "source": [
    "# found out that there is no. missing value and only one address as object type variable\n",
    "# Target varibale distribution \n",
    "train['TARGET(PRICE_IN_LACS)'].plot(kind = 'density', title = 'Price Distribution')"
   ]
  },
  {
   "cell_type": "code",
   "execution_count": 14,
   "metadata": {},
   "outputs": [],
   "source": [
    "train['TARGET_log']=np.log1p(train['TARGET(PRICE_IN_LACS)'])"
   ]
  },
  {
   "cell_type": "code",
   "execution_count": 15,
   "metadata": {},
   "outputs": [
    {
     "data": {
      "text/plain": [
       "<AxesSubplot:title={'center':'log of Price Distribution'}, ylabel='Density'>"
      ]
     },
     "execution_count": 15,
     "metadata": {},
     "output_type": "execute_result"
    },
    {
     "data": {
      "image/png": "[encoded data removed]",
      "text/plain": [
       "<Figure size 432x288 with 1 Axes>"
      ]
     },
     "metadata": {
      "needs_background": "light"
     },
     "output_type": "display_data"
    }
   ],
   "source": [
    "# Transforming target varible(log transformation), because target is to optimize Root mean square log error\n",
    "# and checking log transformed varibale distribution\n",
    "train['TARGET_log'].plot(kind = 'density', title = 'log of Price Distribution')"
   ]
  },
  {
   "cell_type": "code",
   "execution_count": 16,
   "metadata": {},
   "outputs": [],
   "source": [
    "del train['TARGET(PRICE_IN_LACS)']"
   ]
  },
  {
   "cell_type": "code",
   "execution_count": 17,
   "metadata": {},
   "outputs": [
    {
     "data": {
      "image/png": "[encoded data removed]",
      "text/plain": [
       "<Figure size 1728x720 with 6 Axes>"
      ]
     },
     "metadata": {},
     "output_type": "display_data"
    }
   ],
   "source": [
    "# Analysing distribution in Categorical varibales \n",
    "cat_cols = ['POSTED_BY', 'UNDER_CONSTRUCTION', 'RERA', 'BHK_NO.', 'BHK_OR_RK', 'RESALE']\n",
    "fig, axes = plt.subplots(1,6, figsize=(24, 10))\n",
    "\n",
    "for i, c in enumerate(['POSTED_BY', 'UNDER_CONSTRUCTION', 'RERA', 'BHK_NO.', 'BHK_OR_RK', 'RESALE']):\n",
    "    _ = train[c].value_counts()[::-1].plot(kind = 'pie', ax=axes[i], title=c, autopct='%.0f', fontsize=18)\n",
    "    _ = axes[i].set_ylabel('')\n",
    "    \n",
    "_ = plt.tight_layout()"
   ]
  },
  {
   "cell_type": "code",
   "execution_count": 83,
   "metadata": {},
   "outputs": [
    {
     "data": {
      "text/plain": [
       "<Figure size 864x360 with 0 Axes>"
      ]
     },
     "execution_count": 83,
     "metadata": {},
     "output_type": "execute_result"
    },
    {
     "data": {
      "text/plain": [
       "Text(0.5, 1.0, 'Distribution of UNDER_CONSTRUCTION')"
      ]
     },
     "execution_count": 83,
     "metadata": {},
     "output_type": "execute_result"
    },
    {
     "data": {
      "image/png": "[encoded data removed]",
      "text/plain": [
       "<Figure size 864x360 with 1 Axes>"
      ]
     },
     "metadata": {
      "needs_background": "light"
     },
     "output_type": "display_data"
    },
    {
     "data": {
      "text/plain": [
       "<Figure size 864x360 with 0 Axes>"
      ]
     },
     "execution_count": 83,
     "metadata": {},
     "output_type": "execute_result"
    },
    {
     "data": {
      "text/plain": [
       "Text(0.5, 1.0, 'Distribution of RERA')"
      ]
     },
     "execution_count": 83,
     "metadata": {},
     "output_type": "execute_result"
    },
    {
     "data": {
      "image/png": "[encoded data removed]",
      "text/plain": [
       "<Figure size 864x360 with 1 Axes>"
      ]
     },
     "metadata": {
      "needs_background": "light"
     },
     "output_type": "display_data"
    },
    {
     "data": {
      "text/plain": [
       "<Figure size 864x360 with 0 Axes>"
      ]
     },
     "execution_count": 83,
     "metadata": {},
     "output_type": "execute_result"
    },
    {
     "data": {
      "text/plain": [
       "Text(0.5, 1.0, 'Distribution of BHK_NO.')"
      ]
     },
     "execution_count": 83,
     "metadata": {},
     "output_type": "execute_result"
    },
    {
     "data": {
      "image/png": "[encoded data removed]",
      "text/plain": [
       "<Figure size 864x360 with 1 Axes>"
      ]
     },
     "metadata": {
      "needs_background": "light"
     },
     "output_type": "display_data"
    },
    {
     "data": {
      "text/plain": [
       "<Figure size 864x360 with 0 Axes>"
      ]
     },
     "execution_count": 83,
     "metadata": {},
     "output_type": "execute_result"
    },
    {
     "data": {
      "text/plain": [
       "Text(0.5, 1.0, 'Distribution of BHK_OR_RK')"
      ]
     },
     "execution_count": 83,
     "metadata": {},
     "output_type": "execute_result"
    },
    {
     "data": {
      "image/png": "[encoded data removed]",
      "text/plain": [
       "<Figure size 864x360 with 1 Axes>"
      ]
     },
     "metadata": {
      "needs_background": "light"
     },
     "output_type": "display_data"
    },
    {
     "data": {
      "text/plain": [
       "<Figure size 864x360 with 0 Axes>"
      ]
     },
     "execution_count": 83,
     "metadata": {},
     "output_type": "execute_result"
    },
    {
     "data": {
      "text/plain": [
       "Text(0.5, 1.0, 'Distribution of SQUARE_FT')"
      ]
     },
     "execution_count": 83,
     "metadata": {},
     "output_type": "execute_result"
    },
    {
     "data": {
      "image/png": "[encoded data removed]",
      "text/plain": [
       "<Figure size 864x360 with 1 Axes>"
      ]
     },
     "metadata": {
      "needs_background": "light"
     },
     "output_type": "display_data"
    },
    {
     "data": {
      "text/plain": [
       "<Figure size 864x360 with 0 Axes>"
      ]
     },
     "execution_count": 83,
     "metadata": {},
     "output_type": "execute_result"
    },
    {
     "data": {
      "text/plain": [
       "Text(0.5, 1.0, 'Distribution of READY_TO_MOVE')"
      ]
     },
     "execution_count": 83,
     "metadata": {},
     "output_type": "execute_result"
    },
    {
     "data": {
      "image/png": "[encoded data removed]",
      "text/plain": [
       "<Figure size 864x360 with 1 Axes>"
      ]
     },
     "metadata": {
      "needs_background": "light"
     },
     "output_type": "display_data"
    },
    {
     "data": {
      "text/plain": [
       "<Figure size 864x360 with 0 Axes>"
      ]
     },
     "execution_count": 83,
     "metadata": {},
     "output_type": "execute_result"
    },
    {
     "data": {
      "text/plain": [
       "Text(0.5, 1.0, 'Distribution of RESALE')"
      ]
     },
     "execution_count": 83,
     "metadata": {},
     "output_type": "execute_result"
    },
    {
     "data": {
      "image/png": "[encoded data removed]",
      "text/plain": [
       "<Figure size 864x360 with 1 Axes>"
      ]
     },
     "metadata": {
      "needs_background": "light"
     },
     "output_type": "display_data"
    },
    {
     "data": {
      "text/plain": [
       "<Figure size 864x360 with 0 Axes>"
      ]
     },
     "execution_count": 83,
     "metadata": {},
     "output_type": "execute_result"
    },
    {
     "data": {
      "text/plain": [
       "Text(0.5, 1.0, 'Distribution of LONGITUDE')"
      ]
     },
     "execution_count": 83,
     "metadata": {},
     "output_type": "execute_result"
    },
    {
     "data": {
      "image/png": "[encoded data removed]",
      "text/plain": [
       "<Figure size 864x360 with 1 Axes>"
      ]
     },
     "metadata": {
      "needs_background": "light"
     },
     "output_type": "display_data"
    },
    {
     "data": {
      "text/plain": [
       "<Figure size 864x360 with 0 Axes>"
      ]
     },
     "execution_count": 83,
     "metadata": {},
     "output_type": "execute_result"
    },
    {
     "data": {
      "text/plain": [
       "Text(0.5, 1.0, 'Distribution of LATITUDE')"
      ]
     },
     "execution_count": 83,
     "metadata": {},
     "output_type": "execute_result"
    },
    {
     "data": {
      "image/png": "[encoded data removed]",
      "text/plain": [
       "<Figure size 864x360 with 1 Axes>"
      ]
     },
     "metadata": {
      "needs_background": "light"
     },
     "output_type": "display_data"
    },
    {
     "data": {
      "text/plain": [
       "<Figure size 864x360 with 0 Axes>"
      ]
     },
     "execution_count": 83,
     "metadata": {},
     "output_type": "execute_result"
    },
    {
     "data": {
      "text/plain": [
       "Text(0.5, 1.0, 'Distribution of TARGET_log')"
      ]
     },
     "execution_count": 83,
     "metadata": {},
     "output_type": "execute_result"
    },
    {
     "data": {
      "image/png": "[encoded data removed]",
      "text/plain": [
       "<Figure size 864x360 with 1 Axes>"
      ]
     },
     "metadata": {
      "needs_background": "light"
     },
     "output_type": "display_data"
    }
   ],
   "source": [
    "numeric = train.select_dtypes(include = 'number')\n",
    "for col in list(numeric)[1:]:\n",
    "    plt.figure(figsize=(12,5))\n",
    "    plt.title(f\"Distribution of {col}\")\n",
    "    ax = sns.distplot(train[col])\n",
    "    plt.show()"
   ]
  },
  {
   "cell_type": "code",
   "execution_count": 18,
   "metadata": {},
   "outputs": [
    {
     "data": {
      "text/plain": [
       "<Figure size 1080x576 with 0 Axes>"
      ]
     },
     "execution_count": 18,
     "metadata": {},
     "output_type": "execute_result"
    },
    {
     "data": {
      "text/plain": [
       "<AxesSubplot:>"
      ]
     },
     "execution_count": 18,
     "metadata": {},
     "output_type": "execute_result"
    },
    {
     "data": {
      "image/png": "[encoded data removed]",
      "text/plain": [
       "<Figure size 1080x576 with 2 Axes>"
      ]
     },
     "metadata": {
      "needs_background": "light"
     },
     "output_type": "display_data"
    }
   ],
   "source": [
    "# Checking correlation\n",
    "plt.figure(figsize=(15, 8))\n",
    "sns.heatmap(train.corr(),annot=True)"
   ]
  },
  {
   "cell_type": "markdown",
   "metadata": {},
   "source": [
    "# Feature Engineering"
   ]
  },
  {
   "cell_type": "code",
   "execution_count": 19,
   "metadata": {},
   "outputs": [],
   "source": [
    "train['sq_per_room']=train['SQUARE_FT']/train['BHK_NO.']\n",
    "test['sq_per_room']=test['SQUARE_FT']/test['BHK_NO.']"
   ]
  },
  {
   "cell_type": "code",
   "execution_count": 20,
   "metadata": {},
   "outputs": [],
   "source": [
    "# Extracting name of city and locality of house\n",
    "train['City']=train['ADDRESS'].str.split(',').str.get(-1)\n",
    "train['locality']=train['ADDRESS'].str.split(',').str.get(-2)\n",
    "\n",
    "test['City']=test['ADDRESS'].str.split(',').str.get(-1)\n",
    "test['locality']=test['ADDRESS'].str.split(',').str.get(-2)"
   ]
  },
  {
   "cell_type": "code",
   "execution_count": 21,
   "metadata": {},
   "outputs": [
    {
     "data": {
      "text/html": [
       "<div>\n",
       "<style scoped>\n",
       "    .dataframe tbody tr th:only-of-type {\n",
       "        vertical-align: middle;\n",
       "    }\n",
       "\n",
       "    .dataframe tbody tr th {\n",
       "        vertical-align: top;\n",
       "    }\n",
       "\n",
       "    .dataframe thead th {\n",
       "        text-align: right;\n",
       "    }\n",
       "</style>\n",
       "<table border=\"1\" class=\"dataframe\">\n",
       "  <thead>\n",
       "    <tr style=\"text-align: right;\">\n",
       "      <th></th>\n",
       "      <th>POSTED_BY</th>\n",
       "      <th>UNDER_CONSTRUCTION</th>\n",
       "      <th>RERA</th>\n",
       "      <th>BHK_NO.</th>\n",
       "      <th>BHK_OR_RK</th>\n",
       "      <th>SQUARE_FT</th>\n",
       "      <th>READY_TO_MOVE</th>\n",
       "      <th>RESALE</th>\n",
       "      <th>ADDRESS</th>\n",
       "      <th>LONGITUDE</th>\n",
       "      <th>LATITUDE</th>\n",
       "      <th>TARGET_log</th>\n",
       "      <th>sq_per_room</th>\n",
       "      <th>City</th>\n",
       "      <th>locality</th>\n",
       "    </tr>\n",
       "  </thead>\n",
       "  <tbody>\n",
       "    <tr>\n",
       "      <th>0</th>\n",
       "      <td>0</td>\n",
       "      <td>0</td>\n",
       "      <td>0</td>\n",
       "      <td>2</td>\n",
       "      <td>0</td>\n",
       "      <td>1300.236407</td>\n",
       "      <td>1</td>\n",
       "      <td>1</td>\n",
       "      <td>Ksfc Layout,Bangalore</td>\n",
       "      <td>12.969910</td>\n",
       "      <td>77.597960</td>\n",
       "      <td>4.025352</td>\n",
       "      <td>650.118204</td>\n",
       "      <td>Bangalore</td>\n",
       "      <td>Ksfc Layout</td>\n",
       "    </tr>\n",
       "    <tr>\n",
       "      <th>1</th>\n",
       "      <td>1</td>\n",
       "      <td>0</td>\n",
       "      <td>0</td>\n",
       "      <td>2</td>\n",
       "      <td>0</td>\n",
       "      <td>1275.000000</td>\n",
       "      <td>1</td>\n",
       "      <td>1</td>\n",
       "      <td>Vishweshwara Nagar,Mysore</td>\n",
       "      <td>12.274538</td>\n",
       "      <td>76.644605</td>\n",
       "      <td>3.951244</td>\n",
       "      <td>637.500000</td>\n",
       "      <td>Mysore</td>\n",
       "      <td>Vishweshwara Nagar</td>\n",
       "    </tr>\n",
       "    <tr>\n",
       "      <th>2</th>\n",
       "      <td>0</td>\n",
       "      <td>0</td>\n",
       "      <td>0</td>\n",
       "      <td>2</td>\n",
       "      <td>0</td>\n",
       "      <td>933.159722</td>\n",
       "      <td>1</td>\n",
       "      <td>1</td>\n",
       "      <td>Jigani,Bangalore</td>\n",
       "      <td>12.778033</td>\n",
       "      <td>77.632191</td>\n",
       "      <td>3.784190</td>\n",
       "      <td>466.579861</td>\n",
       "      <td>Bangalore</td>\n",
       "      <td>Jigani</td>\n",
       "    </tr>\n",
       "    <tr>\n",
       "      <th>3</th>\n",
       "      <td>0</td>\n",
       "      <td>0</td>\n",
       "      <td>1</td>\n",
       "      <td>2</td>\n",
       "      <td>0</td>\n",
       "      <td>929.921143</td>\n",
       "      <td>1</td>\n",
       "      <td>1</td>\n",
       "      <td>Sector-1 Vaishali,Ghaziabad</td>\n",
       "      <td>28.642300</td>\n",
       "      <td>77.344500</td>\n",
       "      <td>4.151040</td>\n",
       "      <td>464.960571</td>\n",
       "      <td>Ghaziabad</td>\n",
       "      <td>Sector-1 Vaishali</td>\n",
       "    </tr>\n",
       "    <tr>\n",
       "      <th>4</th>\n",
       "      <td>1</td>\n",
       "      <td>1</td>\n",
       "      <td>0</td>\n",
       "      <td>2</td>\n",
       "      <td>0</td>\n",
       "      <td>999.009247</td>\n",
       "      <td>0</td>\n",
       "      <td>1</td>\n",
       "      <td>New Town,Kolkata</td>\n",
       "      <td>22.592200</td>\n",
       "      <td>88.484911</td>\n",
       "      <td>4.119037</td>\n",
       "      <td>499.504623</td>\n",
       "      <td>Kolkata</td>\n",
       "      <td>New Town</td>\n",
       "    </tr>\n",
       "    <tr>\n",
       "      <th>...</th>\n",
       "      <td>...</td>\n",
       "      <td>...</td>\n",
       "      <td>...</td>\n",
       "      <td>...</td>\n",
       "      <td>...</td>\n",
       "      <td>...</td>\n",
       "      <td>...</td>\n",
       "      <td>...</td>\n",
       "      <td>...</td>\n",
       "      <td>...</td>\n",
       "      <td>...</td>\n",
       "      <td>...</td>\n",
       "      <td>...</td>\n",
       "      <td>...</td>\n",
       "      <td>...</td>\n",
       "    </tr>\n",
       "    <tr>\n",
       "      <th>29446</th>\n",
       "      <td>0</td>\n",
       "      <td>0</td>\n",
       "      <td>0</td>\n",
       "      <td>3</td>\n",
       "      <td>0</td>\n",
       "      <td>2500.000000</td>\n",
       "      <td>1</td>\n",
       "      <td>1</td>\n",
       "      <td>Shamshabad Road,Agra</td>\n",
       "      <td>27.140626</td>\n",
       "      <td>78.043277</td>\n",
       "      <td>3.828641</td>\n",
       "      <td>833.333333</td>\n",
       "      <td>Agra</td>\n",
       "      <td>Shamshabad Road</td>\n",
       "    </tr>\n",
       "    <tr>\n",
       "      <th>29447</th>\n",
       "      <td>0</td>\n",
       "      <td>0</td>\n",
       "      <td>0</td>\n",
       "      <td>2</td>\n",
       "      <td>0</td>\n",
       "      <td>769.230769</td>\n",
       "      <td>1</td>\n",
       "      <td>1</td>\n",
       "      <td>E3-108, Lake View Recidency,,Vapi</td>\n",
       "      <td>39.945409</td>\n",
       "      <td>-86.150721</td>\n",
       "      <td>2.833213</td>\n",
       "      <td>384.615385</td>\n",
       "      <td>Vapi</td>\n",
       "      <td></td>\n",
       "    </tr>\n",
       "    <tr>\n",
       "      <th>29448</th>\n",
       "      <td>1</td>\n",
       "      <td>0</td>\n",
       "      <td>0</td>\n",
       "      <td>2</td>\n",
       "      <td>0</td>\n",
       "      <td>1022.641509</td>\n",
       "      <td>1</td>\n",
       "      <td>1</td>\n",
       "      <td>Ajmer Road,Jaipur</td>\n",
       "      <td>26.928785</td>\n",
       "      <td>75.828002</td>\n",
       "      <td>3.335770</td>\n",
       "      <td>511.320755</td>\n",
       "      <td>Jaipur</td>\n",
       "      <td>Ajmer Road</td>\n",
       "    </tr>\n",
       "    <tr>\n",
       "      <th>29449</th>\n",
       "      <td>0</td>\n",
       "      <td>0</td>\n",
       "      <td>0</td>\n",
       "      <td>2</td>\n",
       "      <td>0</td>\n",
       "      <td>927.079009</td>\n",
       "      <td>1</td>\n",
       "      <td>1</td>\n",
       "      <td>Sholinganallur,Chennai</td>\n",
       "      <td>12.900150</td>\n",
       "      <td>80.227910</td>\n",
       "      <td>4.219508</td>\n",
       "      <td>463.539505</td>\n",
       "      <td>Chennai</td>\n",
       "      <td>Sholinganallur</td>\n",
       "    </tr>\n",
       "    <tr>\n",
       "      <th>29450</th>\n",
       "      <td>1</td>\n",
       "      <td>0</td>\n",
       "      <td>1</td>\n",
       "      <td>2</td>\n",
       "      <td>0</td>\n",
       "      <td>896.774194</td>\n",
       "      <td>1</td>\n",
       "      <td>1</td>\n",
       "      <td>Jagatpura,Jaipur</td>\n",
       "      <td>26.832353</td>\n",
       "      <td>75.841749</td>\n",
       "      <td>3.360375</td>\n",
       "      <td>448.387097</td>\n",
       "      <td>Jaipur</td>\n",
       "      <td>Jagatpura</td>\n",
       "    </tr>\n",
       "  </tbody>\n",
       "</table>\n",
       "<p>29050 rows × 15 columns</p>\n",
       "</div>"
      ],
      "text/plain": [
       "       POSTED_BY  UNDER_CONSTRUCTION  RERA  BHK_NO.  BHK_OR_RK    SQUARE_FT  READY_TO_MOVE  RESALE                            ADDRESS  LONGITUDE   LATITUDE  TARGET_log  sq_per_room       City            locality\n",
       "0              0                   0     0        2          0  1300.236407              1       1              Ksfc Layout,Bangalore  12.969910  77.597960    4.025352   650.118204  Bangalore         Ksfc Layout\n",
       "1              1                   0     0        2          0  1275.000000              1       1          Vishweshwara Nagar,Mysore  12.274538  76.644605    3.951244   637.500000     Mysore  Vishweshwara Nagar\n",
       "2              0                   0     0        2          0   933.159722              1       1                   Jigani,Bangalore  12.778033  77.632191    3.784190   466.579861  Bangalore              Jigani\n",
       "3              0                   0     1        2          0   929.921143              1       1        Sector-1 Vaishali,Ghaziabad  28.642300  77.344500    4.151040   464.960571  Ghaziabad   Sector-1 Vaishali\n",
       "4              1                   1     0        2          0   999.009247              0       1                   New Town,Kolkata  22.592200  88.484911    4.119037   499.504623    Kolkata            New Town\n",
       "...          ...                 ...   ...      ...        ...          ...            ...     ...                                ...        ...        ...         ...          ...        ...                 ...\n",
       "29446          0                   0     0        3          0  2500.000000              1       1               Shamshabad Road,Agra  27.140626  78.043277    3.828641   833.333333       Agra     Shamshabad Road\n",
       "29447          0                   0     0        2          0   769.230769              1       1  E3-108, Lake View Recidency,,Vapi  39.945409 -86.150721    2.833213   384.615385       Vapi                    \n",
       "29448          1                   0     0        2          0  1022.641509              1       1                  Ajmer Road,Jaipur  26.928785  75.828002    3.335770   511.320755     Jaipur          Ajmer Road\n",
       "29449          0                   0     0        2          0   927.079009              1       1             Sholinganallur,Chennai  12.900150  80.227910    4.219508   463.539505    Chennai      Sholinganallur\n",
       "29450          1                   0     1        2          0   896.774194              1       1                   Jagatpura,Jaipur  26.832353  75.841749    3.360375   448.387097     Jaipur           Jagatpura\n",
       "\n",
       "[29050 rows x 15 columns]"
      ]
     },
     "execution_count": 21,
     "metadata": {},
     "output_type": "execute_result"
    }
   ],
   "source": [
    "train"
   ]
  },
  {
   "cell_type": "code",
   "execution_count": 22,
   "metadata": {},
   "outputs": [],
   "source": [
    "train.drop(['ADDRESS','LONGITUDE','LATITUDE','locality'], axis = 1, inplace = True)\n",
    "test.drop(['ADDRESS','LONGITUDE','LATITUDE','locality'], axis = 1, inplace = True)"
   ]
  },
  {
   "cell_type": "code",
   "execution_count": 23,
   "metadata": {},
   "outputs": [
    {
     "data": {
      "text/html": [
       "<div>\n",
       "<style scoped>\n",
       "    .dataframe tbody tr th:only-of-type {\n",
       "        vertical-align: middle;\n",
       "    }\n",
       "\n",
       "    .dataframe tbody tr th {\n",
       "        vertical-align: top;\n",
       "    }\n",
       "\n",
       "    .dataframe thead th {\n",
       "        text-align: right;\n",
       "    }\n",
       "</style>\n",
       "<table border=\"1\" class=\"dataframe\">\n",
       "  <thead>\n",
       "    <tr style=\"text-align: right;\">\n",
       "      <th></th>\n",
       "      <th>POSTED_BY</th>\n",
       "      <th>UNDER_CONSTRUCTION</th>\n",
       "      <th>RERA</th>\n",
       "      <th>BHK_NO.</th>\n",
       "      <th>BHK_OR_RK</th>\n",
       "      <th>SQUARE_FT</th>\n",
       "      <th>READY_TO_MOVE</th>\n",
       "      <th>RESALE</th>\n",
       "      <th>TARGET_log</th>\n",
       "      <th>sq_per_room</th>\n",
       "      <th>City</th>\n",
       "    </tr>\n",
       "  </thead>\n",
       "  <tbody>\n",
       "    <tr>\n",
       "      <th>0</th>\n",
       "      <td>0</td>\n",
       "      <td>0</td>\n",
       "      <td>0</td>\n",
       "      <td>2</td>\n",
       "      <td>0</td>\n",
       "      <td>1300.236407</td>\n",
       "      <td>1</td>\n",
       "      <td>1</td>\n",
       "      <td>4.025352</td>\n",
       "      <td>650.118204</td>\n",
       "      <td>Bangalore</td>\n",
       "    </tr>\n",
       "    <tr>\n",
       "      <th>1</th>\n",
       "      <td>1</td>\n",
       "      <td>0</td>\n",
       "      <td>0</td>\n",
       "      <td>2</td>\n",
       "      <td>0</td>\n",
       "      <td>1275.000000</td>\n",
       "      <td>1</td>\n",
       "      <td>1</td>\n",
       "      <td>3.951244</td>\n",
       "      <td>637.500000</td>\n",
       "      <td>Mysore</td>\n",
       "    </tr>\n",
       "    <tr>\n",
       "      <th>2</th>\n",
       "      <td>0</td>\n",
       "      <td>0</td>\n",
       "      <td>0</td>\n",
       "      <td>2</td>\n",
       "      <td>0</td>\n",
       "      <td>933.159722</td>\n",
       "      <td>1</td>\n",
       "      <td>1</td>\n",
       "      <td>3.784190</td>\n",
       "      <td>466.579861</td>\n",
       "      <td>Bangalore</td>\n",
       "    </tr>\n",
       "    <tr>\n",
       "      <th>3</th>\n",
       "      <td>0</td>\n",
       "      <td>0</td>\n",
       "      <td>1</td>\n",
       "      <td>2</td>\n",
       "      <td>0</td>\n",
       "      <td>929.921143</td>\n",
       "      <td>1</td>\n",
       "      <td>1</td>\n",
       "      <td>4.151040</td>\n",
       "      <td>464.960571</td>\n",
       "      <td>Ghaziabad</td>\n",
       "    </tr>\n",
       "    <tr>\n",
       "      <th>4</th>\n",
       "      <td>1</td>\n",
       "      <td>1</td>\n",
       "      <td>0</td>\n",
       "      <td>2</td>\n",
       "      <td>0</td>\n",
       "      <td>999.009247</td>\n",
       "      <td>0</td>\n",
       "      <td>1</td>\n",
       "      <td>4.119037</td>\n",
       "      <td>499.504623</td>\n",
       "      <td>Kolkata</td>\n",
       "    </tr>\n",
       "  </tbody>\n",
       "</table>\n",
       "</div>"
      ],
      "text/plain": [
       "   POSTED_BY  UNDER_CONSTRUCTION  RERA  BHK_NO.  BHK_OR_RK    SQUARE_FT  READY_TO_MOVE  RESALE  TARGET_log  sq_per_room       City\n",
       "0          0                   0     0        2          0  1300.236407              1       1    4.025352   650.118204  Bangalore\n",
       "1          1                   0     0        2          0  1275.000000              1       1    3.951244   637.500000     Mysore\n",
       "2          0                   0     0        2          0   933.159722              1       1    3.784190   466.579861  Bangalore\n",
       "3          0                   0     1        2          0   929.921143              1       1    4.151040   464.960571  Ghaziabad\n",
       "4          1                   1     0        2          0   999.009247              0       1    4.119037   499.504623    Kolkata"
      ]
     },
     "execution_count": 23,
     "metadata": {},
     "output_type": "execute_result"
    }
   ],
   "source": [
    "train.head()"
   ]
  },
  {
   "cell_type": "code",
   "execution_count": 24,
   "metadata": {},
   "outputs": [],
   "source": [
    "import numpy as np\n",
    "import pandas as pd\n",
    "\n",
    "from sklearn.base import BaseEstimator, TransformerMixin\n",
    "\n",
    "class TargetEncode(BaseEstimator, TransformerMixin):\n",
    "    \n",
    "    def __init__(self, categories='auto', k=1, f=1, \n",
    "                 noise_level=0, random_state=None):\n",
    "        if type(categories)==str and categories!='auto':\n",
    "            self.categories = [categories]\n",
    "        else:\n",
    "            self.categories = categories\n",
    "        self.k = k\n",
    "        self.f = f\n",
    "        self.noise_level = noise_level\n",
    "        self.encodings = dict()\n",
    "        self.prior = None\n",
    "        self.random_state = random_state\n",
    "        \n",
    "    def add_noise(self, series, noise_level):\n",
    "        return series * (1 + noise_level *   \n",
    "                         np.random.randn(len(series)))\n",
    "        \n",
    "    def fit(self, X, y=None):\n",
    "        if type(self.categories)=='auto':\n",
    "            self.categories = np.where(X.dtypes == type(object()))[0]\n",
    "        \n",
    "        temp = X.loc[:, self.categories].copy()\n",
    "        temp['target'] = y\n",
    "        self.prior = np.mean(y)\n",
    "        for variable in self.categories:\n",
    "            avg = (temp.groupby(by=variable)['target']\n",
    "                       .agg(['mean', 'count']))\n",
    "            # Compute smoothing \n",
    "            smoothing = (1 / (1 + np.exp(-(avg['count'] - self.k) /                 \n",
    "                         self.f)))\n",
    "            # The bigger the count the less full_avg is accounted\n",
    "            self.encodings[variable] = dict(self.prior * (1 -  \n",
    "                             smoothing) + avg['mean'] * smoothing)\n",
    "            \n",
    "        return self\n",
    "    \n",
    "    def transform(self, X):\n",
    "        Xt = X.copy()\n",
    "        for variable in self.categories:\n",
    "            Xt[variable].replace(self.encodings[variable], \n",
    "                                 inplace=True)\n",
    "            unknown_value = {value:self.prior for value in \n",
    "                             X[variable].unique() \n",
    "                             if value not in \n",
    "                             self.encodings[variable].keys()}\n",
    "            if len(unknown_value) > 0:\n",
    "                Xt[variable].replace(unknown_value, inplace=True)\n",
    "            Xt[variable] = Xt[variable].astype(float)\n",
    "            if self.noise_level > 0:\n",
    "                if self.random_state is not None:\n",
    "                    np.random.seed(self.random_state)\n",
    "                Xt[variable] = self.add_noise(Xt[variable], \n",
    "                                              self.noise_level)\n",
    "        return Xt\n",
    "    \n",
    "    def fit_transform(self, X, y=None):\n",
    "        \n",
    "        self.fit(X, y)\n",
    "        return self.transform(X)"
   ]
  },
  {
   "cell_type": "markdown",
   "metadata": {},
   "source": [
    "# Target encoding"
   ]
  },
  {
   "cell_type": "code",
   "execution_count": 25,
   "metadata": {},
   "outputs": [
    {
     "data": {
      "text/plain": [
       "TargetEncode(categories=['City'])"
      ]
     },
     "execution_count": 25,
     "metadata": {},
     "output_type": "execute_result"
    }
   ],
   "source": [
    "te = TargetEncode(categories='City')\n",
    "te.fit(train, train['TARGET_log'])\n",
    "train['City'] = te.transform(train[['City']])\n",
    "test['City'] = te.transform(test[['City']])"
   ]
  },
  {
   "cell_type": "markdown",
   "metadata": {},
   "source": [
    "# Train test split"
   ]
  },
  {
   "cell_type": "code",
   "execution_count": 26,
   "id": "a3f33d64",
   "metadata": {},
   "outputs": [],
   "source": [
    "X_train = train.drop([\"TARGET_log\"],axis=1)\n",
    "y_train = train.loc[:,'TARGET_log']\n",
    "\n",
    "X_test = test.copy()"
   ]
  },
  {
   "cell_type": "code",
   "execution_count": 27,
   "id": "bac89d16",
   "metadata": {},
   "outputs": [
    {
     "name": "stdout",
     "output_type": "stream",
     "text": [
      "X train shape is: (29050, 10)\n",
      "X test shape is: (66250, 10)\n",
      "y train shape is: (29050,)\n"
     ]
    }
   ],
   "source": [
    "print(f'X train shape is: {X_train.shape}')\n",
    "print(f'X test shape is: {X_test.shape}')\n",
    "print(f'y train shape is: {y_train.shape}')"
   ]
  },
  {
   "cell_type": "markdown",
   "metadata": {},
   "source": [
    "# Outlier removing"
   ]
  },
  {
   "cell_type": "code",
   "execution_count": 29,
   "metadata": {},
   "outputs": [],
   "source": [
    "def pre_quantiles(df, column, q1 = 0.25, q3 = 0.75):\n",
    "    \"\"\"\n",
    "    This function takes dataframe, each column separetly and calculates the\n",
    "    percentiles of a dataset. The IQR can then be calculated as the difference between\n",
    "    the 75th and 25th percentiles\n",
    "    \"\"\"\n",
    "    Q1 = df[column].quantile(q1)\n",
    "    Q3 = df[column].quantile(q3)\n",
    "    IQR = Q3-Q1\n",
    "    return Q1, Q3, IQR\n",
    "\n",
    "def remove_outliers_numerical(df, column, Q1, Q3, IQR, coeff):\n",
    "    \"\"\"\n",
    "    This function takes dataframe, each column, their 1st and 3rd quantiles, interquartile ranges and coefficiants.\n",
    "    Then calculate the cutoff for outliers as 0.5 times the IQR and subtract this cut-off\n",
    "    from the 25th percentile and add it to the 75th percentile to give the actual limits on the data. As a result of\n",
    "    function we get dataframe which have each column's mentioned numbers.\n",
    "    \n",
    "    \"\"\"\n",
    "    \n",
    "    df_o = df[~(((df[column] < (Q1 - coeff * IQR)[column])) | ((df[column] > (Q3 + coeff * IQR)[column])))]\n",
    "    \n",
    "    return df_o\n",
    "\n",
    "def remove_from_dataframe(df, name):\n",
    "    \"\"\"\n",
    "    This function takes dataframe and selects numerical variables and will remove outliers from them.\n",
    "    Although, it is accepted that if our dependent variable is binary, then we won't get any outliers. I will not\n",
    "    exclude them due to code complexity.\n",
    "    \n",
    "    \"\"\"\n",
    "    del_col = df.select_dtypes(exclude = 'number').columns\n",
    "    numerical_columns = df.columns.difference(del_col)\n",
    "    print(f'Before removing {name} outliers: {df.shape}')\n",
    "\n",
    "    Q_data = pd.DataFrame(pre_quantiles(df, numerical_columns, q1 = 0.005, q3 = 0.995), index=['Q1', 'Q3', 'IQR'])\n",
    "\n",
    "    for i in numerical_columns:\n",
    "        df = remove_outliers_numerical(df, i, Q_data.iloc[0][\"{0}\".format(i)],\n",
    "                                                      Q_data.iloc[1][\"{0}\".format(i)], Q_data.iloc[-1], coeff = 0.5)\n",
    "\n",
    "    print(f'After removing {name} outliers: {df.shape}\\n')\n",
    "    return df\n",
    "\n"
   ]
  },
  {
   "cell_type": "code",
   "execution_count": 30,
   "metadata": {},
   "outputs": [
    {
     "name": "stdout",
     "output_type": "stream",
     "text": [
      "Before removing TRAIN outliers: (29050, 10)\n",
      "After removing TRAIN outliers: (28850, 10)\n",
      "\n",
      "Before removing TEST outliers: (66250, 10)\n",
      "After removing TEST outliers: (65816, 10)\n",
      "\n"
     ]
    }
   ],
   "source": [
    "X_train_outlier_free = remove_from_dataframe(X_train, 'TRAIN')\n",
    "X_test_outlier_free = remove_from_dataframe(X_test, 'TEST')\n",
    "\n",
    "\n",
    "y_train = pd.DataFrame(y_train)\n",
    "y_train = y_train.loc[y_train.index & X_train_outlier_free.index]"
   ]
  },
  {
   "cell_type": "markdown",
   "metadata": {},
   "source": [
    "\n",
    "# Modeling\n"
   ]
  },
  {
   "cell_type": "code",
   "execution_count": 53,
   "metadata": {},
   "outputs": [
    {
     "data": {
      "text/plain": [
       "0.6689547495944086"
      ]
     },
     "execution_count": 53,
     "metadata": {},
     "output_type": "execute_result"
    }
   ],
   "source": [
    "lm = LinearRegression()\n",
    "scores = cross_val_score(lm, X_train_outlier_free, y_train, scoring='r2', cv=5)\n",
    "scores.mean()"
   ]
  },
  {
   "cell_type": "markdown",
   "metadata": {},
   "source": [
    "# Bayesian optimization using scikit-optimization"
   ]
  },
  {
   "cell_type": "markdown",
   "id": "5e14a1b5",
   "metadata": {
    "papermill": {
     "duration": 0.025573,
     "end_time": "2021-08-16T21:43:44.231708",
     "exception": false,
     "start_time": "2021-08-16T21:43:44.206135",
     "status": "completed"
    },
    "tags": []
   },
   "source": [
    "\n",
    "\n",
    "**Bayesian Optimization** (*SNOEK, Jasper; LAROCHELLE, Hugo; ADAMS, Ryan P. Practical bayesian optimization of machine learning algorithms. In: Advances in neural information processing systems. 2012. p. 2951-2959*)"
   ]
  },
  {
   "cell_type": "markdown",
   "id": "711a05d0",
   "metadata": {
    "papermill": {
     "duration": 0.029446,
     "end_time": "2021-08-16T21:43:44.292517",
     "exception": false,
     "start_time": "2021-08-16T21:43:44.263071",
     "status": "completed"
    },
    "tags": []
   },
   "source": [
    "The key idea behind Bayesian optimization is that we optimize a proxy function (the surrogate function) instead than the true objective function (what actually grid search and random search both do). This holds if testing the true objective function is costly (if it is not, then we simply go for random search.\n",
    "\n",
    "Bayesian search balances exploration against exploitation. At start it randomly explores, doing so it builds up a surrogate function of the objective. Based on that surrogate function it exploits an initial approximate knowledge of how the predictor works in order to sample more useful examples and minimize the cost function at a global level, not a local one.\n",
    "\n",
    "Bayesian Optimization uses an acquisition function to tell us how promising an observation will be. In fact, to rule the tradeoff between exploration and exploitation, the algorithm defines an acquisition function that provides a single measure of how useful it would be to try any given point."
   ]
  },
  {
   "attachments": {
    "f8d4cbb2-09ef-4c55-a3f9-a93e6ddd8033.png": {
     "image/png": "[encoded data removed]"
    }
   },
   "cell_type": "markdown",
   "id": "636bb306",
   "metadata": {
    "papermill": {
     "duration": 0.027913,
     "end_time": "2021-08-16T21:43:44.347864",
     "exception": false,
     "start_time": "2021-08-16T21:43:44.319951",
     "status": "completed"
    },
    "tags": []
   },
   "source": [
    "![image.png](attachment:f8d4cbb2-09ef-4c55-a3f9-a93e6ddd8033.png)"
   ]
  },
  {
   "cell_type": "markdown",
   "id": "6707d157",
   "metadata": {
    "papermill": {
     "duration": 0.025691,
     "end_time": "2021-08-16T21:43:44.400428",
     "exception": false,
     "start_time": "2021-08-16T21:43:44.374737",
     "status": "completed"
    },
    "tags": []
   },
   "source": [
    "In this step by ste tutorial, we will deal Bayesian optimization using LightGBM in few clear steps:\n",
    "\n",
    "2. Define our cross-validation strategy\n",
    "3. Define our evaluation metric\n",
    "4. Define our base model\n",
    "5. Define our hyper-parameter search space\n",
    "6. Run optimization for a while"
   ]
  },
  {
   "cell_type": "markdown",
   "id": "2b4441ec",
   "metadata": {
    "execution": {
     "iopub.execute_input": "2021-08-16T21:38:41.420722Z",
     "iopub.status.busy": "2021-08-16T21:38:41.420190Z",
     "iopub.status.idle": "2021-08-16T21:38:41.424831Z",
     "shell.execute_reply": "2021-08-16T21:38:41.423574Z",
     "shell.execute_reply.started": "2021-08-16T21:38:41.420637Z"
    },
    "papermill": {
     "duration": 0.027293,
     "end_time": "2021-08-16T21:44:04.918826",
     "exception": false,
     "start_time": "2021-08-16T21:44:04.891533",
     "status": "completed"
    },
    "tags": []
   },
   "source": [
    "# Setting up optimization"
   ]
  },
  {
   "cell_type": "markdown",
   "id": "888166cf",
   "metadata": {
    "papermill": {
     "duration": 0.026543,
     "end_time": "2021-08-16T21:44:04.972274",
     "exception": false,
     "start_time": "2021-08-16T21:44:04.945731",
     "status": "completed"
    },
    "tags": []
   },
   "source": [
    "First, we create a wrapper function to deal with running the optimizer and reporting back its best results."
   ]
  },
  {
   "cell_type": "code",
   "execution_count": 54,
   "id": "6bbb2f57",
   "metadata": {
    "execution": {
     "iopub.execute_input": "2021-08-16T21:44:05.034762Z",
     "iopub.status.busy": "2021-08-16T21:44:05.034058Z",
     "iopub.status.idle": "2021-08-16T21:44:05.037113Z",
     "shell.execute_reply": "2021-08-16T21:44:05.036600Z",
     "shell.execute_reply.started": "2021-08-16T20:18:00.467517Z"
    },
    "papermill": {
     "duration": 0.03799,
     "end_time": "2021-08-16T21:44:05.037245",
     "exception": false,
     "start_time": "2021-08-16T21:44:04.999255",
     "status": "completed"
    },
    "tags": []
   },
   "outputs": [],
   "source": [
    "def report_perf(optimizer, X, y, title=\"model\", callbacks=None):\n",
    "    \"\"\"\n",
    "    A wrapper for measuring time and performance of optmizers\n",
    "    \n",
    "    optimizer = a sklearn or a skopt optimizer\n",
    "    X = the training set \n",
    "    y = our target\n",
    "    title = a string label for the experiment\n",
    "    \"\"\"\n",
    "    start = time()\n",
    "    \n",
    "    if callbacks is not None:\n",
    "        optimizer.fit(X, y, callback=callbacks)\n",
    "    else:\n",
    "        optimizer.fit(X, y)\n",
    "        \n",
    "    d=pd.DataFrame(optimizer.cv_results_)\n",
    "    best_score = optimizer.best_score_\n",
    "    best_score_std = d.iloc[optimizer.best_index_].std_test_score\n",
    "    best_params = optimizer.best_params_\n",
    "    \n",
    "    print((title + \" took %.2f seconds,  candidates checked: %d, best CV score: %.3f \"\n",
    "           + u\"\\u00B1\"+\" %.3f\") % (time() - start, \n",
    "                                   len(optimizer.cv_results_['params']),\n",
    "                                   best_score,\n",
    "                                   best_score_std))    \n",
    "    print('Best parameters:')\n",
    "    pprint.pprint(best_params)\n",
    "    print()\n",
    "    return best_params"
   ]
  },
  {
   "cell_type": "markdown",
   "id": "bc15791e",
   "metadata": {
    "papermill": {
     "duration": 0.026374,
     "end_time": "2021-08-16T21:44:05.090383",
     "exception": false,
     "start_time": "2021-08-16T21:44:05.064009",
     "status": "completed"
    },
    "tags": []
   },
   "source": [
    "We then define the evaluation metric, using the Scikit-learn function make_scorer allows us to convert the optimization into a minimization problem, as required by Scikit-optimize. We set squared=False by means of a partial function to obtain the root mean squared error (RMSE) as evaluation."
   ]
  },
  {
   "cell_type": "code",
   "execution_count": 55,
   "id": "2429ab87",
   "metadata": {
    "execution": {
     "iopub.execute_input": "2021-08-16T21:44:05.149451Z",
     "iopub.status.busy": "2021-08-16T21:44:05.148805Z",
     "iopub.status.idle": "2021-08-16T21:44:05.151537Z",
     "shell.execute_reply": "2021-08-16T21:44:05.151048Z",
     "shell.execute_reply.started": "2021-08-16T20:15:26.345461Z"
    },
    "papermill": {
     "duration": 0.033729,
     "end_time": "2021-08-16T21:44:05.151672",
     "exception": false,
     "start_time": "2021-08-16T21:44:05.117943",
     "status": "completed"
    },
    "tags": []
   },
   "outputs": [],
   "source": [
    "# Setting the scoring function\n",
    "scoring = make_scorer(partial(mean_squared_error, squared=False), \n",
    "                      greater_is_better=False)"
   ]
  },
  {
   "cell_type": "markdown",
   "id": "29615d10",
   "metadata": {
    "papermill": {
     "duration": 0.026116,
     "end_time": "2021-08-16T21:44:05.204708",
     "exception": false,
     "start_time": "2021-08-16T21:44:05.178592",
     "status": "completed"
    },
    "tags": []
   },
   "source": [
    "We set up a  5-fold cross validation"
   ]
  },
  {
   "cell_type": "code",
   "execution_count": 56,
   "id": "a273b703",
   "metadata": {
    "execution": {
     "iopub.execute_input": "2021-08-16T21:44:05.262517Z",
     "iopub.status.busy": "2021-08-16T21:44:05.261886Z",
     "iopub.status.idle": "2021-08-16T21:44:05.263619Z",
     "shell.execute_reply": "2021-08-16T21:44:05.264166Z",
     "shell.execute_reply.started": "2021-08-16T20:16:09.267743Z"
    },
    "papermill": {
     "duration": 0.032949,
     "end_time": "2021-08-16T21:44:05.264314",
     "exception": false,
     "start_time": "2021-08-16T21:44:05.231365",
     "status": "completed"
    },
    "tags": []
   },
   "outputs": [],
   "source": [
    "# Setting the validation strategy\n",
    "kf = KFold(n_splits=5, shuffle=True, random_state=0)"
   ]
  },
  {
   "cell_type": "markdown",
   "id": "542a794f",
   "metadata": {
    "papermill": {
     "duration": 0.026099,
     "end_time": "2021-08-16T21:44:05.316927",
     "exception": false,
     "start_time": "2021-08-16T21:44:05.290828",
     "status": "completed"
    },
    "tags": []
   },
   "source": [
    "We set up a generic LightGBM regressor."
   ]
  },
  {
   "cell_type": "code",
   "execution_count": 66,
   "id": "dda83cbc",
   "metadata": {
    "execution": {
     "iopub.execute_input": "2021-08-16T21:44:05.373262Z",
     "iopub.status.busy": "2021-08-16T21:44:05.372685Z",
     "iopub.status.idle": "2021-08-16T21:44:05.376875Z",
     "shell.execute_reply": "2021-08-16T21:44:05.377433Z",
     "shell.execute_reply.started": "2021-08-16T20:16:43.455445Z"
    },
    "papermill": {
     "duration": 0.033683,
     "end_time": "2021-08-16T21:44:05.377607",
     "exception": false,
     "start_time": "2021-08-16T21:44:05.343924",
     "status": "completed"
    },
    "tags": []
   },
   "outputs": [],
   "source": [
    "# Setting the basic regressor\n",
    "reg = XGBRegressor(boosting_type='gbdt',\n",
    "                        metric='rmse',\n",
    "                        n_jobs=1, \n",
    "                        verbose=-1,\n",
    "                        random_state=0)"
   ]
  },
  {
   "cell_type": "markdown",
   "id": "395d929c",
   "metadata": {
    "papermill": {
     "duration": 0.026215,
     "end_time": "2021-08-16T21:44:05.430171",
     "exception": false,
     "start_time": "2021-08-16T21:44:05.403956",
     "status": "completed"
    },
    "tags": []
   },
   "source": [
    "We define a search space, expliciting the key hyper-parameters to optimize and the range where to look for the best values.\n"
   ]
  },
  {
   "cell_type": "code",
   "execution_count": 67,
   "id": "fda60f42",
   "metadata": {
    "execution": {
     "iopub.execute_input": "2021-08-16T21:44:05.486543Z",
     "iopub.status.busy": "2021-08-16T21:44:05.485891Z",
     "iopub.status.idle": "2021-08-16T21:44:05.502831Z",
     "shell.execute_reply": "2021-08-16T21:44:05.503353Z",
     "shell.execute_reply.started": "2021-08-16T20:17:11.688734Z"
    },
    "papermill": {
     "duration": 0.046542,
     "end_time": "2021-08-16T21:44:05.503539",
     "exception": false,
     "start_time": "2021-08-16T21:44:05.456997",
     "status": "completed"
    },
    "tags": []
   },
   "outputs": [],
   "source": [
    "# Setting the search space\n",
    "space = {\n",
    "    'learning_rate': Real(0.01, 1.0, 'log-uniform'),     # Boosting learning rate\n",
    "    'n_estimators': Integer(30, 5000),                   # Number of boosted trees to fit\n",
    "    'num_leaves': Integer(2, 512),                       # Maximum tree leaves for base learners\n",
    "    'max_depth': Integer(-1, 256),                       # Maximum tree depth for base learners, <=0 means no limit\n",
    "    'min_child_samples': Integer(1, 256),                # Minimal number of data in one leaf\n",
    "    'max_bin': Integer(100, 1000),                       # Max number of bins that feature values will be bucketed\n",
    "    'subsample': Real(0.01, 1.0, 'uniform'),             # Subsample ratio of the training instance\n",
    "    'subsample_freq': Integer(0, 10),                    # Frequency of subsample, <=0 means no enable\n",
    "    'colsample_bytree': Real(0.01, 1.0, 'uniform'),      # Subsample ratio of columns when constructing each tree\n",
    "    'min_child_weight': Real(0.01, 10.0, 'uniform'),     # Minimum sum of instance weight (hessian) needed in a child (leaf)\n",
    "    'reg_lambda': Real(1e-9, 100.0, 'log-uniform'),      # L2 regularization\n",
    "    'reg_alpha': Real(1e-9, 100.0, 'log-uniform'),       # L1 regularization\n",
    "   }"
   ]
  },
  {
   "cell_type": "markdown",
   "id": "738f15b1",
   "metadata": {
    "papermill": {
     "duration": 0.026225,
     "end_time": "2021-08-16T21:44:05.556628",
     "exception": false,
     "start_time": "2021-08-16T21:44:05.530403",
     "status": "completed"
    },
    "tags": []
   },
   "source": [
    "We then define the Bayesian optimization engine, providing to it our LightGBM, the search spaces, the evaluation metric, the cross-validation. We set a large number of possible experiments and some parallelism in the search operations."
   ]
  },
  {
   "cell_type": "code",
   "execution_count": 68,
   "id": "66cb854f",
   "metadata": {
    "execution": {
     "iopub.execute_input": "2021-08-16T21:44:05.612727Z",
     "iopub.status.busy": "2021-08-16T21:44:05.612055Z",
     "iopub.status.idle": "2021-08-16T21:44:05.617142Z",
     "shell.execute_reply": "2021-08-16T21:44:05.617621Z",
     "shell.execute_reply.started": "2021-08-16T20:17:34.864656Z"
    },
    "papermill": {
     "duration": 0.034387,
     "end_time": "2021-08-16T21:44:05.617770",
     "exception": false,
     "start_time": "2021-08-16T21:44:05.583383",
     "status": "completed"
    },
    "tags": []
   },
   "outputs": [],
   "source": [
    "# Wrapping everything up into the Bayesian optimizer\n",
    "opt = BayesSearchCV(estimator=reg,                                    \n",
    "                    search_spaces=space,                      \n",
    "                    scoring=scoring,                                  \n",
    "                    cv=kf,                                           \n",
    "                    n_iter=60,                                        # max number of trials\n",
    "                    n_points=3,                                       # number of hyperparameter sets evaluated at the same time\n",
    "                    n_jobs=-1,                                        # number of jobs\n",
    "                    iid=False,                                        # if not iid it optimizes on the cv score\n",
    "                    return_train_score=False,                         \n",
    "                    refit=False,                                      \n",
    "                    optimizer_kwargs={'base_estimator': 'GP'},        # optmizer parameters: we use Gaussian Process (GP)\n",
    "                    random_state=0)                                   # random state for replicability"
   ]
  },
  {
   "cell_type": "markdown",
   "id": "31217f03",
   "metadata": {
    "papermill": {
     "duration": 0.026284,
     "end_time": "2021-08-16T21:44:05.670703",
     "exception": false,
     "start_time": "2021-08-16T21:44:05.644419",
     "status": "completed"
    },
    "tags": []
   },
   "source": [
    "Finally we runt the optimizer and wait for the results. We have set some limits to its operations: we required it to stop if it cannot get consistent improvements from the search (DeltaYStopper) and time dealine set in seconds (we decided for 6 hours)."
   ]
  },
  {
   "cell_type": "code",
   "execution_count": 70,
   "id": "8df19cf1",
   "metadata": {
    "execution": {
     "iopub.execute_input": "2021-08-16T21:44:05.726573Z",
     "iopub.status.busy": "2021-08-16T21:44:05.725972Z",
     "iopub.status.idle": "2021-08-17T03:30:32.980029Z",
     "shell.execute_reply": "2021-08-17T03:30:32.980640Z",
     "shell.execute_reply.started": "2021-08-16T20:18:04.081194Z"
    },
    "papermill": {
     "duration": 20787.283763,
     "end_time": "2021-08-17T03:30:32.980917",
     "exception": false,
     "start_time": "2021-08-16T21:44:05.697154",
     "status": "completed"
    },
    "tags": []
   },
   "outputs": [
    {
     "name": "stdout",
     "output_type": "stream",
     "text": [
      "[16:01:00] WARNING: /Users/runner/work/xgboost/xgboost/python-package/build/temp.macosx-10.9-x86_64-3.7/xgboost/src/learner.cc:627: \n",
      "Parameters: { \"boosting_type\", \"metric\", \"min_child_samples\", \"num_leaves\", \"subsample_freq\", \"verbose\" } might not be used.\n",
      "\n",
      "  This could be a false alarm, with some parameters getting used by language bindings but\n",
      "  then being mistakenly passed down to XGBoost core, or some parameter actually being used\n",
      "  but getting flagged wrongly here. Please open an issue if you find any such cases.\n",
      "\n",
      "\n",
      "[16:01:23] WARNING: /Users/runner/work/xgboost/xgboost/python-package/build/temp.macosx-10.9-x86_64-3.7/xgboost/src/learner.cc:627: \n",
      "Parameters: { \"boosting_type\", \"metric\", \"min_child_samples\", \"num_leaves\", \"subsample_freq\", \"verbose\" } might not be used.\n",
      "\n",
      "  This could be a false alarm, with some parameters getting used by language bindings but\n",
      "  then being mistakenly passed down to XGBoost core, or some parameter actually being used\n",
      "  but getting flagged wrongly here. Please open an issue if you find any such cases.\n",
      "\n",
      "\n",
      "[16:00:59] WARNING: /Users/runner/work/xgboost/xgboost/python-package/build/temp.macosx-10.9-x86_64-3.7/xgboost/src/learner.cc:627: \n",
      "Parameters: { \"boosting_type\", \"metric\", \"min_child_samples\", \"num_leaves\", \"subsample_freq\", \"verbose\" } might not be used.\n",
      "\n",
      "  This could be a false alarm, with some parameters getting used by language bindings but\n",
      "  then being mistakenly passed down to XGBoost core, or some parameter actually being used\n",
      "  but getting flagged wrongly here. Please open an issue if you find any such cases.\n",
      "\n",
      "\n",
      "[16:01:23] WARNING: /Users/runner/work/xgboost/xgboost/python-package/build/temp.macosx-10.9-x86_64-3.7/xgboost/src/learner.cc:627: \n",
      "Parameters: { \"boosting_type\", \"metric\", \"min_child_samples\", \"num_leaves\", \"subsample_freq\", \"verbose\" } might not be used.\n",
      "\n",
      "  This could be a false alarm, with some parameters getting used by language bindings but\n",
      "  then being mistakenly passed down to XGBoost core, or some parameter actually being used\n",
      "  but getting flagged wrongly here. Please open an issue if you find any such cases.\n",
      "\n",
      "\n",
      "XGBoost_regression took 109.63 seconds,  candidates checked: 3, best CV score: -0.374 ± 0.006\n",
      "Best parameters:\n",
      "OrderedDict([('colsample_bytree', 0.2995039650878967),\n",
      "             ('learning_rate', 0.2755314693466253),\n",
      "             ('max_bin', 348),\n",
      "             ('max_depth', 77),\n",
      "             ('min_child_samples', 247),\n",
      "             ('min_child_weight', 5.535702996085901),\n",
      "             ('n_estimators', 2249),\n",
      "             ('num_leaves', 256),\n",
      "             ('reg_alpha', 20.66725678679388),\n",
      "             ('reg_lambda', 1.2801597911124966e-08),\n",
      "             ('subsample', 0.5850817422118535),\n",
      "             ('subsample_freq', 2)])\n",
      "\n"
     ]
    }
   ],
   "source": [
    "# Running the optimizer\n",
    "overdone_control = DeltaYStopper(delta=0.0001)               # We stop if the gain of the optimization becomes too small\n",
    "time_limit_control = DeadlineStopper(total_time=60) # We impose a time limit (6 hours)\n",
    "\n",
    "best_params = report_perf(opt, X_train_outlier_free, y_train,'XGBoost_regression', \n",
    "                          callbacks=[overdone_control, time_limit_control])"
   ]
  },
  {
   "cell_type": "code",
   "execution_count": 71,
   "metadata": {},
   "outputs": [
    {
     "data": {
      "text/plain": [
       "OrderedDict([('colsample_bytree', 0.2995039650878967),\n",
       "             ('learning_rate', 0.2755314693466253),\n",
       "             ('max_bin', 348),\n",
       "             ('max_depth', 77),\n",
       "             ('min_child_samples', 247),\n",
       "             ('min_child_weight', 5.535702996085901),\n",
       "             ('n_estimators', 2249),\n",
       "             ('num_leaves', 256),\n",
       "             ('reg_alpha', 20.66725678679388),\n",
       "             ('reg_lambda', 1.2801597911124966e-08),\n",
       "             ('subsample', 0.5850817422118535),\n",
       "             ('subsample_freq', 2)])"
      ]
     },
     "execution_count": 71,
     "metadata": {},
     "output_type": "execute_result"
    }
   ],
   "source": [
    "best_params"
   ]
  },
  {
   "cell_type": "markdown",
   "id": "13214429",
   "metadata": {
    "papermill": {
     "duration": 0.028022,
     "end_time": "2021-08-17T03:30:33.037907",
     "exception": false,
     "start_time": "2021-08-17T03:30:33.009885",
     "status": "completed"
    },
    "tags": []
   },
   "source": [
    "# Prediction on test data"
   ]
  },
  {
   "cell_type": "markdown",
   "id": "4a22c018",
   "metadata": {
    "papermill": {
     "duration": 0.026938,
     "end_time": "2021-08-17T03:30:33.093399",
     "exception": false,
     "start_time": "2021-08-17T03:30:33.066461",
     "status": "completed"
    },
    "tags": []
   },
   "source": [
    "Having got the best hyperparameters for the data at hand, we instantiate a lightGBM using such values and train our model on all the available examples.\n",
    "\n",
    "After having trained the model, we predict on the test set and we save the results on a csv file."
   ]
  },
  {
   "cell_type": "code",
   "execution_count": 72,
   "id": "286c35be",
   "metadata": {
    "execution": {
     "iopub.execute_input": "2021-08-17T03:30:33.154589Z",
     "iopub.status.busy": "2021-08-17T03:30:33.153917Z",
     "iopub.status.idle": "2021-08-17T03:30:33.157133Z",
     "shell.execute_reply": "2021-08-17T03:30:33.156650Z",
     "shell.execute_reply.started": "2021-08-16T20:43:50.113733Z"
    },
    "papermill": {
     "duration": 0.036532,
     "end_time": "2021-08-17T03:30:33.157267",
     "exception": false,
     "start_time": "2021-08-17T03:30:33.120735",
     "status": "completed"
    },
    "tags": []
   },
   "outputs": [],
   "source": [
    "# Transferring the best parameters to our basic regressor\n",
    "reg = XGBRegressor(boosting_type='gbdt',\n",
    "                        metric='rmse',\n",
    "                        n_jobs=1, \n",
    "                        verbose=-1,\n",
    "                        random_state=0,\n",
    "                         **best_params)"
   ]
  },
  {
   "cell_type": "code",
   "execution_count": 73,
   "id": "27c22939",
   "metadata": {
    "execution": {
     "iopub.execute_input": "2021-08-17T03:30:33.218900Z",
     "iopub.status.busy": "2021-08-17T03:30:33.218239Z",
     "iopub.status.idle": "2021-08-17T03:32:18.277019Z",
     "shell.execute_reply": "2021-08-17T03:32:18.277547Z",
     "shell.execute_reply.started": "2021-08-16T20:47:04.261195Z"
    },
    "papermill": {
     "duration": 105.093262,
     "end_time": "2021-08-17T03:32:18.277746",
     "exception": false,
     "start_time": "2021-08-17T03:30:33.184484",
     "status": "completed"
    },
    "tags": []
   },
   "outputs": [
    {
     "name": "stdout",
     "output_type": "stream",
     "text": [
      "[16:03:51] WARNING: /Users/runner/work/xgboost/xgboost/python-package/build/temp.macosx-10.9-x86_64-3.7/xgboost/src/learner.cc:627: \n",
      "Parameters: { \"boosting_type\", \"metric\", \"min_child_samples\", \"num_leaves\", \"subsample_freq\", \"verbose\" } might not be used.\n",
      "\n",
      "  This could be a false alarm, with some parameters getting used by language bindings but\n",
      "  then being mistakenly passed down to XGBoost core, or some parameter actually being used\n",
      "  but getting flagged wrongly here. Please open an issue if you find any such cases.\n",
      "\n",
      "\n",
      "[16:04:01] WARNING: /Users/runner/work/xgboost/xgboost/python-package/build/temp.macosx-10.9-x86_64-3.7/xgboost/src/learner.cc:627: \n",
      "Parameters: { \"boosting_type\", \"metric\", \"min_child_samples\", \"num_leaves\", \"subsample_freq\", \"verbose\" } might not be used.\n",
      "\n",
      "  This could be a false alarm, with some parameters getting used by language bindings but\n",
      "  then being mistakenly passed down to XGBoost core, or some parameter actually being used\n",
      "  but getting flagged wrongly here. Please open an issue if you find any such cases.\n",
      "\n",
      "\n",
      "[16:04:11] WARNING: /Users/runner/work/xgboost/xgboost/python-package/build/temp.macosx-10.9-x86_64-3.7/xgboost/src/learner.cc:627: \n",
      "Parameters: { \"boosting_type\", \"metric\", \"min_child_samples\", \"num_leaves\", \"subsample_freq\", \"verbose\" } might not be used.\n",
      "\n",
      "  This could be a false alarm, with some parameters getting used by language bindings but\n",
      "  then being mistakenly passed down to XGBoost core, or some parameter actually being used\n",
      "  but getting flagged wrongly here. Please open an issue if you find any such cases.\n",
      "\n",
      "\n",
      "[16:04:21] WARNING: /Users/runner/work/xgboost/xgboost/python-package/build/temp.macosx-10.9-x86_64-3.7/xgboost/src/learner.cc:627: \n",
      "Parameters: { \"boosting_type\", \"metric\", \"min_child_samples\", \"num_leaves\", \"subsample_freq\", \"verbose\" } might not be used.\n",
      "\n",
      "  This could be a false alarm, with some parameters getting used by language bindings but\n",
      "  then being mistakenly passed down to XGBoost core, or some parameter actually being used\n",
      "  but getting flagged wrongly here. Please open an issue if you find any such cases.\n",
      "\n",
      "\n",
      "[16:04:31] WARNING: /Users/runner/work/xgboost/xgboost/python-package/build/temp.macosx-10.9-x86_64-3.7/xgboost/src/learner.cc:627: \n",
      "Parameters: { \"boosting_type\", \"metric\", \"min_child_samples\", \"num_leaves\", \"subsample_freq\", \"verbose\" } might not be used.\n",
      "\n",
      "  This could be a false alarm, with some parameters getting used by language bindings but\n",
      "  then being mistakenly passed down to XGBoost core, or some parameter actually being used\n",
      "  but getting flagged wrongly here. Please open an issue if you find any such cases.\n",
      "\n",
      "\n"
     ]
    },
    {
     "data": {
      "text/plain": [
       "0.7924200505118185"
      ]
     },
     "execution_count": 73,
     "metadata": {},
     "output_type": "execute_result"
    }
   ],
   "source": [
    "# Fitting the regressor on all the data\n",
    "scores = cross_val_score(reg, X_train_outlier_free, y_train, scoring='r2', cv=5)\n",
    "scores.mean()"
   ]
  },
  {
   "cell_type": "markdown",
   "metadata": {},
   "source": [
    "# Customizing Bayesian optimization\n",
    "\n",
    "The BayesSearchCV function offered by Scikit-optimize is certainly convenient, because it wraps and arranges all the elements of a hyperparameter search by itself, but it also has limitations.\n",
    "\n",
    "Each of these tasks would not be too complex if you could modify the BayesSearchCV internal procedure. Luckily, Scikit-optimize lets you do just this. In fact, behind BayesSearchCV, as well as behind other wrappers from the package, there are specific minimizing functions that you can use as standalone parts of your own search function:\n",
    "\n",
    "gp_minimize: Bayesian optimization using Gaussian processes forest_minimize: Bayesian optimization using random forests or\n",
    "extremely randomized trees\n",
    "\n",
    "gbrt_minimize: Bayesian optimization using gradient boosting \n",
    "\n",
    "dummy_minimize: Just random search\n",
    "\n",
    "\n",
    "In the following example, we are going to modify the previous search using our own custom search function. The new custom function will accept early stopping during training and it will prune experiments if one of the fold validation results is not a top- performing one."
   ]
  },
  {
   "cell_type": "code",
   "execution_count": 151,
   "id": "da9e90fe",
   "metadata": {
    "execution": {
     "iopub.execute_input": "2021-09-08T20:34:17.967317Z",
     "iopub.status.busy": "2021-09-08T20:34:17.966624Z",
     "iopub.status.idle": "2021-09-08T20:34:17.970086Z",
     "shell.execute_reply": "2021-09-08T20:34:17.969475Z",
     "shell.execute_reply.started": "2021-09-08T16:11:30.83955Z"
    },
    "papermill": {
     "duration": 0.347506,
     "end_time": "2021-09-08T20:34:17.970273",
     "exception": false,
     "start_time": "2021-09-08T20:34:17.622767",
     "status": "completed"
    },
    "tags": []
   },
   "outputs": [],
   "source": [
    "# Setting the search space\n",
    "space = [Real(0.01, 1.0, 'uniform', name='learning_rate'),\n",
    "         Integer(1, 8, name='max_depth'),\n",
    "         Real(0.1, 1.0, 'uniform', name='subsample'),\n",
    "         Real(0.1, 1.0, 'uniform', name='colsample_bytree'),  # subsample ratio of columns by tree\n",
    "         Real(0, 100., 'uniform', name='reg_lambda'),      # L2 regularization\n",
    "         Real(0, 100., 'uniform', name='reg_alpha'),       # L1 regularization\n",
    "         Real(1, 30, 'uniform', name='min_child_weight'),     # minimum sum of instance weight (hessian)\n",
    "]\n",
    "scoring = partial(mean_squared_error, squared=False)"
   ]
  },
  {
   "cell_type": "code",
   "execution_count": 152,
   "id": "c8a594e5",
   "metadata": {},
   "outputs": [],
   "source": [
    "model = XGBRegressor(n_estimators=10_000, \n",
    "                     booster='gbtree', random_state=0)"
   ]
  },
  {
   "cell_type": "markdown",
   "metadata": {},
   "source": [
    "As a next step, you now need to create the objective function. The objective function should just accept as input the parameters to be optimized and return the resulting score."
   ]
  },
  {
   "cell_type": "code",
   "execution_count": 153,
   "id": "1c5b34db",
   "metadata": {
    "execution": {
     "iopub.execute_input": "2021-09-08T20:34:18.639076Z",
     "iopub.status.busy": "2021-09-08T20:34:18.638176Z",
     "iopub.status.idle": "2021-09-08T20:34:18.649274Z",
     "shell.execute_reply": "2021-09-08T20:34:18.649805Z",
     "shell.execute_reply.started": "2021-09-08T16:11:30.857578Z"
    },
    "papermill": {
     "duration": 0.345123,
     "end_time": "2021-09-08T20:34:18.650019",
     "exception": false,
     "start_time": "2021-09-08T20:34:18.304896",
     "status": "completed"
    },
    "tags": []
   },
   "outputs": [],
   "source": [
    "# The objective function to be minimized\n",
    "def make_objective(model, X, y, space, cv, scoring, validation=0.2):\n",
    "    # This decorator converts your objective function with named arguments into one that\n",
    "    # accepts a list as argument, while doing the conversion automatically.\n",
    "    \n",
    "    @use_named_args(space) \n",
    "    def objective(**params):\n",
    "        model.set_params(**params)\n",
    "        print(\"\\nTesting: \", params)\n",
    "        validation_scores = list()\n",
    "        for k, (train_index, test_index) in enumerate(kf.split(X, y)):\n",
    "            val_index = list()\n",
    "            train_examples = len(train_index)\n",
    "            train_examples = int(train_examples * (1 - validation))\n",
    "            train_index, val_index = train_index[:train_examples], train_index[train_examples:]\n",
    "            start_time = time()\n",
    "            model.fit(X.iloc[train_index,:], y[train_index],\n",
    "                      early_stopping_rounds=50,\n",
    "                      eval_set=[(X.iloc[val_index,:], y[val_index])], \n",
    "                      verbose=0\n",
    "                    )\n",
    "            end_time = time()\n",
    "            \n",
    "            rounds = model.best_iteration\n",
    "            \n",
    "            test_preds = model.predict(X.iloc[test_index,:])\n",
    "            print(len(test_preds), len(y[test_index]))\n",
    "            test_score = scoring(y[test_index], test_preds)\n",
    "            print(f\"CV Fold {k+1} rmse:{test_score:0.5f} - {rounds} rounds - it took {end_time-start_time:0.0f} secs\")\n",
    "            validation_scores.append(test_score)\n",
    "            \n",
    "            if len(history[k]) >= 10:\n",
    "                threshold = np.percentile(history[k], q=25)\n",
    "                if test_score > threshold:\n",
    "                    print(f\"Early stopping for under-performing fold: threshold is {threshold:0.5f}\")\n",
    "                    return np.mean(validation_scores)\n",
    "                \n",
    "            history[k].append(test_score)\n",
    "        return np.mean(validation_scores)\n",
    "\n",
    "    return objective"
   ]
  },
  {
   "cell_type": "code",
   "execution_count": 154,
   "metadata": {},
   "outputs": [],
   "source": [
    "X_train_outlier_free.reset_index(drop = True,inplace = True)"
   ]
  },
  {
   "cell_type": "code",
   "execution_count": 155,
   "metadata": {},
   "outputs": [
    {
     "data": {
      "text/plain": [
       "0    4.025352\n",
       "1    3.951244\n",
       "2    3.784190\n",
       "3    4.151040\n",
       "4    4.119037\n",
       "5    3.761200\n",
       "6    4.212128\n",
       "7    3.970292\n",
       "8    3.751854\n",
       "9    3.610918\n",
       "Name: TARGET_log, dtype: float64"
      ]
     },
     "execution_count": 155,
     "metadata": {},
     "output_type": "execute_result"
    }
   ],
   "source": [
    "y_train[:10]"
   ]
  },
  {
   "cell_type": "code",
   "execution_count": 156,
   "id": "b5a48022",
   "metadata": {
    "execution": {
     "iopub.execute_input": "2021-09-08T20:34:20.002041Z",
     "iopub.status.busy": "2021-09-08T20:34:20.001261Z",
     "iopub.status.idle": "2021-09-08T20:34:20.005203Z",
     "shell.execute_reply": "2021-09-08T20:34:20.004559Z",
     "shell.execute_reply.started": "2021-09-08T16:11:30.889487Z"
    },
    "papermill": {
     "duration": 0.330822,
     "end_time": "2021-09-08T20:34:20.005361",
     "exception": false,
     "start_time": "2021-09-08T20:34:19.674539",
     "status": "completed"
    },
    "tags": []
   },
   "outputs": [],
   "source": [
    "objective = make_objective(model,\n",
    "                           X_train_outlier_free, y_train,\n",
    "                           space=space,\n",
    "                           cv=kf,\n",
    "                           scoring=scoring)"
   ]
  },
  {
   "cell_type": "code",
   "execution_count": 157,
   "id": "c3827911",
   "metadata": {},
   "outputs": [],
   "source": [
    "def onstep(res):\n",
    "    global counter\n",
    "    x0 = res.x_iters   # List of input points\n",
    "    y0 = res.func_vals # Evaluation of input points\n",
    "    print('Last eval: ', x0[-1], \n",
    "          ' - Score ', y0[-1])\n",
    "    print('Current iter: ', counter, \n",
    "          ' - Best Score ', res.fun, \n",
    "          ' - Best Args: ', res.x)\n",
    "    joblib.dump((x0, y0), 'checkpoint.pkl') # Saving a checkpoint to disk\n",
    "    counter += 1"
   ]
  },
  {
   "cell_type": "code",
   "execution_count": 158,
   "id": "da332fd6",
   "metadata": {},
   "outputs": [],
   "source": [
    "counter = 0\n",
    "history = {i:list() for i in range(5)}\n",
    "used_time = 0"
   ]
  },
  {
   "cell_type": "code",
   "execution_count": 159,
   "id": "6a496030",
   "metadata": {
    "execution": {
     "iopub.execute_input": "2021-09-08T20:34:20.648652Z",
     "iopub.status.busy": "2021-09-08T20:34:20.647942Z",
     "iopub.status.idle": "2021-09-08T22:10:17.477821Z",
     "shell.execute_reply": "2021-09-08T22:10:17.478490Z"
    },
    "papermill": {
     "duration": 5757.152824,
     "end_time": "2021-09-08T22:10:17.478899",
     "exception": false,
     "start_time": "2021-09-08T20:34:20.326075",
     "status": "completed"
    },
    "tags": []
   },
   "outputs": [
    {
     "name": "stdout",
     "output_type": "stream",
     "text": [
      "\n",
      "Testing:  {'learning_rate': 0.5969161720427683, 'max_depth': 1, 'subsample': 0.6424870384644795, 'colsample_bytree': 0.5903948646972073, 'reg_lambda': 42.36547993389048, 'reg_alpha': 64.58941130666562, 'min_child_weight': 13.690029126618084}\n",
      "5770 5770\n",
      "CV Fold 1 rmse:0.41188 - 4524 rounds - it took 9 secs\n",
      "5770 5770\n",
      "CV Fold 2 rmse:0.42608 - 1556 rounds - it took 3 secs\n",
      "5770 5770\n",
      "CV Fold 3 rmse:0.41000 - 2636 rounds - it took 5 secs\n",
      "5770 5770\n",
      "CV Fold 4 rmse:0.40062 - 4218 rounds - it took 8 secs\n",
      "5770 5770\n",
      "CV Fold 5 rmse:0.39983 - 3405 rounds - it took 6 secs\n",
      "Last eval:  [0.5969161720427683, 1, 0.6424870384644795, 0.5903948646972073, 42.36547993389048, 64.58941130666562, 13.690029126618084]  - Score  0.4096813225128565\n",
      "Current iter:  0  - Best Score  0.4096813225128565  - Best Args:  [0.5969161720427683, 1, 0.6424870384644795, 0.5903948646972073, 42.36547993389048, 64.58941130666562, 13.690029126618084]\n",
      "\n",
      "Testing:  {'learning_rate': 0.8928552707742591, 'max_depth': 1, 'subsample': 0.3453906651221019, 'colsample_bytree': 0.529898605589215, 'reg_lambda': 81.21687287754933, 'reg_alpha': 47.99771723750574, 'min_child_weight': 12.390759086924064}\n",
      "5770 5770\n",
      "CV Fold 1 rmse:0.40684 - 3760 rounds - it took 7 secs\n",
      "5770 5770\n",
      "CV Fold 2 rmse:0.42511 - 873 rounds - it took 2 secs\n",
      "5770 5770\n",
      "CV Fold 3 rmse:0.40444 - 3200 rounds - it took 6 secs\n",
      "5770 5770\n",
      "CV Fold 4 rmse:0.39743 - 2414 rounds - it took 4 secs\n",
      "5770 5770\n",
      "CV Fold 5 rmse:0.40113 - 1061 rounds - it took 2 secs\n",
      "Last eval:  [0.8928552707742591, 1, 0.3453906651221019, 0.529898605589215, 81.21687287754933, 47.99771723750574, 12.390759086924064]  - Score  0.4069910560124521\n",
      "Current iter:  1  - Best Score  0.4069910560124521  - Best Args:  [0.8928552707742591, 1, 0.3453906651221019, 0.529898605589215, 81.21687287754933, 47.99771723750574, 12.390759086924064]\n",
      "\n",
      "Testing:  {'learning_rate': 0.8377179759020038, 'max_depth': 1, 'subsample': 0.17841636973138664, 'colsample_bytree': 0.11819655769629316, 'reg_lambda': 83.26198455479381, 'reg_alpha': 77.81567509498505, 'min_child_weight': 26.230352299157758}\n",
      "5770 5770\n",
      "CV Fold 1 rmse:0.46057 - 1233 rounds - it took 2 secs\n",
      "5770 5770\n",
      "CV Fold 2 rmse:0.47193 - 1580 rounds - it took 2 secs\n",
      "5770 5770\n",
      "CV Fold 3 rmse:0.45620 - 926 rounds - it took 1 secs\n",
      "5770 5770\n",
      "CV Fold 4 rmse:0.46018 - 879 rounds - it took 1 secs\n",
      "5770 5770\n",
      "CV Fold 5 rmse:0.45361 - 1362 rounds - it took 2 secs\n",
      "Last eval:  [0.8377179759020038, 1, 0.17841636973138664, 0.11819655769629316, 83.26198455479381, 77.81567509498505, 26.230352299157758]  - Score  0.4604970604371891\n",
      "Current iter:  2  - Best Score  0.4069910560124521  - Best Args:  [0.8928552707742591, 1, 0.3453906651221019, 0.529898605589215, 81.21687287754933, 47.99771723750574, 12.390759086924064]\n",
      "\n",
      "Testing:  {'learning_rate': 0.9788321588104365, 'max_depth': 1, 'subsample': 0.8208196767816799, 'colsample_bytree': 0.5684297315960845, 'reg_lambda': 67.88795301189604, 'reg_alpha': 72.06326547259168, 'min_child_weight': 17.87857397017811}\n",
      "5770 5770\n",
      "CV Fold 1 rmse:0.41265 - 3179 rounds - it took 6 secs\n",
      "5770 5770\n",
      "CV Fold 2 rmse:0.42638 - 1557 rounds - it took 3 secs\n",
      "5770 5770\n",
      "CV Fold 3 rmse:0.41017 - 1795 rounds - it took 3 secs\n",
      "5770 5770\n",
      "CV Fold 4 rmse:0.40149 - 3576 rounds - it took 6 secs\n",
      "5770 5770\n",
      "CV Fold 5 rmse:0.40218 - 2357 rounds - it took 5 secs\n",
      "Last eval:  [0.9788321588104365, 1, 0.8208196767816799, 0.5684297315960845, 67.88795301189604, 72.06326547259168, 17.87857397017811]  - Score  0.4105743125090119\n",
      "Current iter:  3  - Best Score  0.4069910560124521  - Best Args:  [0.8928552707742591, 1, 0.3453906651221019, 0.529898605589215, 81.21687287754933, 47.99771723750574, 12.390759086924064]\n",
      "\n",
      "Testing:  {'learning_rate': 0.5419994971545207, 'max_depth': 1, 'subsample': 0.5696634895750646, 'colsample_bytree': 0.4731957459914713, 'reg_lambda': 26.4555612104627, 'reg_alpha': 77.42336894342168, 'min_child_weight': 14.22835963427991}\n",
      "5770 5770\n",
      "CV Fold 1 rmse:0.42006 - 2740 rounds - it took 5 secs\n",
      "5770 5770\n",
      "CV Fold 2 rmse:0.42903 - 4433 rounds - it took 8 secs\n",
      "5770 5770\n",
      "CV Fold 3 rmse:0.41549 - 3428 rounds - it took 6 secs\n",
      "5770 5770\n",
      "CV Fold 4 rmse:0.40524 - 5765 rounds - it took 10 secs\n",
      "5770 5770\n",
      "CV Fold 5 rmse:0.40745 - 3113 rounds - it took 6 secs\n",
      "Last eval:  [0.5419994971545207, 1, 0.5696634895750646, 0.4731957459914713, 26.4555612104627, 77.42336894342168, 14.22835963427991]  - Score  0.4154559193717643\n",
      "Current iter:  4  - Best Score  0.4069910560124521  - Best Args:  [0.8928552707742591, 1, 0.3453906651221019, 0.529898605589215, 81.21687287754933, 47.99771723750574, 12.390759086924064]\n",
      "\n",
      "Testing:  {'learning_rate': 0.5727496093799621, 'max_depth': 1, 'subsample': 0.3917269070138927, 'colsample_bytree': 0.2347073804653149, 'reg_lambda': 22.232138825158767, 'reg_alpha': 38.6488981125862, 'min_child_weight': 27.17535579035274}\n",
      "5770 5770\n",
      "CV Fold 1 rmse:0.40729 - 4163 rounds - it took 7 secs\n",
      "5770 5770\n",
      "CV Fold 2 rmse:0.42280 - 1553 rounds - it took 3 secs\n",
      "5770 5770\n",
      "CV Fold 3 rmse:0.40761 - 2354 rounds - it took 4 secs\n",
      "5770 5770\n",
      "CV Fold 4 rmse:0.40379 - 1358 rounds - it took 2 secs\n",
      "5770 5770\n",
      "CV Fold 5 rmse:0.39717 - 2636 rounds - it took 4 secs\n",
      "Last eval:  [0.5727496093799621, 1, 0.3917269070138927, 0.2347073804653149, 22.232138825158767, 38.6488981125862, 27.17535579035274]  - Score  0.4077306886872325\n",
      "Current iter:  5  - Best Score  0.4069910560124521  - Best Args:  [0.8928552707742591, 1, 0.3453906651221019, 0.529898605589215, 81.21687287754933, 47.99771723750574, 12.390759086924064]\n",
      "\n",
      "Testing:  {'learning_rate': 0.45545049001211535, 'max_depth': 8, 'subsample': 0.4933287584194074, 'colsample_bytree': 0.7278680763345384, 'reg_lambda': 6.022547162926984, 'reg_alpha': 66.67667154456677, 'min_child_weight': 20.448498218926627}\n",
      "5770 5770\n",
      "CV Fold 1 rmse:0.39131 - 1147 rounds - it took 3 secs\n",
      "5770 5770\n",
      "CV Fold 2 rmse:0.40352 - 828 rounds - it took 2 secs\n",
      "5770 5770\n",
      "CV Fold 3 rmse:0.38920 - 1797 rounds - it took 5 secs\n",
      "5770 5770\n",
      "CV Fold 4 rmse:0.38470 - 1525 rounds - it took 4 secs\n",
      "5770 5770\n",
      "CV Fold 5 rmse:0.38456 - 1149 rounds - it took 3 secs\n",
      "Last eval:  [0.45545049001211535, 8, 0.4933287584194074, 0.7278680763345384, 6.022547162926984, 66.67667154456677, 20.448498218926627]  - Score  0.3906587192262184\n",
      "Current iter:  6  - Best Score  0.3906587192262184  - Best Args:  [0.45545049001211535, 8, 0.4933287584194074, 0.7278680763345384, 6.022547162926984, 66.67667154456677, 20.448498218926627]\n",
      "\n",
      "Testing:  {'learning_rate': 0.21827873546310253, 'max_depth': 4, 'subsample': 0.7756175270966107, 'colsample_bytree': 0.6470476018439211, 'reg_lambda': 32.504722900835255, 'reg_alpha': 3.842542647273473, 'min_child_weight': 19.393947680762718}\n",
      "5770 5770\n",
      "CV Fold 1 rmse:0.36936 - 607 rounds - it took 3 secs\n",
      "5770 5770\n",
      "CV Fold 2 rmse:0.37769 - 467 rounds - it took 2 secs\n",
      "5770 5770\n",
      "CV Fold 3 rmse:0.36969 - 629 rounds - it took 3 secs\n",
      "5770 5770\n",
      "CV Fold 4 rmse:0.36235 - 567 rounds - it took 3 secs\n",
      "5770 5770\n",
      "CV Fold 5 rmse:0.36554 - 341 rounds - it took 2 secs\n",
      "Last eval:  [0.21827873546310253, 4, 0.7756175270966107, 0.6470476018439211, 32.504722900835255, 3.842542647273473, 19.393947680762718]  - Score  0.3689277661452418\n",
      "Current iter:  7  - Best Score  0.3689277661452418  - Best Args:  [0.21827873546310253, 4, 0.7756175270966107, 0.6470476018439211, 32.504722900835255, 3.842542647273473, 19.393947680762718]\n",
      "\n",
      "Testing:  {'learning_rate': 0.9593597759382753, 'max_depth': 8, 'subsample': 0.28798908048535127, 'colsample_bytree': 0.24517856609649666, 'reg_lambda': 65.31083254653986, 'reg_alpha': 25.329160253978216, 'min_child_weight': 14.523012412832884}\n",
      "5770 5770\n",
      "CV Fold 1 rmse:0.38896 - 737 rounds - it took 2 secs\n",
      "5770 5770\n",
      "CV Fold 2 rmse:0.39663 - 700 rounds - it took 1 secs\n",
      "5770 5770\n",
      "CV Fold 3 rmse:0.39021 - 470 rounds - it took 1 secs\n",
      "5770 5770\n",
      "CV Fold 4 rmse:0.38083 - 758 rounds - it took 2 secs\n",
      "5770 5770\n",
      "CV Fold 5 rmse:0.37593 - 1351 rounds - it took 3 secs\n",
      "Last eval:  [0.9593597759382753, 8, 0.28798908048535127, 0.24517856609649666, 65.31083254653986, 25.329160253978216, 14.523012412832884]  - Score  0.38651196163800633\n",
      "Current iter:  8  - Best Score  0.3689277661452418  - Best Args:  [0.21827873546310253, 4, 0.7756175270966107, 0.6470476018439211, 32.504722900835255, 3.842542647273473, 19.393947680762718]\n",
      "\n",
      "Testing:  {'learning_rate': 0.25198133608158674, 'max_depth': 8, 'subsample': 0.4042068533550026, 'colsample_bytree': 0.7072770900331187, 'reg_lambda': 31.720174206929613, 'reg_alpha': 77.83454820259091, 'min_child_weight': 28.537560550071525}\n"
     ]
    },
    {
     "name": "stdout",
     "output_type": "stream",
     "text": [
      "5770 5770\n",
      "CV Fold 1 rmse:0.39898 - 1667 rounds - it took 4 secs\n",
      "5770 5770\n",
      "CV Fold 2 rmse:0.41184 - 1897 rounds - it took 4 secs\n",
      "5770 5770\n",
      "CV Fold 3 rmse:0.39936 - 1284 rounds - it took 3 secs\n",
      "5770 5770\n",
      "CV Fold 4 rmse:0.39210 - 1084 rounds - it took 623 secs\n",
      "5770 5770\n",
      "CV Fold 5 rmse:0.38817 - 1589 rounds - it took 4 secs\n",
      "Last eval:  [0.25198133608158674, 8, 0.4042068533550026, 0.7072770900331187, 31.720174206929613, 77.83454820259091, 28.537560550071525]  - Score  0.3980912527711372\n",
      "Current iter:  9  - Best Score  0.3689277661452418  - Best Args:  [0.21827873546310253, 4, 0.7756175270966107, 0.6470476018439211, 32.504722900835255, 3.842542647273473, 19.393947680762718]\n",
      "\n",
      "Testing:  {'learning_rate': 0.6659015982805438, 'max_depth': 7, 'subsample': 0.18739114821375516, 'colsample_bytree': 0.8541504167489236, 'reg_lambda': 9.609840789396308, 'reg_alpha': 97.6459465013396, 'min_child_weight': 14.590884847783347}\n",
      "5770 5770\n",
      "CV Fold 1 rmse:0.46100 - 243 rounds - it took 0 secs\n",
      "Early stopping for under-performing fold: threshold is 0.39323\n",
      "Last eval:  [0.6659015982805438, 7, 0.18739114821375516, 0.8541504167489236, 9.609840789396308, 97.6459465013396, 14.590884847783347]  - Score  0.46100033103725824\n",
      "Current iter:  10  - Best Score  0.3689277661452418  - Best Args:  [0.21827873546310253, 4, 0.7756175270966107, 0.6470476018439211, 32.504722900835255, 3.842542647273473, 19.393947680762718]\n",
      "\n",
      "Testing:  {'learning_rate': 0.9769934773084339, 'max_depth': 8, 'subsample': 0.5060432930688353, 'colsample_bytree': 0.11798889886788287, 'reg_lambda': 44.171092124884545, 'reg_alpha': 97.95867288127286, 'min_child_weight': 11.423889455110325}\n",
      "5770 5770\n",
      "CV Fold 1 rmse:0.42038 - 1022 rounds - it took 2 secs\n",
      "Early stopping for under-performing fold: threshold is 0.39323\n",
      "Last eval:  [0.9769934773084339, 8, 0.5060432930688353, 0.11798889886788287, 44.171092124884545, 97.95867288127286, 11.423889455110325]  - Score  0.4203842233107813\n",
      "Current iter:  11  - Best Score  0.3689277661452418  - Best Args:  [0.21827873546310253, 4, 0.7756175270966107, 0.6470476018439211, 32.504722900835255, 3.842542647273473, 19.393947680762718]\n",
      "\n",
      "Testing:  {'learning_rate': 0.48608459552780126, 'max_depth': 2, 'subsample': 0.3861848614545784, 'colsample_bytree': 0.472836695063203, 'reg_lambda': 6.414749634878437, 'reg_alpha': 69.24721193700199, 'min_child_weight': 17.431442171990682}\n",
      "5770 5770\n",
      "CV Fold 1 rmse:0.41323 - 712 rounds - it took 1 secs\n",
      "Early stopping for under-performing fold: threshold is 0.39323\n",
      "Last eval:  [0.48608459552780126, 2, 0.3861848614545784, 0.472836695063203, 6.414749634878437, 69.24721193700199, 17.431442171990682]  - Score  0.41323340259284397\n",
      "Current iter:  12  - Best Score  0.3689277661452418  - Best Args:  [0.21827873546310253, 4, 0.7756175270966107, 0.6470476018439211, 32.504722900835255, 3.842542647273473, 19.393947680762718]\n",
      "\n",
      "Testing:  {'learning_rate': 0.272735596030051, 'max_depth': 4, 'subsample': 0.9250506586175148, 'colsample_bytree': 0.9290418492134799, 'reg_lambda': 8.31124926306024, 'reg_alpha': 27.77185612810325, 'min_child_weight': 1.2713444408394459}\n",
      "5770 5770\n",
      "CV Fold 1 rmse:0.37879 - 2056 rounds - it took 9 secs\n",
      "5770 5770\n",
      "CV Fold 2 rmse:0.38412 - 3261 rounds - it took 14 secs\n",
      "5770 5770\n",
      "CV Fold 3 rmse:0.37743 - 1552 rounds - it took 8 secs\n",
      "5770 5770\n",
      "CV Fold 4 rmse:0.37213 - 1968 rounds - it took 9 secs\n",
      "5770 5770\n",
      "CV Fold 5 rmse:0.37256 - 1654 rounds - it took 999 secs\n",
      "Last eval:  [0.272735596030051, 4, 0.9250506586175148, 0.9290418492134799, 8.31124926306024, 27.77185612810325, 1.2713444408394459]  - Score  0.3770070362326468\n",
      "Current iter:  13  - Best Score  0.3689277661452418  - Best Args:  [0.21827873546310253, 4, 0.7756175270966107, 0.6470476018439211, 32.504722900835255, 3.842542647273473, 19.393947680762718]\n",
      "\n",
      "Testing:  {'learning_rate': 0.8439186588710538, 'max_depth': 1, 'subsample': 0.7446944837067091, 'colsample_bytree': 0.360465483652481, 'reg_lambda': 18.319136200711686, 'reg_alpha': 58.651293481008324, 'min_child_weight': 1.5831188394373132}\n",
      "5770 5770\n",
      "CV Fold 1 rmse:0.41068 - 3583 rounds - it took 2019 secs\n",
      "Early stopping for under-performing fold: threshold is 0.39014\n",
      "Last eval:  [0.8439186588710538, 1, 0.7446944837067091, 0.360465483652481, 18.319136200711686, 58.651293481008324, 1.5831188394373132]  - Score  0.4106752682787017\n",
      "Current iter:  14  - Best Score  0.3689277661452418  - Best Args:  [0.21827873546310253, 4, 0.7756175270966107, 0.6470476018439211, 32.504722900835255, 3.842542647273473, 19.393947680762718]\n",
      "\n",
      "Testing:  {'learning_rate': 0.8306506289251896, 'max_depth': 7, 'subsample': 0.23179758645620105, 'colsample_bytree': 0.6126565653309761, 'reg_lambda': 70.37372792899164, 'reg_alpha': 28.84764370485287, 'min_child_weight': 13.565353797479279}\n",
      "5770 5770\n",
      "CV Fold 1 rmse:0.38360 - 922 rounds - it took 3 secs\n",
      "5770 5770\n",
      "CV Fold 2 rmse:0.39312 - 586 rounds - it took 2 secs\n",
      "5770 5770\n",
      "CV Fold 3 rmse:0.37910 - 862 rounds - it took 2 secs\n",
      "5770 5770\n",
      "CV Fold 4 rmse:0.37684 - 773 rounds - it took 2 secs\n",
      "5770 5770\n",
      "CV Fold 5 rmse:0.37686 - 522 rounds - it took 2 secs\n",
      "Last eval:  [0.8306506289251896, 7, 0.23179758645620105, 0.6126565653309761, 70.37372792899164, 28.84764370485287, 13.565353797479279]  - Score  0.38190211940226915\n",
      "Current iter:  15  - Best Score  0.3689277661452418  - Best Args:  [0.21827873546310253, 4, 0.7756175270966107, 0.6470476018439211, 32.504722900835255, 3.842542647273473, 19.393947680762718]\n",
      "\n",
      "Testing:  {'learning_rate': 0.7585456269263906, 'max_depth': 8, 'subsample': 0.6328377381446552, 'colsample_bytree': 0.6150267152117861, 'reg_lambda': 22.308163264061836, 'reg_alpha': 95.27490115169851, 'min_child_weight': 13.966635979911194}\n",
      "5770 5770\n",
      "CV Fold 1 rmse:0.40091 - 495 rounds - it took 1 secs\n",
      "Early stopping for under-performing fold: threshold is 0.38762\n",
      "Last eval:  [0.7585456269263906, 8, 0.6328377381446552, 0.6150267152117861, 22.308163264061836, 95.27490115169851, 13.966635979911194]  - Score  0.40090510913162836\n",
      "Current iter:  16  - Best Score  0.3689277661452418  - Best Args:  [0.21827873546310253, 4, 0.7756175270966107, 0.6470476018439211, 32.504722900835255, 3.842542647273473, 19.393947680762718]\n",
      "\n",
      "Testing:  {'learning_rate': 0.8479445857464166, 'max_depth': 6, 'subsample': 0.204581718651155, 'colsample_bytree': 0.7903213332028541, 'reg_lambda': 41.18201389648448, 'reg_alpha': 67.5439081200236, 'min_child_weight': 8.244091993994365}\n",
      "5770 5770\n",
      "CV Fold 1 rmse:0.41625 - 342 rounds - it took 1 secs\n",
      "Early stopping for under-performing fold: threshold is 0.38762\n",
      "Last eval:  [0.8479445857464166, 6, 0.204581718651155, 0.7903213332028541, 41.18201389648448, 67.5439081200236, 8.244091993994365]  - Score  0.41624710650558483\n",
      "Current iter:  17  - Best Score  0.3689277661452418  - Best Args:  [0.21827873546310253, 4, 0.7756175270966107, 0.6470476018439211, 32.504722900835255, 3.842542647273473, 19.393947680762718]\n",
      "\n",
      "Testing:  {'learning_rate': 0.3200861486264915, 'max_depth': 7, 'subsample': 0.7232784310699893, 'colsample_bytree': 0.7527288518376766, 'reg_lambda': 50.132438192670236, 'reg_alpha': 95.6083634723224, 'min_child_weight': 19.675715777659487}\n",
      "5770 5770\n",
      "CV Fold 1 rmse:0.39647 - 646 rounds - it took 1023 secs\n",
      "Early stopping for under-performing fold: threshold is 0.38762\n",
      "Last eval:  [0.3200861486264915, 7, 0.7232784310699893, 0.7527288518376766, 50.132438192670236, 95.6083634723224, 19.675715777659487]  - Score  0.39647308326029357\n",
      "Current iter:  18  - Best Score  0.3689277661452418  - Best Args:  [0.21827873546310253, 4, 0.7756175270966107, 0.6470476018439211, 32.504722900835255, 3.842542647273473, 19.393947680762718]\n",
      "\n",
      "Testing:  {'learning_rate': 0.42961649807259794, 'max_depth': 4, 'subsample': 0.5273807638680479, 'colsample_bytree': 0.5231189703301887, 'reg_lambda': 71.60745312286433, 'reg_alpha': 28.799100436328054, 'min_child_weight': 12.12040452601349}\n",
      "5770 5770\n",
      "CV Fold 1 rmse:0.37853 - 1320 rounds - it took 5 secs\n",
      "5770 5770\n",
      "CV Fold 2 rmse:0.38604 - 1307 rounds - it took 58 secs\n",
      "5770 5770\n",
      "CV Fold 3 rmse:0.37778 - 1111 rounds - it took 1034 secs\n",
      "5770 5770\n",
      "CV Fold 4 rmse:0.36827 - 1963 rounds - it took 944 secs\n",
      "5770 5770\n",
      "CV Fold 5 rmse:0.37204 - 1140 rounds - it took 363 secs\n",
      "Last eval:  [0.42961649807259794, 4, 0.5273807638680479, 0.5231189703301887, 71.60745312286433, 28.799100436328054, 12.12040452601349]  - Score  0.37653253296246725\n",
      "Current iter:  19  - Best Score  0.3689277661452418  - Best Args:  [0.21827873546310253, 4, 0.7756175270966107, 0.6470476018439211, 32.504722900835255, 3.842542647273473, 19.393947680762718]\n",
      "\n",
      "Testing:  {'learning_rate': 0.7516781387811975, 'max_depth': 1, 'subsample': 0.22192665780020523, 'colsample_bytree': 0.3684540933604278, 'reg_lambda': 56.996491070126496, 'reg_alpha': 59.08727612481733, 'min_child_weight': 17.655432216637788}\n"
     ]
    },
    {
     "name": "stdout",
     "output_type": "stream",
     "text": [
      "5770 5770\n",
      "CV Fold 1 rmse:0.42960 - 1185 rounds - it took 2 secs\n",
      "Early stopping for under-performing fold: threshold is 0.38360\n",
      "Last eval:  [0.7516781387811975, 1, 0.22192665780020523, 0.3684540933604278, 56.996491070126496, 59.08727612481733, 17.655432216637788]  - Score  0.42959603208815206\n",
      "Current iter:  20  - Best Score  0.3689277661452418  - Best Args:  [0.21827873546310253, 4, 0.7756175270966107, 0.6470476018439211, 32.504722900835255, 3.842542647273473, 19.393947680762718]\n",
      "\n",
      "Testing:  {'learning_rate': 0.6566688116585624, 'max_depth': 6, 'subsample': 0.38889751723614785, 'colsample_bytree': 0.2991364166654045, 'reg_lambda': 14.126390492589671, 'reg_alpha': 9.72599270631739, 'min_child_weight': 29.537224999560248}\n",
      "5770 5770\n",
      "CV Fold 1 rmse:0.38169 - 296 rounds - it took 1 secs\n",
      "5770 5770\n",
      "CV Fold 2 rmse:0.38638 - 490 rounds - it took 1 secs\n",
      "5770 5770\n",
      "CV Fold 3 rmse:0.37723 - 357 rounds - it took 1 secs\n",
      "5770 5770\n",
      "CV Fold 4 rmse:0.37131 - 454 rounds - it took 932 secs\n",
      "5770 5770\n",
      "CV Fold 5 rmse:0.37185 - 264 rounds - it took 1 secs\n",
      "Last eval:  [0.6566688116585624, 6, 0.38889751723614785, 0.2991364166654045, 14.126390492589671, 9.72599270631739, 29.537224999560248]  - Score  0.3776915867162035\n",
      "Current iter:  21  - Best Score  0.3689277661452418  - Best Args:  [0.21827873546310253, 4, 0.7756175270966107, 0.6470476018439211, 32.504722900835255, 3.842542647273473, 19.393947680762718]\n",
      "\n",
      "Testing:  {'learning_rate': 0.26773751831153064, 'max_depth': 6, 'subsample': 0.7334997251863298, 'colsample_bytree': 0.19020419858107102, 'reg_lambda': 91.94826137446736, 'reg_alpha': 71.42412995491115, 'min_child_weight': 29.966563190468133}\n",
      "5770 5770\n",
      "CV Fold 1 rmse:0.40778 - 1323 rounds - it took 2 secs\n",
      "Early stopping for under-performing fold: threshold is 0.38217\n",
      "Last eval:  [0.26773751831153064, 6, 0.7334997251863298, 0.19020419858107102, 91.94826137446736, 71.42412995491115, 29.966563190468133]  - Score  0.40778280644211184\n",
      "Current iter:  22  - Best Score  0.3689277661452418  - Best Args:  [0.21827873546310253, 4, 0.7756175270966107, 0.6470476018439211, 32.504722900835255, 3.842542647273473, 19.393947680762718]\n",
      "\n",
      "Testing:  {'learning_rate': 0.15795382161141383, 'max_depth': 8, 'subsample': 0.13380344544532627, 'colsample_bytree': 0.5574839037210019, 'reg_lambda': 16.684751304849968, 'reg_alpha': 77.90510196090358, 'min_child_weight': 26.08306557247229}\n",
      "5770 5770\n",
      "CV Fold 1 rmse:0.43964 - 956 rounds - it took 1057 secs\n",
      "Early stopping for under-performing fold: threshold is 0.38217\n",
      "Last eval:  [0.15795382161141383, 8, 0.13380344544532627, 0.5574839037210019, 16.684751304849968, 77.90510196090358, 26.08306557247229]  - Score  0.4396385819515332\n",
      "Current iter:  23  - Best Score  0.3689277661452418  - Best Args:  [0.21827873546310253, 4, 0.7756175270966107, 0.6470476018439211, 32.504722900835255, 3.842542647273473, 19.393947680762718]\n",
      "\n",
      "Testing:  {'learning_rate': 0.41728275651790003, 'max_depth': 4, 'subsample': 0.4664649675033997, 'colsample_bytree': 0.16225029590962425, 'reg_lambda': 69.74287731445638, 'reg_alpha': 45.354268267806894, 'min_child_weight': 21.939612384640093}\n",
      "5770 5770\n",
      "CV Fold 1 rmse:0.40509 - 1627 rounds - it took 3 secs\n",
      "Early stopping for under-performing fold: threshold is 0.38217\n",
      "Last eval:  [0.41728275651790003, 4, 0.4664649675033997, 0.16225029590962425, 69.74287731445638, 45.354268267806894, 21.939612384640093]  - Score  0.40508551063204\n",
      "Current iter:  24  - Best Score  0.3689277661452418  - Best Args:  [0.21827873546310253, 4, 0.7756175270966107, 0.6470476018439211, 32.504722900835255, 3.842542647273473, 19.393947680762718]\n",
      "\n",
      "Testing:  {'learning_rate': 0.867718502669343, 'max_depth': 8, 'subsample': 0.11496517636048054, 'colsample_bytree': 0.30766810186611615, 'reg_lambda': 76.49116989968573, 'reg_alpha': 94.41235194354547, 'min_child_weight': 22.749978214332913}\n",
      "5770 5770\n",
      "CV Fold 1 rmse:0.47084 - 222 rounds - it took 0 secs\n",
      "Early stopping for under-performing fold: threshold is 0.38217\n",
      "Last eval:  [0.867718502669343, 8, 0.11496517636048054, 0.30766810186611615, 76.49116989968573, 94.41235194354547, 22.749978214332913]  - Score  0.47084273509482927\n",
      "Current iter:  25  - Best Score  0.3689277661452418  - Best Args:  [0.21827873546310253, 4, 0.7756175270966107, 0.6470476018439211, 32.504722900835255, 3.842542647273473, 19.393947680762718]\n",
      "\n",
      "Testing:  {'learning_rate': 0.34600978125502346, 'max_depth': 1, 'subsample': 0.14890418950532827, 'colsample_bytree': 0.2799968724067601, 'reg_lambda': 1.8521794460613974, 'reg_alpha': 79.36977033574207, 'min_child_weight': 7.4938159537510245}\n",
      "5770 5770\n",
      "CV Fold 1 rmse:0.45227 - 1137 rounds - it took 950 secs\n",
      "Early stopping for under-performing fold: threshold is 0.38217\n",
      "Last eval:  [0.34600978125502346, 1, 0.14890418950532827, 0.2799968724067601, 1.8521794460613974, 79.36977033574207, 7.4938159537510245]  - Score  0.45227232968836895\n",
      "Current iter:  26  - Best Score  0.3689277661452418  - Best Args:  [0.21827873546310253, 4, 0.7756175270966107, 0.6470476018439211, 32.504722900835255, 3.842542647273473, 19.393947680762718]\n",
      "\n",
      "Testing:  {'learning_rate': 0.3518981638899337, 'max_depth': 1, 'subsample': 0.6474275792686117, 'colsample_bytree': 0.6369898656655478, 'reg_lambda': 78.36442453018886, 'reg_alpha': 50.00262977293015, 'min_child_weight': 2.4607316459687705}\n",
      "5770 5770\n",
      "CV Fold 1 rmse:0.40860 - 3761 rounds - it took 916 secs\n",
      "Early stopping for under-performing fold: threshold is 0.38217\n",
      "Last eval:  [0.3518981638899337, 1, 0.6474275792686117, 0.6369898656655478, 78.36442453018886, 50.00262977293015, 2.4607316459687705]  - Score  0.4085974660163157\n",
      "Current iter:  27  - Best Score  0.3689277661452418  - Best Args:  [0.21827873546310253, 4, 0.7756175270966107, 0.6470476018439211, 32.504722900835255, 3.842542647273473, 19.393947680762718]\n",
      "\n",
      "Testing:  {'learning_rate': 0.7021070939713261, 'max_depth': 1, 'subsample': 0.9407925981323145, 'colsample_bytree': 0.6525693603693065, 'reg_lambda': 53.56328030249584, 'reg_alpha': 58.990997635457106, 'min_child_weight': 22.173538855986322}\n",
      "5770 5770\n",
      "CV Fold 1 rmse:0.41255 - 3333 rounds - it took 927 secs\n",
      "Early stopping for under-performing fold: threshold is 0.38217\n",
      "Last eval:  [0.7021070939713261, 1, 0.9407925981323145, 0.6525693603693065, 53.56328030249584, 58.990997635457106, 22.173538855986322]  - Score  0.41254747578585044\n",
      "Current iter:  28  - Best Score  0.3689277661452418  - Best Args:  [0.21827873546310253, 4, 0.7756175270966107, 0.6470476018439211, 32.504722900835255, 3.842542647273473, 19.393947680762718]\n",
      "\n",
      "Testing:  {'learning_rate': 0.3188255455248059, 'max_depth': 6, 'subsample': 0.29115144900127776, 'colsample_bytree': 0.3001989019481369, 'reg_lambda': 21.874937373677188, 'reg_alpha': 56.95735345747381, 'min_child_weight': 14.111162015969347}\n",
      "5770 5770\n",
      "CV Fold 1 rmse:0.39963 - 2067 rounds - it took 1052 secs\n",
      "Early stopping for under-performing fold: threshold is 0.38217\n",
      "Last eval:  [0.3188255455248059, 6, 0.29115144900127776, 0.3001989019481369, 21.874937373677188, 56.95735345747381, 14.111162015969347]  - Score  0.39962672396435683\n",
      "Current iter:  29  - Best Score  0.3689277661452418  - Best Args:  [0.21827873546310253, 4, 0.7756175270966107, 0.6470476018439211, 32.504722900835255, 3.842542647273473, 19.393947680762718]\n"
     ]
    }
   ],
   "source": [
    "gp_round = dummy_minimize(func=objective,\n",
    "                          dimensions=space,\n",
    "                          n_calls=30,\n",
    "                          callback=[onstep],\n",
    "                          random_state=0)"
   ]
  },
  {
   "cell_type": "code",
   "execution_count": 160,
   "id": "bc78feab",
   "metadata": {
    "execution": {
     "iopub.execute_input": "2021-09-08T22:10:18.268244Z",
     "iopub.status.busy": "2021-09-08T22:10:18.267625Z",
     "iopub.status.idle": "2021-09-08T22:10:18.277837Z",
     "shell.execute_reply": "2021-09-08T22:10:18.277144Z"
    },
    "papermill": {
     "duration": 0.364665,
     "end_time": "2021-09-08T22:10:18.277979",
     "exception": false,
     "start_time": "2021-09-08T22:10:17.913314",
     "status": "completed"
    },
    "tags": []
   },
   "outputs": [
    {
     "name": "stdout",
     "output_type": "stream",
     "text": [
      "30\n"
     ]
    }
   ],
   "source": [
    "x0, y0 = joblib.load('checkpoint.pkl')\n",
    "print(len(x0))"
   ]
  },
  {
   "cell_type": "code",
   "execution_count": 161,
   "id": "67f9e8b3",
   "metadata": {
    "execution": {
     "iopub.execute_input": "2021-09-08T22:10:19.082018Z",
     "iopub.status.busy": "2021-09-08T22:10:19.078033Z",
     "iopub.status.idle": "2021-09-09T04:44:45.277800Z",
     "shell.execute_reply": "2021-09-09T04:44:45.278459Z"
    },
    "papermill": {
     "duration": 23666.636538,
     "end_time": "2021-09-09T04:44:45.278795",
     "exception": false,
     "start_time": "2021-09-08T22:10:18.642257",
     "status": "completed"
    },
    "tags": []
   },
   "outputs": [
    {
     "name": "stdout",
     "output_type": "stream",
     "text": [
      "Last eval:  [0.3188255455248059, 6, 0.29115144900127776, 0.3001989019481369, 21.874937373677188, 56.95735345747381, 14.111162015969347]  - Score  0.39962672396435683\n",
      "Current iter:  30  - Best Score  0.3689277661452418  - Best Args:  [0.21827873546310253, 4, 0.7756175270966107, 0.6470476018439211, 32.504722900835255, 3.842542647273473, 19.393947680762718]\n",
      "\n",
      "Testing:  {'learning_rate': 0.01, 'max_depth': 8, 'subsample': 0.6020826274165189, 'colsample_bytree': 1.0, 'reg_lambda': 0.0, 'reg_alpha': 2.486596047168666, 'min_child_weight': 1.0}\n",
      "5770 5770\n",
      "CV Fold 1 rmse:0.36396 - 1353 rounds - it took 14 secs\n",
      "5770 5770\n",
      "CV Fold 2 rmse:0.37603 - 1282 rounds - it took 13 secs\n",
      "5770 5770\n",
      "CV Fold 3 rmse:0.36792 - 1674 rounds - it took 18 secs\n",
      "5770 5770\n",
      "CV Fold 4 rmse:0.36220 - 1141 rounds - it took 11 secs\n",
      "5770 5770\n",
      "CV Fold 5 rmse:0.36466 - 1225 rounds - it took 12 secs\n",
      "Last eval:  [0.01, 8, 0.6020826274165189, 1.0, 0.0, 2.486596047168666, 1.0]  - Score  0.3669540207930301\n",
      "Current iter:  31  - Best Score  0.3669540207930301  - Best Args:  [0.01, 8, 0.6020826274165189, 1.0, 0.0, 2.486596047168666, 1.0]\n",
      "\n",
      "Testing:  {'learning_rate': 0.06178820184393547, 'max_depth': 8, 'subsample': 1.0, 'colsample_bytree': 1.0, 'reg_lambda': 100.0, 'reg_alpha': 0.0, 'min_child_weight': 12.498397081544617}\n",
      "5770 5770\n",
      "CV Fold 1 rmse:0.36747 - 1038 rounds - it took 10 secs\n",
      "5770 5770\n",
      "CV Fold 2 rmse:0.37778 - 538 rounds - it took 5 secs\n",
      "5770 5770\n",
      "CV Fold 3 rmse:0.36810 - 1177 rounds - it took 11 secs\n",
      "5770 5770\n",
      "CV Fold 4 rmse:0.36274 - 738 rounds - it took 7 secs\n",
      "5770 5770\n",
      "CV Fold 5 rmse:0.36464 - 1173 rounds - it took 11 secs\n",
      "Last eval:  [0.06178820184393547, 8, 1.0, 1.0, 100.0, 0.0, 12.498397081544617]  - Score  0.3681455493942873\n",
      "Current iter:  32  - Best Score  0.3669540207930301  - Best Args:  [0.01, 8, 0.6020826274165189, 1.0, 0.0, 2.486596047168666, 1.0]\n",
      "\n",
      "Testing:  {'learning_rate': 1.0, 'max_depth': 8, 'subsample': 0.6083863972159969, 'colsample_bytree': 1.0, 'reg_lambda': 0.0, 'reg_alpha': 19.978891939980432, 'min_child_weight': 1.0}\n",
      "5770 5770\n",
      "CV Fold 1 rmse:0.37482 - 449 rounds - it took 4 secs\n",
      "5770 5770\n",
      "CV Fold 2 rmse:0.38078 - 495 rounds - it took 4 secs\n",
      "5770 5770\n",
      "CV Fold 3 rmse:0.37751 - 575 rounds - it took 5 secs\n",
      "Early stopping for under-performing fold: threshold is 0.37738\n",
      "Last eval:  [1.0, 8, 0.6083863972159969, 1.0, 0.0, 19.978891939980432, 1.0]  - Score  0.3777021700028093\n",
      "Current iter:  33  - Best Score  0.3669540207930301  - Best Args:  [0.01, 8, 0.6020826274165189, 1.0, 0.0, 2.486596047168666, 1.0]\n",
      "\n",
      "Testing:  {'learning_rate': 0.01, 'max_depth': 8, 'subsample': 0.1, 'colsample_bytree': 1.0, 'reg_lambda': 86.1263773990809, 'reg_alpha': 0.0, 'min_child_weight': 1.0}\n",
      "5770 5770\n",
      "CV Fold 1 rmse:0.37113 - 3467 rounds - it took 20 secs\n",
      "5770 5770\n",
      "CV Fold 2 rmse:0.38188 - 2680 rounds - it took 15 secs\n",
      "5770 5770\n",
      "CV Fold 3 rmse:0.37117 - 3430 rounds - it took 19 secs\n",
      "5770 5770\n",
      "CV Fold 4 rmse:0.36335 - 4313 rounds - it took 25 secs\n",
      "5770 5770\n",
      "CV Fold 5 rmse:0.36684 - 3388 rounds - it took 19 secs\n",
      "Last eval:  [0.01, 8, 0.1, 1.0, 86.1263773990809, 0.0, 1.0]  - Score  0.3708739582415673\n",
      "Current iter:  34  - Best Score  0.3669540207930301  - Best Args:  [0.01, 8, 0.6020826274165189, 1.0, 0.0, 2.486596047168666, 1.0]\n",
      "\n",
      "Testing:  {'learning_rate': 0.01, 'max_depth': 1, 'subsample': 1.0, 'colsample_bytree': 1.0, 'reg_lambda': 0.0, 'reg_alpha': 0.0, 'min_child_weight': 1.0}\n",
      "5770 5770\n",
      "CV Fold 1 rmse:0.40298 - 9999 rounds - it took 19 secs\n",
      "Early stopping for under-performing fold: threshold is 0.37575\n",
      "Last eval:  [0.01, 1, 1.0, 1.0, 0.0, 0.0, 1.0]  - Score  0.4029810468184343\n",
      "Current iter:  35  - Best Score  0.3669540207930301  - Best Args:  [0.01, 8, 0.6020826274165189, 1.0, 0.0, 2.486596047168666, 1.0]\n",
      "\n",
      "Testing:  {'learning_rate': 0.01, 'max_depth': 5, 'subsample': 0.4971183299914358, 'colsample_bytree': 1.0, 'reg_lambda': 16.763183133463173, 'reg_alpha': 0.08463602347079122, 'min_child_weight': 1.0}\n",
      "5770 5770\n",
      "CV Fold 1 rmse:0.36751 - 3552 rounds - it took 23 secs\n",
      "5770 5770\n",
      "CV Fold 2 rmse:0.37821 - 3216 rounds - it took 19 secs\n",
      "5770 5770\n",
      "CV Fold 3 rmse:0.36897 - 4104 rounds - it took 25 secs\n",
      "5770 5770\n",
      "CV Fold 4 rmse:0.36299 - 3368 rounds - it took 21 secs\n",
      "5770 5770\n",
      "CV Fold 5 rmse:0.36493 - 3393 rounds - it took 21 secs\n",
      "Last eval:  [0.01, 5, 0.4971183299914358, 1.0, 16.763183133463173, 0.08463602347079122, 1.0]  - Score  0.368524375487392\n",
      "Current iter:  36  - Best Score  0.3669540207930301  - Best Args:  [0.01, 8, 0.6020826274165189, 1.0, 0.0, 2.486596047168666, 1.0]\n",
      "\n",
      "Testing:  {'learning_rate': 0.01, 'max_depth': 8, 'subsample': 1.0, 'colsample_bytree': 0.1, 'reg_lambda': 0.0, 'reg_alpha': 0.0, 'min_child_weight': 1.0}\n",
      "5770 5770\n",
      "CV Fold 1 rmse:0.39771 - 5948 rounds - it took 17 secs\n",
      "Early stopping for under-performing fold: threshold is 0.37298\n",
      "Last eval:  [0.01, 8, 1.0, 0.1, 0.0, 0.0, 1.0]  - Score  0.3977114367767657\n",
      "Current iter:  37  - Best Score  0.3669540207930301  - Best Args:  [0.01, 8, 0.6020826274165189, 1.0, 0.0, 2.486596047168666, 1.0]\n",
      "\n",
      "Testing:  {'learning_rate': 0.01, 'max_depth': 2, 'subsample': 0.1, 'colsample_bytree': 1.0, 'reg_lambda': 0.0, 'reg_alpha': 0.0, 'min_child_weight': 25.38335571265801}\n",
      "5770 5770\n",
      "CV Fold 1 rmse:0.38905 - 4251 rounds - it took 9 secs\n",
      "Early stopping for under-performing fold: threshold is 0.37298\n",
      "Last eval:  [0.01, 2, 0.1, 1.0, 0.0, 0.0, 25.38335571265801]  - Score  0.38904883931322753\n",
      "Current iter:  38  - Best Score  0.3669540207930301  - Best Args:  [0.01, 8, 0.6020826274165189, 1.0, 0.0, 2.486596047168666, 1.0]\n",
      "\n",
      "Testing:  {'learning_rate': 0.01, 'max_depth': 8, 'subsample': 0.5867175745924278, 'colsample_bytree': 1.0, 'reg_lambda': 100.0, 'reg_alpha': 0.0, 'min_child_weight': 30.0}\n",
      "5770 5770\n",
      "CV Fold 1 rmse:0.37025 - 2769 rounds - it took 25 secs\n",
      "5770 5770\n",
      "CV Fold 2 rmse:0.37783 - 3025 rounds - it took 28 secs\n",
      "5770 5770\n",
      "CV Fold 3 rmse:0.37046 - 3031 rounds - it took 29 secs\n",
      "5770 5770\n",
      "CV Fold 4 rmse:0.36379 - 2979 rounds - it took 31 secs\n",
      "5770 5770\n",
      "CV Fold 5 rmse:0.36476 - 2567 rounds - it took 25 secs\n",
      "Last eval:  [0.01, 8, 0.5867175745924278, 1.0, 100.0, 0.0, 30.0]  - Score  0.3694176320238193\n",
      "Current iter:  39  - Best Score  0.3669540207930301  - Best Args:  [0.01, 8, 0.6020826274165189, 1.0, 0.0, 2.486596047168666, 1.0]\n",
      "\n",
      "Testing:  {'learning_rate': 0.01, 'max_depth': 6, 'subsample': 0.8070093781749291, 'colsample_bytree': 1.0, 'reg_lambda': 0.0, 'reg_alpha': 0.0, 'min_child_weight': 7.277896824400744}\n",
      "5770 5770\n",
      "CV Fold 1 rmse:0.36592 - 1920 rounds - it took 16 secs\n",
      "5770 5770\n",
      "CV Fold 2 rmse:0.37570 - 2567 rounds - it took 22 secs\n",
      "5770 5770\n",
      "CV Fold 3 rmse:0.36638 - 2440 rounds - it took 21 secs\n",
      "5770 5770\n",
      "CV Fold 4 rmse:0.36412 - 1226 rounds - it took 11 secs\n",
      "Early stopping for under-performing fold: threshold is 0.36357\n",
      "Last eval:  [0.01, 6, 0.8070093781749291, 1.0, 0.0, 0.0, 7.277896824400744]  - Score  0.36802870077151734\n",
      "Current iter:  40  - Best Score  0.3669540207930301  - Best Args:  [0.01, 8, 0.6020826274165189, 1.0, 0.0, 2.486596047168666, 1.0]\n",
      "\n",
      "Testing:  {'learning_rate': 0.01, 'max_depth': 8, 'subsample': 0.360157095905162, 'colsample_bytree': 0.6900964513653959, 'reg_lambda': 0.0, 'reg_alpha': 0.0, 'min_child_weight': 1.0}\n",
      "5770 5770\n",
      "CV Fold 1 rmse:0.36166 - 1472 rounds - it took 14 secs\n",
      "5770 5770\n",
      "CV Fold 2 rmse:0.37487 - 1104 rounds - it took 10 secs\n",
      "5770 5770\n",
      "CV Fold 3 rmse:0.36265 - 1221 rounds - it took 11 secs\n",
      "5770 5770\n",
      "CV Fold 4 rmse:0.36137 - 1111 rounds - it took 10 secs\n",
      "5770 5770\n",
      "CV Fold 5 rmse:0.36215 - 1100 rounds - it took 9 secs\n",
      "Last eval:  [0.01, 8, 0.360157095905162, 0.6900964513653959, 0.0, 0.0, 1.0]  - Score  0.36453956262427833\n",
      "Current iter:  41  - Best Score  0.36453956262427833  - Best Args:  [0.01, 8, 0.360157095905162, 0.6900964513653959, 0.0, 0.0, 1.0]\n",
      "\n",
      "Testing:  {'learning_rate': 0.01, 'max_depth': 7, 'subsample': 0.6446179747880219, 'colsample_bytree': 0.6295480680234297, 'reg_lambda': 0.0, 'reg_alpha': 0.0, 'min_child_weight': 1.0}\n",
      "5770 5770\n",
      "CV Fold 1 rmse:0.36083 - 2115 rounds - it took 18 secs\n",
      "5770 5770\n",
      "CV Fold 2 rmse:0.37475 - 1122 rounds - it took 10 secs\n",
      "5770 5770\n",
      "CV Fold 3 rmse:0.36092 - 1830 rounds - it took 16 secs\n",
      "5770 5770\n",
      "CV Fold 4 rmse:0.36093 - 1389 rounds - it took 12 secs\n",
      "5770 5770\n",
      "CV Fold 5 rmse:0.36063 - 1787 rounds - it took 16 secs\n"
     ]
    },
    {
     "name": "stdout",
     "output_type": "stream",
     "text": [
      "Last eval:  [0.01, 7, 0.6446179747880219, 0.6295480680234297, 0.0, 0.0, 1.0]  - Score  0.3636095527254331\n",
      "Current iter:  42  - Best Score  0.3636095527254331  - Best Args:  [0.01, 7, 0.6446179747880219, 0.6295480680234297, 0.0, 0.0, 1.0]\n",
      "\n",
      "Testing:  {'learning_rate': 0.01, 'max_depth': 8, 'subsample': 1.0, 'colsample_bytree': 1.0, 'reg_lambda': 0.0, 'reg_alpha': 49.26398740687431, 'min_child_weight': 12.698802401114014}\n",
      "5770 5770\n",
      "CV Fold 1 rmse:0.38256 - 1501 rounds - it took 12 secs\n",
      "Early stopping for under-performing fold: threshold is 0.36844\n",
      "Last eval:  [0.01, 8, 1.0, 1.0, 0.0, 49.26398740687431, 12.698802401114014]  - Score  0.3825638110696024\n",
      "Current iter:  43  - Best Score  0.3636095527254331  - Best Args:  [0.01, 7, 0.6446179747880219, 0.6295480680234297, 0.0, 0.0, 1.0]\n",
      "\n",
      "Testing:  {'learning_rate': 0.01, 'max_depth': 6, 'subsample': 0.46139963106276005, 'colsample_bytree': 0.6821604309284095, 'reg_lambda': 0.0, 'reg_alpha': 0.0, 'min_child_weight': 1.0}\n",
      "5770 5770\n",
      "CV Fold 1 rmse:0.36275 - 2602 rounds - it took 18 secs\n",
      "5770 5770\n",
      "CV Fold 2 rmse:0.37636 - 1754 rounds - it took 12 secs\n",
      "5770 5770\n",
      "CV Fold 3 rmse:0.36370 - 1997 rounds - it took 14 secs\n",
      "5770 5770\n",
      "CV Fold 4 rmse:0.36193 - 1827 rounds - it took 13 secs\n",
      "5770 5770\n",
      "CV Fold 5 rmse:0.36213 - 2414 rounds - it took 17 secs\n",
      "Last eval:  [0.01, 6, 0.46139963106276005, 0.6821604309284095, 0.0, 0.0, 1.0]  - Score  0.3653721689352782\n",
      "Current iter:  44  - Best Score  0.3636095527254331  - Best Args:  [0.01, 7, 0.6446179747880219, 0.6295480680234297, 0.0, 0.0, 1.0]\n",
      "\n",
      "Testing:  {'learning_rate': 1.0, 'max_depth': 7, 'subsample': 0.83872545479825, 'colsample_bytree': 0.756126121418287, 'reg_lambda': 0.0, 'reg_alpha': 0.0, 'min_child_weight': 30.0}\n",
      "5770 5770\n",
      "CV Fold 1 rmse:0.38473 - 13 rounds - it took 1 secs\n",
      "Early stopping for under-performing fold: threshold is 0.36750\n",
      "Last eval:  [1.0, 7, 0.83872545479825, 0.756126121418287, 0.0, 0.0, 30.0]  - Score  0.38473431094073224\n",
      "Current iter:  45  - Best Score  0.3636095527254331  - Best Args:  [0.01, 7, 0.6446179747880219, 0.6295480680234297, 0.0, 0.0, 1.0]\n",
      "\n",
      "Testing:  {'learning_rate': 0.01, 'max_depth': 8, 'subsample': 0.8062775258458941, 'colsample_bytree': 0.8891926513784189, 'reg_lambda': 92.27698497602248, 'reg_alpha': 18.515733689097505, 'min_child_weight': 2.6960775004762247}\n",
      "5770 5770\n",
      "CV Fold 1 rmse:0.37231 - 9999 rounds - it took 87 secs\n",
      "Early stopping for under-performing fold: threshold is 0.36750\n",
      "Last eval:  [0.01, 8, 0.8062775258458941, 0.8891926513784189, 92.27698497602248, 18.515733689097505, 2.6960775004762247]  - Score  0.37231467149623204\n",
      "Current iter:  46  - Best Score  0.3636095527254331  - Best Args:  [0.01, 7, 0.6446179747880219, 0.6295480680234297, 0.0, 0.0, 1.0]\n",
      "\n",
      "Testing:  {'learning_rate': 0.01, 'max_depth': 7, 'subsample': 0.3855557463758982, 'colsample_bytree': 1.0, 'reg_lambda': 0.0, 'reg_alpha': 24.940950085600768, 'min_child_weight': 1.0}\n",
      "5770 5770\n",
      "CV Fold 1 rmse:0.37413 - 9993 rounds - it took 66 secs\n",
      "Early stopping for under-performing fold: threshold is 0.36750\n",
      "Last eval:  [0.01, 7, 0.3855557463758982, 1.0, 0.0, 24.940950085600768, 1.0]  - Score  0.3741317364946049\n",
      "Current iter:  47  - Best Score  0.3636095527254331  - Best Args:  [0.01, 7, 0.6446179747880219, 0.6295480680234297, 0.0, 0.0, 1.0]\n",
      "\n",
      "Testing:  {'learning_rate': 0.01, 'max_depth': 8, 'subsample': 0.1, 'colsample_bytree': 0.2278489773028186, 'reg_lambda': 0.0, 'reg_alpha': 0.0, 'min_child_weight': 1.0}\n",
      "5770 5770\n",
      "CV Fold 1 rmse:0.37471 - 2716 rounds - it took 10 secs\n",
      "Early stopping for under-performing fold: threshold is 0.36750\n",
      "Last eval:  [0.01, 8, 0.1, 0.2278489773028186, 0.0, 0.0, 1.0]  - Score  0.3747090590047199\n",
      "Current iter:  48  - Best Score  0.3636095527254331  - Best Args:  [0.01, 7, 0.6446179747880219, 0.6295480680234297, 0.0, 0.0, 1.0]\n",
      "\n",
      "Testing:  {'learning_rate': 0.8607632989334121, 'max_depth': 7, 'subsample': 0.3334224589225834, 'colsample_bytree': 0.9049356893051532, 'reg_lambda': 32.973705669996406, 'reg_alpha': 0.3914078102812352, 'min_child_weight': 7.85030488214733}\n",
      "5770 5770\n",
      "CV Fold 1 rmse:0.38933 - 55 rounds - it took 1 secs\n",
      "Early stopping for under-performing fold: threshold is 0.36750\n",
      "Last eval:  [0.8607632989334121, 7, 0.3334224589225834, 0.9049356893051532, 32.973705669996406, 0.3914078102812352, 7.85030488214733]  - Score  0.3893327330390536\n",
      "Current iter:  49  - Best Score  0.3636095527254331  - Best Args:  [0.01, 7, 0.6446179747880219, 0.6295480680234297, 0.0, 0.0, 1.0]\n",
      "\n",
      "Testing:  {'learning_rate': 1.0, 'max_depth': 8, 'subsample': 1.0, 'colsample_bytree': 1.0, 'reg_lambda': 0.0, 'reg_alpha': 31.43720543827633, 'min_child_weight': 1.0}\n",
      "5770 5770\n",
      "CV Fold 1 rmse:0.38832 - 30 rounds - it took 0 secs\n",
      "Early stopping for under-performing fold: threshold is 0.36750\n",
      "Last eval:  [1.0, 8, 1.0, 1.0, 0.0, 31.43720543827633, 1.0]  - Score  0.3883242696683425\n",
      "Current iter:  50  - Best Score  0.3636095527254331  - Best Args:  [0.01, 7, 0.6446179747880219, 0.6295480680234297, 0.0, 0.0, 1.0]\n",
      "\n",
      "Testing:  {'learning_rate': 1.0, 'max_depth': 2, 'subsample': 0.6485789175412626, 'colsample_bytree': 1.0, 'reg_lambda': 0.0, 'reg_alpha': 14.995892064551086, 'min_child_weight': 1.0}\n",
      "5770 5770\n",
      "CV Fold 1 rmse:0.37808 - 411 rounds - it took 2 secs\n",
      "Early stopping for under-performing fold: threshold is 0.36750\n",
      "Last eval:  [1.0, 2, 0.6485789175412626, 1.0, 0.0, 14.995892064551086, 1.0]  - Score  0.37808177597138953\n",
      "Current iter:  51  - Best Score  0.3636095527254331  - Best Args:  [0.01, 7, 0.6446179747880219, 0.6295480680234297, 0.0, 0.0, 1.0]\n",
      "\n",
      "Testing:  {'learning_rate': 0.01, 'max_depth': 8, 'subsample': 0.4698514086450474, 'colsample_bytree': 0.1, 'reg_lambda': 75.14699338280936, 'reg_alpha': 0.0, 'min_child_weight': 12.448493508473094}\n",
      "5770 5770\n",
      "CV Fold 1 rmse:0.39257 - 7805 rounds - it took 28 secs\n",
      "Early stopping for under-performing fold: threshold is 0.36750\n",
      "Last eval:  [0.01, 8, 0.4698514086450474, 0.1, 75.14699338280936, 0.0, 12.448493508473094]  - Score  0.39256842672113357\n",
      "Current iter:  52  - Best Score  0.3636095527254331  - Best Args:  [0.01, 7, 0.6446179747880219, 0.6295480680234297, 0.0, 0.0, 1.0]\n",
      "\n",
      "Testing:  {'learning_rate': 0.3267093852574135, 'max_depth': 6, 'subsample': 0.6247878764549063, 'colsample_bytree': 0.7644672477960803, 'reg_lambda': 0.0, 'reg_alpha': 11.261576927596643, 'min_child_weight': 30.0}\n",
      "5770 5770\n",
      "CV Fold 1 rmse:0.37162 - 407 rounds - it took 3 secs\n",
      "Early stopping for under-performing fold: threshold is 0.36750\n",
      "Last eval:  [0.3267093852574135, 6, 0.6247878764549063, 0.7644672477960803, 0.0, 11.261576927596643, 30.0]  - Score  0.37161867163422585\n",
      "Current iter:  53  - Best Score  0.3636095527254331  - Best Args:  [0.01, 7, 0.6446179747880219, 0.6295480680234297, 0.0, 0.0, 1.0]\n",
      "\n",
      "Testing:  {'learning_rate': 0.224804654169767, 'max_depth': 2, 'subsample': 0.1, 'colsample_bytree': 0.16756672700579373, 'reg_lambda': 8.802382883043473, 'reg_alpha': 0.0, 'min_child_weight': 1.2959186927297475}\n",
      "5770 5770\n",
      "CV Fold 1 rmse:0.39871 - 702 rounds - it took 1 secs\n",
      "Early stopping for under-performing fold: threshold is 0.36750\n",
      "Last eval:  [0.224804654169767, 2, 0.1, 0.16756672700579373, 8.802382883043473, 0.0, 1.2959186927297475]  - Score  0.39870859505334505\n",
      "Current iter:  54  - Best Score  0.3636095527254331  - Best Args:  [0.01, 7, 0.6446179747880219, 0.6295480680234297, 0.0, 0.0, 1.0]\n",
      "\n",
      "Testing:  {'learning_rate': 1.0, 'max_depth': 8, 'subsample': 1.0, 'colsample_bytree': 1.0, 'reg_lambda': 0.0, 'reg_alpha': 100.0, 'min_child_weight': 1.0}\n",
      "5770 5770\n",
      "CV Fold 1 rmse:0.40672 - 9 rounds - it took 0 secs\n",
      "Early stopping for under-performing fold: threshold is 0.36750\n",
      "Last eval:  [1.0, 8, 1.0, 1.0, 0.0, 100.0, 1.0]  - Score  0.40671757646298307\n",
      "Current iter:  55  - Best Score  0.3636095527254331  - Best Args:  [0.01, 7, 0.6446179747880219, 0.6295480680234297, 0.0, 0.0, 1.0]\n",
      "\n",
      "Testing:  {'learning_rate': 0.01, 'max_depth': 4, 'subsample': 0.5811961295678728, 'colsample_bytree': 0.6838801460634866, 'reg_lambda': 0.0, 'reg_alpha': 0.0, 'min_child_weight': 1.0}\n",
      "5770 5770\n",
      "CV Fold 1 rmse:0.36701 - 3977 rounds - it took 21 secs\n",
      "5770 5770\n",
      "CV Fold 2 rmse:0.37990 - 3656 rounds - it took 19 secs\n",
      "Early stopping for under-performing fold: threshold is 0.37776\n"
     ]
    },
    {
     "name": "stdout",
     "output_type": "stream",
     "text": [
      "Last eval:  [0.01, 4, 0.5811961295678728, 0.6838801460634866, 0.0, 0.0, 1.0]  - Score  0.3734551896982372\n",
      "Current iter:  56  - Best Score  0.3636095527254331  - Best Args:  [0.01, 7, 0.6446179747880219, 0.6295480680234297, 0.0, 0.0, 1.0]\n",
      "\n",
      "Testing:  {'learning_rate': 0.9336793132767992, 'max_depth': 2, 'subsample': 0.9745242739174469, 'colsample_bytree': 0.24513669924007395, 'reg_lambda': 65.53605064390061, 'reg_alpha': 2.659571289612751, 'min_child_weight': 20.795462360241054}\n",
      "5770 5770\n",
      "CV Fold 1 rmse:0.37896 - 766 rounds - it took 2 secs\n",
      "Early stopping for under-performing fold: threshold is 0.36747\n",
      "Last eval:  [0.9336793132767992, 2, 0.9745242739174469, 0.24513669924007395, 65.53605064390061, 2.659571289612751, 20.795462360241054]  - Score  0.3789638261593534\n",
      "Current iter:  57  - Best Score  0.3636095527254331  - Best Args:  [0.01, 7, 0.6446179747880219, 0.6295480680234297, 0.0, 0.0, 1.0]\n",
      "\n",
      "Testing:  {'learning_rate': 0.9691519808734451, 'max_depth': 3, 'subsample': 0.5779015331749207, 'colsample_bytree': 0.3305493607857196, 'reg_lambda': 75.5102988968915, 'reg_alpha': 2.309574110217481, 'min_child_weight': 6.126963604126679}\n",
      "5770 5770\n",
      "CV Fold 1 rmse:0.37651 - 321 rounds - it took 1 secs\n",
      "Early stopping for under-performing fold: threshold is 0.36747\n",
      "Last eval:  [0.9691519808734451, 3, 0.5779015331749207, 0.3305493607857196, 75.5102988968915, 2.309574110217481, 6.126963604126679]  - Score  0.37651111075580085\n",
      "Current iter:  58  - Best Score  0.3636095527254331  - Best Args:  [0.01, 7, 0.6446179747880219, 0.6295480680234297, 0.0, 0.0, 1.0]\n",
      "\n",
      "Testing:  {'learning_rate': 0.01, 'max_depth': 8, 'subsample': 0.1, 'colsample_bytree': 0.6129661301900553, 'reg_lambda': 0.0, 'reg_alpha': 15.431771801165864, 'min_child_weight': 1.0}\n",
      "5770 5770\n",
      "CV Fold 1 rmse:0.38202 - 9996 rounds - it took 35 secs\n",
      "Early stopping for under-performing fold: threshold is 0.36747\n",
      "Last eval:  [0.01, 8, 0.1, 0.6129661301900553, 0.0, 15.431771801165864, 1.0]  - Score  0.38202323123739124\n",
      "Current iter:  59  - Best Score  0.3636095527254331  - Best Args:  [0.01, 7, 0.6446179747880219, 0.6295480680234297, 0.0, 0.0, 1.0]\n",
      "\n",
      "Testing:  {'learning_rate': 0.9865986446663854, 'max_depth': 6, 'subsample': 0.6890200827902423, 'colsample_bytree': 0.9454425496888904, 'reg_lambda': 23.876464897525167, 'reg_alpha': 49.63293820837894, 'min_child_weight': 7.69651709928937}\n",
      "5770 5770\n",
      "CV Fold 1 rmse:0.38298 - 1372 rounds - it took 6 secs\n",
      "Early stopping for under-performing fold: threshold is 0.36747\n",
      "Last eval:  [0.9865986446663854, 6, 0.6890200827902423, 0.9454425496888904, 23.876464897525167, 49.63293820837894, 7.69651709928937]  - Score  0.3829793365765257\n",
      "Current iter:  60  - Best Score  0.3636095527254331  - Best Args:  [0.01, 7, 0.6446179747880219, 0.6295480680234297, 0.0, 0.0, 1.0]\n"
     ]
    }
   ],
   "source": [
    "x0, y0 = joblib.load('checkpoint.pkl')\n",
    "\n",
    "gp_round = gp_minimize(func=objective,\n",
    "                       x0=x0,              # already examined values for x\n",
    "                       y0=y0,              # observed values for x0\n",
    "                       dimensions=space,\n",
    "                       acq_func='gp_hedge',\n",
    "                       n_calls=30,\n",
    "                       n_initial_points=0,\n",
    "                       callback=[onstep],\n",
    "                       random_state=0)"
   ]
  },
  {
   "cell_type": "code",
   "execution_count": 162,
   "id": "88327011",
   "metadata": {
    "execution": {
     "iopub.execute_input": "2021-09-09T04:44:46.042258Z",
     "iopub.status.busy": "2021-09-09T04:44:46.038271Z",
     "iopub.status.idle": "2021-09-09T04:44:46.046868Z",
     "shell.execute_reply": "2021-09-09T04:44:46.046368Z"
    },
    "papermill": {
     "duration": 0.393311,
     "end_time": "2021-09-09T04:44:46.047015",
     "exception": false,
     "start_time": "2021-09-09T04:44:45.653704",
     "status": "completed"
    },
    "tags": []
   },
   "outputs": [
    {
     "name": "stdout",
     "output_type": "stream",
     "text": [
      "60\n"
     ]
    }
   ],
   "source": [
    "x0, y0 = joblib.load('checkpoint.pkl')\n",
    "print(len(x0))"
   ]
  },
  {
   "cell_type": "code",
   "execution_count": 163,
   "id": "9ec0248f",
   "metadata": {
    "execution": {
     "iopub.execute_input": "2021-09-09T04:44:46.817333Z",
     "iopub.status.busy": "2021-09-09T04:44:46.816673Z",
     "iopub.status.idle": "2021-09-09T04:44:46.820870Z",
     "shell.execute_reply": "2021-09-09T04:44:46.820216Z"
    },
    "papermill": {
     "duration": 0.39101,
     "end_time": "2021-09-09T04:44:46.821020",
     "exception": false,
     "start_time": "2021-09-09T04:44:46.430010",
     "status": "completed"
    },
    "tags": []
   },
   "outputs": [
    {
     "name": "stdout",
     "output_type": "stream",
     "text": [
      "Best score: 0.36361\n",
      "Best hyperparameters:\n",
      "learning_rate             : 0.01\n",
      "max_depth                 : 7\n",
      "subsample                 : 0.6446179747880219\n",
      "colsample_bytree          : 0.6295480680234297\n",
      "reg_lambda                : 0.0\n",
      "reg_alpha                 : 0.0\n",
      "min_child_weight          : 1.0\n"
     ]
    }
   ],
   "source": [
    "print(f\"Best score: {gp_round.fun:0.5f}\")\n",
    "print(\"Best hyperparameters:\")\n",
    "for sp, x in zip(gp_round.space, gp_round.x):\n",
    "    print(f\"{sp.name:25} : {x}\")"
   ]
  },
  {
   "cell_type": "markdown",
   "metadata": {},
   "source": [
    "# Conclusion\n",
    "\n",
    "Now we have the set of parameters and their results (the x0 and y0 lists), we could also explore the different results and cluster together the ones that are similar in output but different in the set of parameters used. This will help us to train a more diverse set of models with similar performances but different optimization strategies."
   ]
  }
 ],
 "metadata": {
  "kernelspec": {
   "display_name": "Python 3 (ipykernel)",
   "language": "python",
   "name": "python3"
  },
  "language_info": {
   "codemirror_mode": {
    "name": "ipython",
    "version": 3
   },
   "file_extension": ".py",
   "mimetype": "text/x-python",
   "name": "python",
   "nbconvert_exporter": "python",
   "pygments_lexer": "ipython3",
   "version": "3.9.12"
  }
 },
 "nbformat": 4,
 "nbformat_minor": 4
}
