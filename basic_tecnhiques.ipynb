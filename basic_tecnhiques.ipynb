{
 "cells": [
  {
   "cell_type": "markdown",
   "id": "3b4a9523",
   "metadata": {},
   "source": [
    "# Hyperparameter optimization\n",
    "\n",
    "Hyperparameter optimization in machine learning intends to find the hyperparameters of a given machine learning algorithm that deliver the best performance as measured on a validation set.\n",
    "\n",
    "While model parameters are learned during training — such as the slope and intercept in a linear regression — hyperparameters must be set by the data scientist before training. \n",
    "\n",
    "\n",
    "The core algorithms for hyperparameter optimization, found in the Scikit-learn package, are __grid search and random search__. Recently, the Scikit-learn contributors have also added the halving algorithm to improve the performances of both grid search and random search strategies.\n",
    "\n",
    "Hyperparameters can have a direct impact on the training of machine learning algorithms. Thus, to achieve maximal performance, it is important to understand how to optimize them. Here we will use basic strategies for optimizing hyperparameters:\n",
    "\n",
    "*__1. Grid search__*\n",
    "\n",
    "*__2. Random search__*\n",
    "\n",
    "*__3. Halving random search__*\n",
    "\n",
    "*__4. Halving grid search__*\n",
    "\n",
    "*__5. Comparision__*"
   ]
  },
  {
   "cell_type": "markdown",
   "id": "f0669936",
   "metadata": {},
   "source": [
    "## Import libraries"
   ]
  },
  {
   "cell_type": "code",
   "execution_count": 268,
   "id": "f7419c6b",
   "metadata": {},
   "outputs": [],
   "source": [
    "from sklearn.datasets import make_classification\n",
    "from sklearn.model_selection import train_test_split\n",
    "from sklearn import svm\n",
    "import scipy.stats as stats\n",
    "from sklearn.utils.fixes import loguniform\n",
    "from sklearn import model_selection\n",
    "from sklearn.model_selection import GridSearchCV\n",
    "from sklearn.model_selection import RandomizedSearchCV\n",
    "from sklearn.experimental import enable_halving_search_cv\n",
    "from sklearn.model_selection import HalvingRandomSearchCV\n",
    "from sklearn.model_selection import HalvingGridSearchCV\n",
    "from time import time\n",
    "from tqdm import tqdm\n",
    "import matplotlib.pyplot as plt \n",
    "import itertools\n",
    "import seaborn as sns\n",
    "import scipy\n",
    "from sklearn.metrics import confusion_matrix\n",
    "import pandas as pd\n",
    "import warnings\n",
    "from sklearn.ensemble import RandomForestClassifier\n",
    "import numpy as np\n",
    "warnings.filterwarnings(\"ignore\")"
   ]
  },
  {
   "cell_type": "markdown",
   "id": "daf1c5bc",
   "metadata": {},
   "source": [
    "Generate a random dataset for classification problem."
   ]
  },
  {
   "cell_type": "code",
   "execution_count": 160,
   "id": "e664011d",
   "metadata": {},
   "outputs": [],
   "source": [
    "X, y = make_classification(n_samples=100, n_features=50,\n",
    "                           n_informative=10,\n",
    "                           n_redundant=25, n_repeated=15,\n",
    "                           n_clusters_per_class=5,\n",
    "                           flip_y=0.05, class_sep=0.1,\n",
    "                           random_state=0)"
   ]
  },
  {
   "cell_type": "markdown",
   "id": "bfe1a3bf",
   "metadata": {},
   "source": [
    "## Grid Search\n"
   ]
  },
  {
   "cell_type": "markdown",
   "id": "1c157f62",
   "metadata": {},
   "source": [
    "Grid search is a tuning technique that attempts to compute the optimum values of hyperparameters. It is an exhaustive search that is performed on a the specific parameter values of a model. The model is also known as an estimator.\n",
    "\n",
    "Basically, we divide the domain of the hyperparameters into a discrete grid. Then, we try every combination of values of this grid, calculating some performance metrics using cross-validation. The point of the grid that maximizes the average value in cross-validation, is the optimal combination of values for the hyperparameters.\n",
    "\n",
    "\n",
    "\n",
    "![alt text](https://www.yourdatateacher.com/wp-content/uploads/2021/03/image-6.png)\n",
    "\n"
   ]
  },
  {
   "cell_type": "code",
   "execution_count": 3,
   "id": "78e4c4e7",
   "metadata": {},
   "outputs": [],
   "source": [
    "svc = svm.SVC()\n",
    "svc = svm.SVC(probability=True, random_state=1)\n",
    "\n",
    "search_grid = [\n",
    "               {'C': [1, 10, 100, 1000], 'kernel': ['linear']},\n",
    "               {'C': [1, 10, 100, 1000], 'gamma': [0.001, 0.0001],\n",
    "               'kernel': ['rbf']}\n",
    "               ]\n",
    "scorer = 'accuracy'"
   ]
  },
  {
   "cell_type": "code",
   "execution_count": 4,
   "id": "90d07dbe",
   "metadata": {},
   "outputs": [
    {
     "name": "stdout",
     "output_type": "stream",
     "text": [
      "{'C': 10, 'gamma': 0.001, 'kernel': 'rbf'}\n",
      "0.7\n"
     ]
    }
   ],
   "source": [
    "search_func = GridSearchCV(estimator=svc, param_grid=search_grid, scoring=scorer, n_jobs=-1, cv=5)\n",
    "search_func.fit(X, y)\n",
    "\n",
    "print(search_func.best_params_)\n",
    "print(search_func.best_score_)"
   ]
  },
  {
   "cell_type": "markdown",
   "id": "b8e8ce9e",
   "metadata": {},
   "source": [
    "## Random Search\n",
    "\n",
    "Random search is similar to grid search, but instead of using all the points in the grid, it tests only a randomly selected subset of these points. The smaller this subset, the faster but less accurate the optimization. The larger this dataset, the more accurate the optimization but the closer to a grid search.\n",
    "\n",
    "Random search is a very useful option when you have several hyperparameters with a fine-grained grid of values. Using a subset made by 5-100 randomly selected points, we are able to get a reasonably good set of values of the hyperparameters. It will not likely be the best point, but it can still be a good set of values that gives us a good model.\n",
    "\n",
    "\n",
    "![alt text](https://www.yourdatateacher.com/wp-content/uploads/2021/03/image-7.png)"
   ]
  },
  {
   "cell_type": "code",
   "execution_count": 32,
   "id": "e426ea82",
   "metadata": {},
   "outputs": [],
   "source": [
    "search_dict = {'kernel': ['linear', 'rbf'],\n",
    "               'C': loguniform(1, 1000),'gamma': loguniform(0.0001, 0.1)\n",
    "               }"
   ]
  },
  {
   "cell_type": "code",
   "execution_count": 49,
   "id": "f642a5b4",
   "metadata": {},
   "outputs": [
    {
     "data": {
      "text/plain": [
       "'RandomizedSearchCV'"
      ]
     },
     "execution_count": 49,
     "metadata": {},
     "output_type": "execute_result"
    }
   ],
   "source": [
    "search_func = RandomizedSearchCV(estimator=svc,\n",
    "                                                 param_distributions=search_dict,\n",
    "                                                 n_iter=6,\n",
    "                                                 scoring=scorer,\n",
    "                                                 n_jobs=-1,\n",
    "                                                 cv=5\n",
    "                                                 )"
   ]
  },
  {
   "cell_type": "code",
   "execution_count": 6,
   "id": "097e6986",
   "metadata": {},
   "outputs": [
    {
     "name": "stdout",
     "output_type": "stream",
     "text": [
      "{'C': 283.5142995458433, 'gamma': 0.00011814677561970462, 'kernel': 'rbf'}\n",
      "0.6966666666666667\n"
     ]
    }
   ],
   "source": [
    "search_func = RandomizedSearchCV(estimator=svc,\n",
    "                                                 param_distributions=search_dict,\n",
    "                                                 n_iter=6,\n",
    "                                                 scoring=scorer,\n",
    "                                                 n_jobs=-1,\n",
    "                                                 cv=5\n",
    "                                                 )\n",
    "    \n",
    "search_func.fit(X, y)\n",
    "\n",
    "print(search_func.best_params_)\n",
    "print(search_func.best_score_)"
   ]
  },
  {
   "cell_type": "markdown",
   "id": "73ee6ddb",
   "metadata": {},
   "source": [
    "# Halving grid search\n",
    "\n",
    "\n",
    "Halving Grid Search, a new class of successive Halving, where training is performed on the subsets of data, rather than on all the data. The worst performing data are filtered out by training them on a small subset of data. After N number iterations select the best data/candidates leading to a faster evaluation time.\n",
    "\n",
    "The search strategy starts evaluating all the candidates with a small amount of resources and iteratively selects the best candidates, using more and more resources."
   ]
  },
  {
   "cell_type": "code",
   "execution_count": 117,
   "id": "d7f79930",
   "metadata": {},
   "outputs": [
    {
     "name": "stdout",
     "output_type": "stream",
     "text": [
      "{'C': 1000, 'kernel': 'linear'}\n",
      "0.6166666666666667\n"
     ]
    }
   ],
   "source": [
    "search_func = HalvingGridSearchCV(estimator=svc, param_grid=search_grid,\n",
    "                                    resource='n_samples',\n",
    "                                    max_resources=100,\n",
    "                                    aggressive_elimination=True,\n",
    "                                    scoring=scorer,\n",
    "                                    n_jobs=-1,\n",
    "                                    cv=5,\n",
    "                                    random_state=0)\n",
    "\n",
    "search_func.fit(X, y)\n",
    "print(search_func.best_params_)\n",
    "print(search_func.best_score_)"
   ]
  },
  {
   "cell_type": "markdown",
   "id": "3f90b31e",
   "metadata": {},
   "source": [
    "# Halving random search\n",
    "\n",
    "Halving randomized search also uses the same successive halving approach. Unlike halving grid search, it trains just randomly selected combinations of parameters on a portion of the training data.\n",
    "\n"
   ]
  },
  {
   "cell_type": "code",
   "execution_count": 7,
   "id": "0b0edf8c",
   "metadata": {},
   "outputs": [
    {
     "name": "stdout",
     "output_type": "stream",
     "text": [
      "{'C': 86.63279761354555, 'gamma': 0.002054762512591133, 'kernel': 'linear'}\n",
      "0.6166666666666667\n"
     ]
    }
   ],
   "source": [
    "search_func = HalvingRandomSearchCV(estimator=svc, param_distributions=search_dict,\n",
    "                                    resource='n_samples',\n",
    "                                    max_resources=100,\n",
    "                                    aggressive_elimination=True,\n",
    "                                    scoring=scorer,\n",
    "                                    n_jobs=-1,\n",
    "                                    cv=5,\n",
    "                                    random_state=0)\n",
    "\n",
    "search_func.fit(X, y)\n",
    "\n",
    "print(search_func.best_params_)\n",
    "print(search_func.best_score_)"
   ]
  },
  {
   "cell_type": "markdown",
   "id": "a0905a98",
   "metadata": {},
   "source": [
    "# Comparision"
   ]
  },
  {
   "cell_type": "markdown",
   "id": "e20f46e0",
   "metadata": {},
   "source": [
    "Here, I have written a class where we should input X, y, paramater space and metric score which hyperparamater optimization strategy should maximize.\n",
    "\n",
    "Class has two methods:\n",
    "\n",
    "1. show_confusion_matrix() - run all strategies and evaluate models. Then show confusion matrix for each strategy.\n",
    "\n",
    "2. run_and_show_results() - runs all strageties and return dataframe that has following features: name, best_params,\tbest_score,\trun_time\n",
    "\n",
    "We can change:\n",
    "\n",
    "1. estimator - select your favorite estimator for modeling. :)\n",
    "\n",
    "2. p_space - if you dont mind estimator, but want to change paramater space, just define a dictionary and write down your own space. ps: if you have changed estimator, dont forget to change p_space as well. \n",
    "\n",
    "3. metric - Not sure about accuracy? No problem. Evaluate your strategies with roc_auc, f1_score, and etc.  "
   ]
  },
  {
   "cell_type": "code",
   "execution_count": 269,
   "id": "057e93c7",
   "metadata": {},
   "outputs": [],
   "source": [
    "class CompareSearchMethods:\n",
    "    \n",
    "    \"\"\"\n",
    "    This is a class for tuning hyperparameters using search methods.\n",
    "    Methods must be GridSearchCV HalvingGridSearchCV, GridSearchCV and RandomizedSearchCV.\n",
    "    \n",
    "    Inputs:\n",
    "        X, y: dataset\n",
    "        estimator: Logistic regression, SVM, KNN, etc\n",
    "        p_space: parameter space\n",
    "        metric_score: evaluation metric\n",
    "        \n",
    "    Output:\n",
    "    \n",
    "        Returns the metric of estimator instance\n",
    "    \n",
    "    \"\"\"   \n",
    "    def __init__(self, X, y, estimator = svm.SVC(probability=True, random_state=1), random_p_space = {}, grid_p_space = {}, metric_score = 'accuracy'):\n",
    "        \n",
    "        self.X = X\n",
    "        self.y = y\n",
    "        self.estimator = estimator\n",
    "        self.random_p_space = random_p_space\n",
    "        self.grid_p_space = grid_p_space\n",
    "        self.metric_score = metric_score\n",
    "        \n",
    "    def _methods_with_parameters(self):\n",
    "        \n",
    "        self.grid_p = [\n",
    "                   {'C': [1, 10,100], 'kernel': ['linear']},\n",
    "                   {'C': [1, 10,100], 'gamma': [0.001, 0.01],'kernel': ['rbf']} ]\n",
    "            \n",
    "        self.random_p = {'kernel': ['linear', 'rbf'], 'C': loguniform(1, 100),'gamma': loguniform(0.01, 0.1)}\n",
    "                           \n",
    "        self.grid_search = GridSearchCV(estimator=self.estimator, param_grid=self.grid_p , scoring=self.metric_score, n_jobs=-1, cv=5)\n",
    "        self.rand_search = RandomizedSearchCV(estimator=self.estimator, param_distributions=self.random_p, n_iter=6, scoring=self.metric_score, n_jobs=-1, cv=5)\n",
    "        self.halving_rand_search = HalvingRandomSearchCV(estimator=self.estimator, param_distributions=self.random_p, resource='n_samples', max_resources=100, aggressive_elimination=True, scoring=self.metric_score, n_jobs=-1, cv=5, random_state=0)\n",
    "        self.halving_grid_search = HalvingGridSearchCV(estimator=self.estimator, param_grid=self.grid_p, resource='n_samples', max_resources=100, aggressive_elimination=True, scoring=self.metric_score,n_jobs=-1,cv=5,random_state=0)\n",
    "        \n",
    "        return [self.grid_search, self.rand_search, self.halving_rand_search, self.halving_grid_search]\n",
    "\n",
    "    \n",
    "    def _model_fit(self, X, y, method):\n",
    "        tic = time()\n",
    "        \n",
    "        method.fit(X, y)\n",
    "        name = str(method).split('(')[0]\n",
    "        best_params = method.best_params_\n",
    "        best_score = method.best_score_\n",
    "        run_time = time() - tic\n",
    "        \n",
    "        func_result = {'name':name, 'best_params': method.best_params_, 'best_score':method.best_score_, 'run_time':run_time}\n",
    "        self.cfmatrixes = confusion_matrix(y_true=y, y_pred=method.predict(X))        \n",
    "        return func_result\n",
    "        \n",
    "    def _search_funct_fit_evaluate(self):\n",
    "        \n",
    "        \n",
    "        self.conf_matrix_list = []\n",
    "        self.search_functions_results = []\n",
    "        self.search_methods = self._methods_with_parameters()\n",
    "        \n",
    "        if len(self.grid_p_space)==0:\n",
    "            \n",
    "            for method in tqdm(self.search_methods):\n",
    "                self.search_functions_results.append(self._model_fit(self.X, self.y, method))\n",
    "                self.conf_matrix_list.append(self.cfmatrixes)\n",
    "            \n",
    "            return self.search_functions_results\n",
    "        \n",
    "        else:\n",
    "            \n",
    "            for method in tqdm(self.search_methods):\n",
    "                method.param_grid = self.grid_p_space\n",
    "                method.param_distributions = self.random_p_space\n",
    "                self.search_functions_results.append(self._model_fit(self.X, self.y, method))\n",
    "                self.conf_matrix_list.append(self.cfmatrixes)\n",
    "            return self.search_functions_results\n",
    "    \n",
    "            \n",
    "    def show_confusion_matrix(self):\n",
    "        for i, k in zip(self.conf_matrix_list, self.search_methods):\n",
    "            \n",
    "            ax = sns.heatmap(i, annot=True, cmap='Blues')\n",
    "\n",
    "            ax.set_title(str(k).split('(')[0]);\n",
    "            ax.set_xlabel('\\nPredicted Values')\n",
    "            ax.set_ylabel('Actual Values ');\n",
    "\n",
    "            ax.xaxis.set_ticklabels(['False','True'])\n",
    "            ax.yaxis.set_ticklabels(['False','True'])\n",
    "\n",
    "            plt.show()\n",
    "            \n",
    "    def run_and_show_results(self):\n",
    "        \n",
    "        self.search_functions_results = self._search_funct_fit_evaluate()\n",
    "        result_df = pd.DataFrame(self.search_functions_results).sort_values('best_score', ascending = False)\n",
    "        return result_df"
   ]
  },
  {
   "cell_type": "code",
   "execution_count": 270,
   "id": "fa06ca4b",
   "metadata": {},
   "outputs": [],
   "source": [
    "comparing = CompareSearchMethods(X,y)"
   ]
  },
  {
   "cell_type": "code",
   "execution_count": 271,
   "id": "098c40b9",
   "metadata": {},
   "outputs": [
    {
     "name": "stderr",
     "output_type": "stream",
     "text": [
      "100%|█████████████████████████████████████████████| 4/4 [00:09<00:00,  2.45s/it]\n"
     ]
    }
   ],
   "source": [
    "result_df = comparing.run_and_show_results()"
   ]
  },
  {
   "cell_type": "code",
   "execution_count": 272,
   "id": "d42a6af0",
   "metadata": {},
   "outputs": [
    {
     "data": {
      "image/png": "[encoded data removed]",
      "text/plain": [
       "<Figure size 432x288 with 2 Axes>"
      ]
     },
     "metadata": {
      "needs_background": "light"
     },
     "output_type": "display_data"
    },
    {
     "data": {
      "image/png": "[encoded data removed]",
      "text/plain": [
       "<Figure size 432x288 with 2 Axes>"
      ]
     },
     "metadata": {
      "needs_background": "light"
     },
     "output_type": "display_data"
    },
    {
     "data": {
      "image/png": "[encoded data removed]",
      "text/plain": [
       "<Figure size 432x288 with 2 Axes>"
      ]
     },
     "metadata": {
      "needs_background": "light"
     },
     "output_type": "display_data"
    },
    {
     "data": {
      "image/png": "[encoded data removed]",
      "text/plain": [
       "<Figure size 432x288 with 2 Axes>"
      ]
     },
     "metadata": {
      "needs_background": "light"
     },
     "output_type": "display_data"
    }
   ],
   "source": [
    "comparing.show_confusion_matrix()"
   ]
  },
  {
   "cell_type": "markdown",
   "id": "e7be5ed7",
   "metadata": {},
   "source": [
    "### Custom search parameter dictionary"
   ]
  },
  {
   "cell_type": "markdown",
   "id": "cbe03814",
   "metadata": {},
   "source": [
    "We can change search parameter dictionary."
   ]
  },
  {
   "cell_type": "code",
   "execution_count": 135,
   "id": "e5df36e5",
   "metadata": {},
   "outputs": [],
   "source": [
    "random_search_dict = {'kernel': ['linear', 'rbf'],\n",
    "               'C': loguniform(1, 100),'gamma': loguniform(0.001, 0.01)\n",
    "               }\n",
    "\n",
    "search_grid = [\n",
    "               {'C': [1, 10], 'kernel': ['linear']},\n",
    "               {'C': [1, 10], 'gamma': [0.01, 0.001],\n",
    "               'kernel': ['rbf']}\n",
    "               ]"
   ]
  },
  {
   "cell_type": "code",
   "execution_count": 136,
   "id": "5a235f20",
   "metadata": {},
   "outputs": [
    {
     "name": "stderr",
     "output_type": "stream",
     "text": [
      "100%|█████████████████████████████████████████████| 4/4 [00:31<00:00,  7.88s/it]\n"
     ]
    },
    {
     "data": {
      "text/html": [
       "<div>\n",
       "<style scoped>\n",
       "    .dataframe tbody tr th:only-of-type {\n",
       "        vertical-align: middle;\n",
       "    }\n",
       "\n",
       "    .dataframe tbody tr th {\n",
       "        vertical-align: top;\n",
       "    }\n",
       "\n",
       "    .dataframe thead th {\n",
       "        text-align: right;\n",
       "    }\n",
       "</style>\n",
       "<table border=\"1\" class=\"dataframe\">\n",
       "  <thead>\n",
       "    <tr style=\"text-align: right;\">\n",
       "      <th></th>\n",
       "      <th>name</th>\n",
       "      <th>best_params</th>\n",
       "      <th>best_score</th>\n",
       "      <th>run_time</th>\n",
       "    </tr>\n",
       "  </thead>\n",
       "  <tbody>\n",
       "    <tr>\n",
       "      <th>0</th>\n",
       "      <td>GridSearchCV</td>\n",
       "      <td>{'C': 10, 'gamma': 0.001, 'kernel': 'rbf'}</td>\n",
       "      <td>0.700000</td>\n",
       "      <td>2.716724</td>\n",
       "    </tr>\n",
       "    <tr>\n",
       "      <th>1</th>\n",
       "      <td>RandomizedSearchCV</td>\n",
       "      <td>{'C': 46.34072232727819, 'gamma': 0.0133929499...</td>\n",
       "      <td>0.666667</td>\n",
       "      <td>22.461593</td>\n",
       "    </tr>\n",
       "    <tr>\n",
       "      <th>2</th>\n",
       "      <td>HalvingRandomSearchCV</td>\n",
       "      <td>{'C': 19.578897201212996, 'gamma': 0.027389695...</td>\n",
       "      <td>0.616667</td>\n",
       "      <td>6.238736</td>\n",
       "    </tr>\n",
       "    <tr>\n",
       "      <th>3</th>\n",
       "      <td>HalvingGridSearchCV</td>\n",
       "      <td>{'C': 10, 'gamma': 0.01, 'kernel': 'rbf'}</td>\n",
       "      <td>0.694737</td>\n",
       "      <td>0.115067</td>\n",
       "    </tr>\n",
       "  </tbody>\n",
       "</table>\n",
       "</div>"
      ],
      "text/plain": [
       "                    name                                        best_params  \\\n",
       "0           GridSearchCV         {'C': 10, 'gamma': 0.001, 'kernel': 'rbf'}   \n",
       "1     RandomizedSearchCV  {'C': 46.34072232727819, 'gamma': 0.0133929499...   \n",
       "2  HalvingRandomSearchCV  {'C': 19.578897201212996, 'gamma': 0.027389695...   \n",
       "3    HalvingGridSearchCV          {'C': 10, 'gamma': 0.01, 'kernel': 'rbf'}   \n",
       "\n",
       "   best_score   run_time  \n",
       "0    0.700000   2.716724  \n",
       "1    0.666667  22.461593  \n",
       "2    0.616667   6.238736  \n",
       "3    0.694737   0.115067  "
      ]
     },
     "execution_count": 136,
     "metadata": {},
     "output_type": "execute_result"
    }
   ],
   "source": [
    "comparing_with_custom_space = CompareSearchMethods(X,y, random_p_space = random_search_dict, grid_p_space = search_grid)\n",
    "\n",
    "result_df_with_custom_space = comparing_with_custom_space.run_and_show_results()\n",
    "result_df_with_custom_space"
   ]
  },
  {
   "cell_type": "markdown",
   "id": "5fc2b31a",
   "metadata": {},
   "source": [
    "### Custom metric"
   ]
  },
  {
   "cell_type": "code",
   "execution_count": 151,
   "id": "960cf7f3",
   "metadata": {},
   "outputs": [
    {
     "data": {
      "text/plain": [
       "['accuracy',\n",
       " 'adjusted_mutual_info_score',\n",
       " 'adjusted_rand_score',\n",
       " 'average_precision',\n",
       " 'balanced_accuracy',\n",
       " 'completeness_score',\n",
       " 'explained_variance',\n",
       " 'f1',\n",
       " 'f1_macro',\n",
       " 'f1_micro',\n",
       " 'f1_samples',\n",
       " 'f1_weighted',\n",
       " 'fowlkes_mallows_score',\n",
       " 'homogeneity_score',\n",
       " 'jaccard',\n",
       " 'jaccard_macro',\n",
       " 'jaccard_micro',\n",
       " 'jaccard_samples',\n",
       " 'jaccard_weighted',\n",
       " 'max_error',\n",
       " 'mutual_info_score',\n",
       " 'neg_brier_score',\n",
       " 'neg_log_loss',\n",
       " 'neg_mean_absolute_error',\n",
       " 'neg_mean_absolute_percentage_error',\n",
       " 'neg_mean_gamma_deviance',\n",
       " 'neg_mean_poisson_deviance',\n",
       " 'neg_mean_squared_error',\n",
       " 'neg_mean_squared_log_error',\n",
       " 'neg_median_absolute_error',\n",
       " 'neg_root_mean_squared_error',\n",
       " 'normalized_mutual_info_score',\n",
       " 'precision',\n",
       " 'precision_macro',\n",
       " 'precision_micro',\n",
       " 'precision_samples',\n",
       " 'precision_weighted',\n",
       " 'r2',\n",
       " 'rand_score',\n",
       " 'recall',\n",
       " 'recall_macro',\n",
       " 'recall_micro',\n",
       " 'recall_samples',\n",
       " 'recall_weighted',\n",
       " 'roc_auc',\n",
       " 'roc_auc_ovo',\n",
       " 'roc_auc_ovo_weighted',\n",
       " 'roc_auc_ovr',\n",
       " 'roc_auc_ovr_weighted',\n",
       " 'top_k_accuracy',\n",
       " 'v_measure_score']"
      ]
     },
     "execution_count": 151,
     "metadata": {},
     "output_type": "execute_result"
    }
   ],
   "source": [
    "sorted(sklearn.metrics.SCORERS.keys())"
   ]
  },
  {
   "cell_type": "markdown",
   "id": "52b1632b",
   "metadata": {},
   "source": [
    "We can change metric score that stragety should maximize. It accepts all possible metrics that occurs in scklearn library."
   ]
  },
  {
   "cell_type": "code",
   "execution_count": 162,
   "id": "d34f92f4",
   "metadata": {},
   "outputs": [
    {
     "name": "stderr",
     "output_type": "stream",
     "text": [
      "100%|█████████████████████████████████████████████| 4/4 [00:18<00:00,  4.68s/it]\n"
     ]
    },
    {
     "data": {
      "text/html": [
       "<div>\n",
       "<style scoped>\n",
       "    .dataframe tbody tr th:only-of-type {\n",
       "        vertical-align: middle;\n",
       "    }\n",
       "\n",
       "    .dataframe tbody tr th {\n",
       "        vertical-align: top;\n",
       "    }\n",
       "\n",
       "    .dataframe thead th {\n",
       "        text-align: right;\n",
       "    }\n",
       "</style>\n",
       "<table border=\"1\" class=\"dataframe\">\n",
       "  <thead>\n",
       "    <tr style=\"text-align: right;\">\n",
       "      <th></th>\n",
       "      <th>name</th>\n",
       "      <th>best_params</th>\n",
       "      <th>best_score</th>\n",
       "      <th>run_time</th>\n",
       "    </tr>\n",
       "  </thead>\n",
       "  <tbody>\n",
       "    <tr>\n",
       "      <th>0</th>\n",
       "      <td>GridSearchCV</td>\n",
       "      <td>{'C': 1, 'gamma': 0.01, 'kernel': 'rbf'}</td>\n",
       "      <td>0.682000</td>\n",
       "      <td>7.371120</td>\n",
       "    </tr>\n",
       "    <tr>\n",
       "      <th>1</th>\n",
       "      <td>RandomizedSearchCV</td>\n",
       "      <td>{'C': 64.96847871354835, 'gamma': 0.0121961641...</td>\n",
       "      <td>0.620000</td>\n",
       "      <td>8.891215</td>\n",
       "    </tr>\n",
       "    <tr>\n",
       "      <th>2</th>\n",
       "      <td>HalvingRandomSearchCV</td>\n",
       "      <td>{'C': 19.578897201212996, 'gamma': 0.027389695...</td>\n",
       "      <td>0.542579</td>\n",
       "      <td>2.354873</td>\n",
       "    </tr>\n",
       "    <tr>\n",
       "      <th>3</th>\n",
       "      <td>HalvingGridSearchCV</td>\n",
       "      <td>{'C': 1, 'gamma': 0.001, 'kernel': 'rbf'}</td>\n",
       "      <td>0.617024</td>\n",
       "      <td>0.089458</td>\n",
       "    </tr>\n",
       "  </tbody>\n",
       "</table>\n",
       "</div>"
      ],
      "text/plain": [
       "                    name                                        best_params  \\\n",
       "0           GridSearchCV           {'C': 1, 'gamma': 0.01, 'kernel': 'rbf'}   \n",
       "1     RandomizedSearchCV  {'C': 64.96847871354835, 'gamma': 0.0121961641...   \n",
       "2  HalvingRandomSearchCV  {'C': 19.578897201212996, 'gamma': 0.027389695...   \n",
       "3    HalvingGridSearchCV          {'C': 1, 'gamma': 0.001, 'kernel': 'rbf'}   \n",
       "\n",
       "   best_score  run_time  \n",
       "0    0.682000  7.371120  \n",
       "1    0.620000  8.891215  \n",
       "2    0.542579  2.354873  \n",
       "3    0.617024  0.089458  "
      ]
     },
     "execution_count": 162,
     "metadata": {},
     "output_type": "execute_result"
    }
   ],
   "source": [
    "comparing_with_custom_metric = CompareSearchMethods(X,y,metric_score = 'roc_auc')\n",
    "\n",
    "comparing_with_custom_metric = comparing_with_custom_metric.run_and_show_results()\n",
    "comparing_with_custom_metric"
   ]
  },
  {
   "cell_type": "markdown",
   "id": "4aa3e513",
   "metadata": {},
   "source": [
    "### Custom estimator\n",
    "\n",
    "Default estimator is SVM, but you can change it as well. Just be sure that you have also changed parameter spaces."
   ]
  },
  {
   "cell_type": "code",
   "execution_count": 173,
   "id": "70a425f2",
   "metadata": {},
   "outputs": [
    {
     "name": "stderr",
     "output_type": "stream",
     "text": [
      "100%|█████████████████████████████████████████████| 4/4 [00:11<00:00,  2.80s/it]\n"
     ]
    },
    {
     "data": {
      "text/html": [
       "<div>\n",
       "<style scoped>\n",
       "    .dataframe tbody tr th:only-of-type {\n",
       "        vertical-align: middle;\n",
       "    }\n",
       "\n",
       "    .dataframe tbody tr th {\n",
       "        vertical-align: top;\n",
       "    }\n",
       "\n",
       "    .dataframe thead th {\n",
       "        text-align: right;\n",
       "    }\n",
       "</style>\n",
       "<table border=\"1\" class=\"dataframe\">\n",
       "  <thead>\n",
       "    <tr style=\"text-align: right;\">\n",
       "      <th></th>\n",
       "      <th>name</th>\n",
       "      <th>best_params</th>\n",
       "      <th>best_score</th>\n",
       "      <th>run_time</th>\n",
       "    </tr>\n",
       "  </thead>\n",
       "  <tbody>\n",
       "    <tr>\n",
       "      <th>0</th>\n",
       "      <td>GridSearchCV</td>\n",
       "      <td>{'bootstrap': True, 'max_depth': 110, 'max_fea...</td>\n",
       "      <td>0.640000</td>\n",
       "      <td>4.204950</td>\n",
       "    </tr>\n",
       "    <tr>\n",
       "      <th>1</th>\n",
       "      <td>RandomizedSearchCV</td>\n",
       "      <td>{'n_estimators': 400, 'min_samples_leaf': 4, '...</td>\n",
       "      <td>0.640000</td>\n",
       "      <td>1.790703</td>\n",
       "    </tr>\n",
       "    <tr>\n",
       "      <th>2</th>\n",
       "      <td>HalvingRandomSearchCV</td>\n",
       "      <td>{'n_estimators': 200, 'min_samples_leaf': 4, '...</td>\n",
       "      <td>0.633333</td>\n",
       "      <td>1.173431</td>\n",
       "    </tr>\n",
       "    <tr>\n",
       "      <th>3</th>\n",
       "      <td>HalvingGridSearchCV</td>\n",
       "      <td>{'bootstrap': True, 'max_depth': 110, 'max_fea...</td>\n",
       "      <td>0.666667</td>\n",
       "      <td>4.011535</td>\n",
       "    </tr>\n",
       "  </tbody>\n",
       "</table>\n",
       "</div>"
      ],
      "text/plain": [
       "                    name                                        best_params  \\\n",
       "0           GridSearchCV  {'bootstrap': True, 'max_depth': 110, 'max_fea...   \n",
       "1     RandomizedSearchCV  {'n_estimators': 400, 'min_samples_leaf': 4, '...   \n",
       "2  HalvingRandomSearchCV  {'n_estimators': 200, 'min_samples_leaf': 4, '...   \n",
       "3    HalvingGridSearchCV  {'bootstrap': True, 'max_depth': 110, 'max_fea...   \n",
       "\n",
       "   best_score  run_time  \n",
       "0    0.640000  4.204950  \n",
       "1    0.640000  1.790703  \n",
       "2    0.633333  1.173431  \n",
       "3    0.666667  4.011535  "
      ]
     },
     "execution_count": 173,
     "metadata": {},
     "output_type": "execute_result"
    }
   ],
   "source": [
    "random_grid = {'bootstrap': [False],\n",
    " 'max_depth': [10, 20,  None],\n",
    " 'max_features': ['auto', 'sqrt'],\n",
    " 'min_samples_leaf': [1,4],\n",
    " 'n_estimators': [200, 400]}\n",
    "\n",
    "param_grid = {\n",
    "    'bootstrap': [True],\n",
    "    'max_depth': [80, 110],\n",
    "    'max_features': [2, 3],\n",
    "    'min_samples_split': [8, 10, 12],\n",
    "    'n_estimators': [100, 200]\n",
    "}\n",
    "\n",
    "comparing_with_custom_estr = CompareSearchMethods(X, y, estimator = RandomForestClassifier(), random_p_space = random_grid, grid_p_space = param_grid)\n",
    "\n",
    "result_df_with_custom_estr  = comparing_with_custom_estr.run_and_show_results()\n",
    "result_df_with_custom_estr"
   ]
  },
  {
   "cell_type": "markdown",
   "id": "62637c08",
   "metadata": {},
   "source": [
    "# Conclusion"
   ]
  },
  {
   "cell_type": "markdown",
   "id": "5ca085ca",
   "metadata": {},
   "source": [
    "I think that, among the four approaches, HalvingRandomSearchCV is very useful because it’s faster and, since it doesn’t reach the best point in the grid, it avoids overfitting and is more able to generalize. However, for small grids (i.e. less than 200 points) I suggest using HalvingGridSearchCV if the training phase is not too slow. For the general-purpose cases, the random search may increase training speed and reach a reasonably good solution for our model.\n",
    "\n"
   ]
  }
 ],
 "metadata": {
  "kernelspec": {
   "display_name": "Python 3 (ipykernel)",
   "language": "python",
   "name": "python3"
  },
  "language_info": {
   "codemirror_mode": {
    "name": "ipython",
    "version": 3
   },
   "file_extension": ".py",
   "mimetype": "text/x-python",
   "name": "python",
   "nbconvert_exporter": "python",
   "pygments_lexer": "ipython3",
   "version": "3.9.12"
  }
 },
 "nbformat": 4,
 "nbformat_minor": 5
}
